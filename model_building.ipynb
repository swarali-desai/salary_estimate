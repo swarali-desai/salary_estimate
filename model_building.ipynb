{
 "cells": [
  {
   "cell_type": "markdown",
   "metadata": {},
   "source": [
    "part of project salary estimate for data science roles\n",
    "author: Swarali Desai\n",
    "dated: 05/09/2020"
   ]
  },
  {
   "cell_type": "code",
   "execution_count": 1,
   "metadata": {},
   "outputs": [],
   "source": [
    "import numpy as np\n",
    "import pandas as pd\n",
    "import matplotlib.pyplot as plt\n",
    "from sklearn.model_selection import train_test_split\n",
    "import statsmodels.api as sm\n",
    "from sklearn.linear_model import LinearRegression, Lasso\n",
    "from sklearn.model_selection import cross_val_score\n",
    "from sklearn.ensemble import RandomForestRegressor\n",
    "from sklearn.model_selection import GridSearchCV\n",
    "from sklearn.metrics import mean_absolute_error"
   ]
  },
  {
   "cell_type": "code",
   "execution_count": 2,
   "metadata": {},
   "outputs": [],
   "source": [
    "import warnings\n",
    "warnings.filterwarnings('ignore')"
   ]
  },
  {
   "cell_type": "code",
   "execution_count": 3,
   "metadata": {},
   "outputs": [],
   "source": [
    "df = pd.read_csv('csv_files/salary_data_eda.csv')"
   ]
  },
  {
   "cell_type": "code",
   "execution_count": 4,
   "metadata": {},
   "outputs": [],
   "source": [
    "# choose relevant columns\n",
    "df_model = df[['avg_salary', 'Location','Industry','Sector','Revenue', 'Size','age' ,'python', 'sas', 'aws', 'spark',\n",
    "       'sql', 'tableau', 'tensorflow', 'nltk', 'power bi', 'excel', 'hadoop',\n",
    "       'azure', 'scikit-learn', 'r_prog', 'degree_req', 'job_simplifier', 'seniority', 'desc_len', 'competitor_count']]"
   ]
  },
  {
   "cell_type": "code",
   "execution_count": 5,
   "metadata": {},
   "outputs": [
    {
     "name": "stdout",
     "output_type": "stream",
     "text": [
      "151\n"
     ]
    }
   ],
   "source": [
    "# get dummy data for categorical variable\n",
    "df_dummies = pd.get_dummies(df_model)\n",
    "print(len(df_dummies.columns))"
   ]
  },
  {
   "cell_type": "code",
   "execution_count": 6,
   "metadata": {},
   "outputs": [],
   "source": [
    "# train test split\n",
    "X = df_dummies.drop('avg_salary', axis=1)\n",
    "y = df_dummies.avg_salary.values\n",
    "X_train, X_test, y_train, y_test = train_test_split(X, y, test_size=0.2, random_state=42)"
   ]
  },
  {
   "cell_type": "code",
   "execution_count": 7,
   "metadata": {},
   "outputs": [
    {
     "data": {
      "text/html": [
       "<table class=\"simpletable\">\n",
       "<caption>OLS Regression Results</caption>\n",
       "<tr>\n",
       "  <th>Dep. Variable:</th>            <td>y</td>        <th>  R-squared:         </th> <td>   0.490</td> \n",
       "</tr>\n",
       "<tr>\n",
       "  <th>Model:</th>                   <td>OLS</td>       <th>  Adj. R-squared:    </th> <td>   0.304</td> \n",
       "</tr>\n",
       "<tr>\n",
       "  <th>Method:</th>             <td>Least Squares</td>  <th>  F-statistic:       </th> <td>   2.628</td> \n",
       "</tr>\n",
       "<tr>\n",
       "  <th>Date:</th>             <td>Wed, 09 Sep 2020</td> <th>  Prob (F-statistic):</th> <td>1.22e-12</td> \n",
       "</tr>\n",
       "<tr>\n",
       "  <th>Time:</th>                 <td>14:20:44</td>     <th>  Log-Likelihood:    </th> <td> -6902.9</td> \n",
       "</tr>\n",
       "<tr>\n",
       "  <th>No. Observations:</th>      <td>   475</td>      <th>  AIC:               </th> <td>1.406e+04</td>\n",
       "</tr>\n",
       "<tr>\n",
       "  <th>Df Residuals:</th>          <td>   347</td>      <th>  BIC:               </th> <td>1.459e+04</td>\n",
       "</tr>\n",
       "<tr>\n",
       "  <th>Df Model:</th>              <td>   127</td>      <th>                     </th>     <td> </td>    \n",
       "</tr>\n",
       "<tr>\n",
       "  <th>Covariance Type:</th>      <td>nonrobust</td>    <th>                     </th>     <td> </td>    \n",
       "</tr>\n",
       "</table>\n",
       "<table class=\"simpletable\">\n",
       "<tr>\n",
       "                          <td></td>                            <th>coef</th>     <th>std err</th>      <th>t</th>      <th>P>|t|</th>  <th>[0.025</th>    <th>0.975]</th>  \n",
       "</tr>\n",
       "<tr>\n",
       "  <th>const</th>                                            <td> 5.088e+05</td> <td> 1.22e+05</td> <td>    4.160</td> <td> 0.000</td> <td> 2.68e+05</td> <td> 7.49e+05</td>\n",
       "</tr>\n",
       "<tr>\n",
       "  <th>age</th>                                              <td> 2555.9574</td> <td> 1003.342</td> <td>    2.547</td> <td> 0.011</td> <td>  582.561</td> <td> 4529.354</td>\n",
       "</tr>\n",
       "<tr>\n",
       "  <th>python</th>                                           <td>-6.595e+04</td> <td> 8.34e+04</td> <td>   -0.791</td> <td> 0.429</td> <td> -2.3e+05</td> <td>  9.8e+04</td>\n",
       "</tr>\n",
       "<tr>\n",
       "  <th>sas</th>                                              <td>-2.945e+04</td> <td> 1.26e+05</td> <td>   -0.234</td> <td> 0.815</td> <td>-2.76e+05</td> <td> 2.18e+05</td>\n",
       "</tr>\n",
       "<tr>\n",
       "  <th>aws</th>                                              <td> 1.075e+05</td> <td> 8.29e+04</td> <td>    1.296</td> <td> 0.196</td> <td>-5.56e+04</td> <td> 2.71e+05</td>\n",
       "</tr>\n",
       "<tr>\n",
       "  <th>spark</th>                                            <td>-1.621e+04</td> <td> 1.03e+05</td> <td>   -0.158</td> <td> 0.875</td> <td>-2.19e+05</td> <td> 1.86e+05</td>\n",
       "</tr>\n",
       "<tr>\n",
       "  <th>sql</th>                                              <td>-1.587e+05</td> <td> 8.01e+04</td> <td>   -1.982</td> <td> 0.048</td> <td>-3.16e+05</td> <td>-1227.361</td>\n",
       "</tr>\n",
       "<tr>\n",
       "  <th>tableau</th>                                          <td> 1.153e+05</td> <td> 1.01e+05</td> <td>    1.145</td> <td> 0.253</td> <td>-8.28e+04</td> <td> 3.13e+05</td>\n",
       "</tr>\n",
       "<tr>\n",
       "  <th>tensorflow</th>                                       <td>-2.589e+04</td> <td> 1.11e+05</td> <td>   -0.233</td> <td> 0.816</td> <td>-2.45e+05</td> <td> 1.93e+05</td>\n",
       "</tr>\n",
       "<tr>\n",
       "  <th>nltk</th>                                             <td>-1.236e+05</td> <td> 2.03e+05</td> <td>   -0.610</td> <td> 0.542</td> <td>-5.22e+05</td> <td> 2.75e+05</td>\n",
       "</tr>\n",
       "<tr>\n",
       "  <th>power bi</th>                                         <td> 1.745e+05</td> <td> 1.53e+05</td> <td>    1.138</td> <td> 0.256</td> <td>-1.27e+05</td> <td> 4.76e+05</td>\n",
       "</tr>\n",
       "<tr>\n",
       "  <th>excel</th>                                            <td>-9.269e+04</td> <td> 6.56e+04</td> <td>   -1.414</td> <td> 0.158</td> <td>-2.22e+05</td> <td> 3.63e+04</td>\n",
       "</tr>\n",
       "<tr>\n",
       "  <th>hadoop</th>                                           <td> 6.245e+04</td> <td> 1.04e+05</td> <td>    0.602</td> <td> 0.547</td> <td>-1.41e+05</td> <td> 2.66e+05</td>\n",
       "</tr>\n",
       "<tr>\n",
       "  <th>azure</th>                                            <td> -1.31e+05</td> <td> 1.13e+05</td> <td>   -1.158</td> <td> 0.248</td> <td>-3.54e+05</td> <td> 9.15e+04</td>\n",
       "</tr>\n",
       "<tr>\n",
       "  <th>scikit-learn</th>                                     <td> 3.498e+05</td> <td> 1.62e+05</td> <td>    2.154</td> <td> 0.032</td> <td> 3.03e+04</td> <td> 6.69e+05</td>\n",
       "</tr>\n",
       "<tr>\n",
       "  <th>r_prog</th>                                           <td> 2.607e+04</td> <td> 9.27e+04</td> <td>    0.281</td> <td> 0.779</td> <td>-1.56e+05</td> <td> 2.08e+05</td>\n",
       "</tr>\n",
       "<tr>\n",
       "  <th>degree_req</th>                                       <td> 1.857e+04</td> <td> 1.33e+05</td> <td>    0.139</td> <td> 0.889</td> <td>-2.43e+05</td> <td> 2.81e+05</td>\n",
       "</tr>\n",
       "<tr>\n",
       "  <th>desc_len</th>                                         <td>   45.7675</td> <td>   24.103</td> <td>    1.899</td> <td> 0.058</td> <td>   -1.639</td> <td>   93.174</td>\n",
       "</tr>\n",
       "<tr>\n",
       "  <th>competitor_count</th>                                 <td> 1.055e+05</td> <td> 6.47e+04</td> <td>    1.631</td> <td> 0.104</td> <td>-2.18e+04</td> <td> 2.33e+05</td>\n",
       "</tr>\n",
       "<tr>\n",
       "  <th>Location_Ahmedabad</th>                               <td> 1.782e+05</td> <td> 2.89e+05</td> <td>    0.617</td> <td> 0.538</td> <td> -3.9e+05</td> <td> 7.46e+05</td>\n",
       "</tr>\n",
       "<tr>\n",
       "  <th>Location_Andheri</th>                                 <td>-5.175e+05</td> <td> 8.67e+05</td> <td>   -0.597</td> <td> 0.551</td> <td>-2.22e+06</td> <td> 1.19e+06</td>\n",
       "</tr>\n",
       "<tr>\n",
       "  <th>Location_Andhra Pradesh</th>                          <td> 1.454e+05</td> <td> 6.45e+05</td> <td>    0.225</td> <td> 0.822</td> <td>-1.12e+06</td> <td> 1.41e+06</td>\n",
       "</tr>\n",
       "<tr>\n",
       "  <th>Location_Bagalur</th>                                 <td> 2.446e+05</td> <td> 5.97e+05</td> <td>    0.410</td> <td> 0.682</td> <td> -9.3e+05</td> <td> 1.42e+06</td>\n",
       "</tr>\n",
       "<tr>\n",
       "  <th>Location_Bengaluru</th>                               <td> 2.089e+05</td> <td> 1.03e+05</td> <td>    2.032</td> <td> 0.043</td> <td> 6691.923</td> <td> 4.11e+05</td>\n",
       "</tr>\n",
       "<tr>\n",
       "  <th>Location_Bhubaneswar</th>                             <td>-5.171e+04</td> <td> 6.09e+05</td> <td>   -0.085</td> <td> 0.932</td> <td>-1.25e+06</td> <td> 1.15e+06</td>\n",
       "</tr>\n",
       "<tr>\n",
       "  <th>Location_Chandigarh</th>                              <td> 1.324e+05</td> <td> 3.97e+05</td> <td>    0.334</td> <td> 0.739</td> <td>-6.48e+05</td> <td> 9.13e+05</td>\n",
       "</tr>\n",
       "<tr>\n",
       "  <th>Location_Chennai</th>                                 <td>-7488.9854</td> <td> 1.37e+05</td> <td>   -0.055</td> <td> 0.956</td> <td>-2.77e+05</td> <td> 2.62e+05</td>\n",
       "</tr>\n",
       "<tr>\n",
       "  <th>Location_Chhota Udaipur</th>                          <td>-6.144e+05</td> <td> 6.23e+05</td> <td>   -0.986</td> <td> 0.325</td> <td>-1.84e+06</td> <td> 6.12e+05</td>\n",
       "</tr>\n",
       "<tr>\n",
       "  <th>Location_Coimbatore</th>                              <td> 4.119e+05</td> <td> 5.98e+05</td> <td>    0.689</td> <td> 0.491</td> <td>-7.64e+05</td> <td> 1.59e+06</td>\n",
       "</tr>\n",
       "<tr>\n",
       "  <th>Location_Ernakulam</th>                               <td>-4.967e+05</td> <td> 5.97e+05</td> <td>   -0.832</td> <td> 0.406</td> <td>-1.67e+06</td> <td> 6.78e+05</td>\n",
       "</tr>\n",
       "<tr>\n",
       "  <th>Location_Gurgaon</th>                                 <td> 1.248e+05</td> <td> 1.41e+05</td> <td>    0.884</td> <td> 0.377</td> <td>-1.53e+05</td> <td> 4.02e+05</td>\n",
       "</tr>\n",
       "<tr>\n",
       "  <th>Location_Hiranandani Gardens</th>                     <td> 3.121e+04</td> <td>  7.1e+05</td> <td>    0.044</td> <td> 0.965</td> <td>-1.36e+06</td> <td> 1.43e+06</td>\n",
       "</tr>\n",
       "<tr>\n",
       "  <th>Location_Hyderabad</th>                               <td> 3.227e+05</td> <td> 1.24e+05</td> <td>    2.612</td> <td> 0.009</td> <td> 7.97e+04</td> <td> 5.66e+05</td>\n",
       "</tr>\n",
       "<tr>\n",
       "  <th>Location_India</th>                                   <td> 1.367e+05</td> <td> 1.94e+05</td> <td>    0.706</td> <td> 0.481</td> <td>-2.44e+05</td> <td> 5.18e+05</td>\n",
       "</tr>\n",
       "<tr>\n",
       "  <th>Location_Indore</th>                                  <td> 7.986e+04</td> <td> 5.97e+05</td> <td>    0.134</td> <td> 0.894</td> <td>-1.09e+06</td> <td> 1.25e+06</td>\n",
       "</tr>\n",
       "<tr>\n",
       "  <th>Location_Jaipur</th>                                  <td>-3.824e+05</td> <td> 2.63e+05</td> <td>   -1.451</td> <td> 0.148</td> <td>-9.01e+05</td> <td> 1.36e+05</td>\n",
       "</tr>\n",
       "<tr>\n",
       "  <th>Location_Kanpur Nagar</th>                            <td>   2.4e+05</td> <td> 4.45e+05</td> <td>    0.540</td> <td> 0.590</td> <td>-6.35e+05</td> <td> 1.12e+06</td>\n",
       "</tr>\n",
       "<tr>\n",
       "  <th>Location_Kharar</th>                                  <td>-1.678e+06</td> <td> 7.68e+05</td> <td>   -2.185</td> <td> 0.030</td> <td>-3.19e+06</td> <td>-1.68e+05</td>\n",
       "</tr>\n",
       "<tr>\n",
       "  <th>Location_Kochi</th>                                   <td>-3.497e+04</td> <td> 2.82e+05</td> <td>   -0.124</td> <td> 0.901</td> <td> -5.9e+05</td> <td>  5.2e+05</td>\n",
       "</tr>\n",
       "<tr>\n",
       "  <th>Location_Kolkata</th>                                 <td> 7.174e+04</td> <td>  4.4e+05</td> <td>    0.163</td> <td> 0.871</td> <td>-7.94e+05</td> <td> 9.38e+05</td>\n",
       "</tr>\n",
       "<tr>\n",
       "  <th>Location_Mumbai</th>                                  <td> 6003.7804</td> <td> 1.53e+05</td> <td>    0.039</td> <td> 0.969</td> <td>-2.94e+05</td> <td> 3.06e+05</td>\n",
       "</tr>\n",
       "<tr>\n",
       "  <th>Location_New Delhi</th>                               <td> 1.791e+05</td> <td>  2.5e+05</td> <td>    0.716</td> <td> 0.474</td> <td>-3.13e+05</td> <td> 6.71e+05</td>\n",
       "</tr>\n",
       "<tr>\n",
       "  <th>Location_Noida</th>                                   <td> 1.188e+05</td> <td> 2.03e+05</td> <td>    0.586</td> <td> 0.558</td> <td> -2.8e+05</td> <td> 5.17e+05</td>\n",
       "</tr>\n",
       "<tr>\n",
       "  <th>Location_Pune</th>                                    <td> 3.649e+05</td> <td>  1.4e+05</td> <td>    2.610</td> <td> 0.009</td> <td> 8.99e+04</td> <td>  6.4e+05</td>\n",
       "</tr>\n",
       "<tr>\n",
       "  <th>Location_SAS Nagar</th>                               <td>-2203.3463</td> <td> 4.41e+05</td> <td>   -0.005</td> <td> 0.996</td> <td> -8.7e+05</td> <td> 8.65e+05</td>\n",
       "</tr>\n",
       "<tr>\n",
       "  <th>Location_Tamil Nadu</th>                              <td>  6.96e+05</td> <td> 8.56e+05</td> <td>    0.813</td> <td> 0.417</td> <td>-9.88e+05</td> <td> 2.38e+06</td>\n",
       "</tr>\n",
       "<tr>\n",
       "  <th>Location_Thiruvananthapuram</th>                      <td> 5.566e+05</td> <td>  3.7e+05</td> <td>    1.506</td> <td> 0.133</td> <td>-1.71e+05</td> <td> 1.28e+06</td>\n",
       "</tr>\n",
       "<tr>\n",
       "  <th>Location_Vadodara</th>                                <td> 4.431e+04</td> <td> 5.82e+05</td> <td>    0.076</td> <td> 0.939</td> <td> -1.1e+06</td> <td> 1.19e+06</td>\n",
       "</tr>\n",
       "<tr>\n",
       "  <th>Industry_-1</th>                                      <td>-7.032e+04</td> <td> 8.43e+04</td> <td>   -0.834</td> <td> 0.405</td> <td>-2.36e+05</td> <td> 9.54e+04</td>\n",
       "</tr>\n",
       "<tr>\n",
       "  <th>Industry_Advertising & Marketing</th>                 <td> 7.685e+04</td> <td> 3.22e+05</td> <td>    0.238</td> <td> 0.812</td> <td>-5.57e+05</td> <td> 7.11e+05</td>\n",
       "</tr>\n",
       "<tr>\n",
       "  <th>Industry_Aerospace & Defence</th>                     <td> 2.808e+05</td> <td> 3.33e+05</td> <td>    0.844</td> <td> 0.400</td> <td>-3.74e+05</td> <td> 9.35e+05</td>\n",
       "</tr>\n",
       "<tr>\n",
       "  <th>Industry_Architectural & Engineering Services</th>    <td>  6.36e+05</td> <td> 4.06e+05</td> <td>    1.567</td> <td> 0.118</td> <td>-1.62e+05</td> <td> 1.43e+06</td>\n",
       "</tr>\n",
       "<tr>\n",
       "  <th>Industry_Banks & Building Societies</th>              <td>-1.777e+05</td> <td> 5.74e+05</td> <td>   -0.310</td> <td> 0.757</td> <td>-1.31e+06</td> <td> 9.51e+05</td>\n",
       "</tr>\n",
       "<tr>\n",
       "  <th>Industry_Banks & Credit Unions</th>                   <td> 1.217e+04</td> <td> 2.75e+05</td> <td>    0.044</td> <td> 0.965</td> <td>-5.29e+05</td> <td> 5.54e+05</td>\n",
       "</tr>\n",
       "<tr>\n",
       "  <th>Industry_Biotech & Pharmaceuticals</th>               <td>-2.905e+05</td> <td> 9.09e+04</td> <td>   -3.195</td> <td> 0.002</td> <td>-4.69e+05</td> <td>-1.12e+05</td>\n",
       "</tr>\n",
       "<tr>\n",
       "  <th>Industry_Brokerage Services</th>                      <td>-2.057e+05</td> <td> 5.72e+05</td> <td>   -0.360</td> <td> 0.719</td> <td>-1.33e+06</td> <td> 9.19e+05</td>\n",
       "</tr>\n",
       "<tr>\n",
       "  <th>Industry_Cable, Internet & Telephone Providers</th>   <td> 6.723e+05</td> <td> 4.57e+05</td> <td>    1.470</td> <td> 0.143</td> <td>-2.27e+05</td> <td> 1.57e+06</td>\n",
       "</tr>\n",
       "<tr>\n",
       "  <th>Industry_Chemical Manufacturing</th>                  <td> 2.362e+05</td> <td> 6.26e+05</td> <td>    0.377</td> <td> 0.706</td> <td>-9.95e+05</td> <td> 1.47e+06</td>\n",
       "</tr>\n",
       "<tr>\n",
       "  <th>Industry_Colleges & Universities</th>                 <td> 7.978e+05</td> <td> 3.41e+05</td> <td>    2.340</td> <td> 0.020</td> <td> 1.27e+05</td> <td> 1.47e+06</td>\n",
       "</tr>\n",
       "<tr>\n",
       "  <th>Industry_Computer Hardware & Software</th>            <td>-5.133e+04</td> <td> 7.37e+04</td> <td>   -0.696</td> <td> 0.487</td> <td>-1.96e+05</td> <td> 9.37e+04</td>\n",
       "</tr>\n",
       "<tr>\n",
       "  <th>Industry_Consulting</th>                              <td>  4.02e+04</td> <td> 1.72e+05</td> <td>    0.234</td> <td> 0.815</td> <td>-2.97e+05</td> <td> 3.78e+05</td>\n",
       "</tr>\n",
       "<tr>\n",
       "  <th>Industry_Consumer Products Manufacturing</th>         <td>-6.557e+05</td> <td> 4.32e+05</td> <td>   -1.518</td> <td> 0.130</td> <td>-1.51e+06</td> <td> 1.94e+05</td>\n",
       "</tr>\n",
       "<tr>\n",
       "  <th>Industry_Department, Clothing, & Shoe Stores</th>     <td> 6622.4930</td> <td> 4.53e+05</td> <td>    0.015</td> <td> 0.988</td> <td>-8.85e+05</td> <td> 8.98e+05</td>\n",
       "</tr>\n",
       "<tr>\n",
       "  <th>Industry_Electrical & Electronic Manufacturing</th>   <td> 1.538e+04</td> <td>  5.3e+05</td> <td>    0.029</td> <td> 0.977</td> <td>-1.03e+06</td> <td> 1.06e+06</td>\n",
       "</tr>\n",
       "<tr>\n",
       "  <th>Industry_Energy</th>                                  <td>-1.065e+06</td> <td> 4.63e+05</td> <td>   -2.300</td> <td> 0.022</td> <td>-1.98e+06</td> <td>-1.54e+05</td>\n",
       "</tr>\n",
       "<tr>\n",
       "  <th>Industry_Enterprise Software & Network Solutions</th> <td> 1.037e+04</td> <td>  9.2e+04</td> <td>    0.113</td> <td> 0.910</td> <td>-1.71e+05</td> <td> 1.91e+05</td>\n",
       "</tr>\n",
       "<tr>\n",
       "  <th>Industry_Farm Support Services</th>                   <td> 8.805e+05</td> <td> 4.93e+05</td> <td>    1.786</td> <td> 0.075</td> <td> -8.9e+04</td> <td> 1.85e+06</td>\n",
       "</tr>\n",
       "<tr>\n",
       "  <th>Industry_Financial Analytics & Research</th>          <td>-6.372e+05</td> <td> 3.44e+05</td> <td>   -1.853</td> <td> 0.065</td> <td>-1.31e+06</td> <td>  3.9e+04</td>\n",
       "</tr>\n",
       "<tr>\n",
       "  <th>Industry_Financial Transaction Processing</th>        <td>-6.124e+05</td> <td> 2.96e+05</td> <td>   -2.067</td> <td> 0.039</td> <td> -1.2e+06</td> <td>-2.97e+04</td>\n",
       "</tr>\n",
       "<tr>\n",
       "  <th>Industry_Food Production</th>                         <td>-9.422e+05</td> <td> 5.13e+05</td> <td>   -1.837</td> <td> 0.067</td> <td>-1.95e+06</td> <td> 6.65e+04</td>\n",
       "</tr>\n",
       "<tr>\n",
       "  <th>Industry_General Merchandise & Superstores</th>       <td>-2.044e+05</td> <td> 4.66e+05</td> <td>   -0.438</td> <td> 0.661</td> <td>-1.12e+06</td> <td> 7.13e+05</td>\n",
       "</tr>\n",
       "<tr>\n",
       "  <th>Industry_Health Care Services & Hospitals</th>        <td>-2.039e+05</td> <td> 1.04e+05</td> <td>   -1.966</td> <td> 0.050</td> <td>-4.08e+05</td> <td>   57.231</td>\n",
       "</tr>\n",
       "<tr>\n",
       "  <th>Industry_Healthcare Services & Hospitals</th>         <td>-1.065e+05</td> <td>  1.5e+05</td> <td>   -0.713</td> <td> 0.477</td> <td>-4.01e+05</td> <td> 1.88e+05</td>\n",
       "</tr>\n",
       "<tr>\n",
       "  <th>Industry_IT Services</th>                             <td>-1.792e+05</td> <td> 7.36e+04</td> <td>   -2.437</td> <td> 0.015</td> <td>-3.24e+05</td> <td>-3.46e+04</td>\n",
       "</tr>\n",
       "<tr>\n",
       "  <th>Industry_Industrial Manufacturing</th>                <td>-1.334e+05</td> <td> 5.31e+05</td> <td>   -0.251</td> <td> 0.802</td> <td>-1.18e+06</td> <td> 9.11e+05</td>\n",
       "</tr>\n",
       "<tr>\n",
       "  <th>Industry_Insurance Carriers</th>                      <td>-2.526e+05</td> <td> 1.81e+05</td> <td>   -1.398</td> <td> 0.163</td> <td>-6.08e+05</td> <td> 1.03e+05</td>\n",
       "</tr>\n",
       "<tr>\n",
       "  <th>Industry_Internet</th>                                <td> 1.787e+05</td> <td> 8.97e+04</td> <td>    1.993</td> <td> 0.047</td> <td> 2320.265</td> <td> 3.55e+05</td>\n",
       "</tr>\n",
       "<tr>\n",
       "  <th>Industry_Investment Banking & Asset Management</th>   <td>-2.559e+05</td> <td> 1.92e+05</td> <td>   -1.334</td> <td> 0.183</td> <td>-6.33e+05</td> <td> 1.21e+05</td>\n",
       "</tr>\n",
       "<tr>\n",
       "  <th>Industry_K-12 Education</th>                          <td>-5.228e+05</td> <td> 3.27e+05</td> <td>   -1.600</td> <td> 0.110</td> <td>-1.17e+06</td> <td>  1.2e+05</td>\n",
       "</tr>\n",
       "<tr>\n",
       "  <th>Industry_Lending</th>                                 <td> 1.892e+06</td> <td> 5.55e+05</td> <td>    3.406</td> <td> 0.001</td> <td> 7.99e+05</td> <td> 2.98e+06</td>\n",
       "</tr>\n",
       "<tr>\n",
       "  <th>Industry_Music Production & Distribution</th>         <td>-5.109e+04</td> <td> 4.21e+05</td> <td>   -0.121</td> <td> 0.903</td> <td>-8.78e+05</td> <td> 7.76e+05</td>\n",
       "</tr>\n",
       "<tr>\n",
       "  <th>Industry_Oil & Gas Exploration & Production</th>      <td> 1.941e+06</td> <td> 4.64e+05</td> <td>    4.185</td> <td> 0.000</td> <td> 1.03e+06</td> <td> 2.85e+06</td>\n",
       "</tr>\n",
       "<tr>\n",
       "  <th>Industry_Real Estate</th>                             <td> 1.816e+04</td> <td> 2.13e+05</td> <td>    0.085</td> <td> 0.932</td> <td>   -4e+05</td> <td> 4.37e+05</td>\n",
       "</tr>\n",
       "<tr>\n",
       "  <th>Industry_Research & Development</th>                  <td>-4.359e+05</td> <td> 3.87e+05</td> <td>   -1.127</td> <td> 0.261</td> <td> -1.2e+06</td> <td> 3.25e+05</td>\n",
       "</tr>\n",
       "<tr>\n",
       "  <th>Industry_Staffing & Outsourcing</th>                  <td> -4.12e+05</td> <td> 2.25e+05</td> <td>   -1.834</td> <td> 0.068</td> <td>-8.54e+05</td> <td> 2.98e+04</td>\n",
       "</tr>\n",
       "<tr>\n",
       "  <th>Industry_TV Broadcast & Cable Networks</th>           <td> 1.476e+06</td> <td> 5.04e+05</td> <td>    2.930</td> <td> 0.004</td> <td> 4.85e+05</td> <td> 2.47e+06</td>\n",
       "</tr>\n",
       "<tr>\n",
       "  <th>Industry_TV Broadcasting & Cable Networks</th>        <td> 1.585e+05</td> <td> 5.03e+05</td> <td>    0.315</td> <td> 0.753</td> <td> -8.3e+05</td> <td> 1.15e+06</td>\n",
       "</tr>\n",
       "<tr>\n",
       "  <th>Industry_Telecommunications Services</th>             <td>-3.913e+05</td> <td> 2.94e+05</td> <td>   -1.332</td> <td> 0.184</td> <td>-9.69e+05</td> <td> 1.87e+05</td>\n",
       "</tr>\n",
       "<tr>\n",
       "  <th>Industry_Video Games</th>                             <td>-9.636e+05</td> <td> 3.56e+05</td> <td>   -2.704</td> <td> 0.007</td> <td>-1.66e+06</td> <td>-2.63e+05</td>\n",
       "</tr>\n",
       "<tr>\n",
       "  <th>Sector_-1</th>                                        <td>-7.032e+04</td> <td> 8.43e+04</td> <td>   -0.834</td> <td> 0.405</td> <td>-2.36e+05</td> <td> 9.54e+04</td>\n",
       "</tr>\n",
       "<tr>\n",
       "  <th>Sector_Aerospace & Defence</th>                       <td> 2.808e+05</td> <td> 3.33e+05</td> <td>    0.844</td> <td> 0.400</td> <td>-3.74e+05</td> <td> 9.35e+05</td>\n",
       "</tr>\n",
       "<tr>\n",
       "  <th>Sector_Agriculture & Forestry</th>                    <td>-6.176e+04</td> <td> 2.99e+05</td> <td>   -0.207</td> <td> 0.836</td> <td> -6.5e+05</td> <td> 5.26e+05</td>\n",
       "</tr>\n",
       "<tr>\n",
       "  <th>Sector_Biotech & Pharmaceuticals</th>                 <td>-2.905e+05</td> <td> 9.09e+04</td> <td>   -3.195</td> <td> 0.002</td> <td>-4.69e+05</td> <td>-1.12e+05</td>\n",
       "</tr>\n",
       "<tr>\n",
       "  <th>Sector_Business Services</th>                         <td>-9.483e+04</td> <td> 1.37e+05</td> <td>   -0.690</td> <td> 0.491</td> <td>-3.65e+05</td> <td> 1.76e+05</td>\n",
       "</tr>\n",
       "<tr>\n",
       "  <th>Sector_Education</th>                                 <td>  2.75e+05</td> <td> 2.05e+05</td> <td>    1.341</td> <td> 0.181</td> <td>-1.28e+05</td> <td> 6.78e+05</td>\n",
       "</tr>\n",
       "<tr>\n",
       "  <th>Sector_Finance</th>                                   <td> 1.498e+04</td> <td>  1.6e+05</td> <td>    0.093</td> <td> 0.926</td> <td>   -3e+05</td> <td>  3.3e+05</td>\n",
       "</tr>\n",
       "<tr>\n",
       "  <th>Sector_Health Care</th>                               <td>-2.039e+05</td> <td> 1.04e+05</td> <td>   -1.966</td> <td> 0.050</td> <td>-4.08e+05</td> <td>   57.231</td>\n",
       "</tr>\n",
       "<tr>\n",
       "  <th>Sector_Healthcare</th>                                <td>-1.065e+05</td> <td>  1.5e+05</td> <td>   -0.713</td> <td> 0.477</td> <td>-4.01e+05</td> <td> 1.88e+05</td>\n",
       "</tr>\n",
       "<tr>\n",
       "  <th>Sector_Information Technology</th>                    <td>-4.149e+04</td> <td> 7.16e+04</td> <td>   -0.580</td> <td> 0.562</td> <td>-1.82e+05</td> <td> 9.93e+04</td>\n",
       "</tr>\n",
       "<tr>\n",
       "  <th>Sector_Insurance</th>                                 <td>-2.526e+05</td> <td> 1.81e+05</td> <td>   -1.398</td> <td> 0.163</td> <td>-6.08e+05</td> <td> 1.03e+05</td>\n",
       "</tr>\n",
       "<tr>\n",
       "  <th>Sector_Manufacturing</th>                             <td>-5.376e+05</td> <td> 2.29e+05</td> <td>   -2.349</td> <td> 0.019</td> <td>-9.88e+05</td> <td>-8.74e+04</td>\n",
       "</tr>\n",
       "<tr>\n",
       "  <th>Sector_Media</th>                                     <td> 6.198e+05</td> <td> 2.06e+05</td> <td>    3.005</td> <td> 0.003</td> <td> 2.14e+05</td> <td> 1.03e+06</td>\n",
       "</tr>\n",
       "<tr>\n",
       "  <th>Sector_Oil, Gas, Energy & Utilities</th>              <td> 8.764e+05</td> <td> 2.78e+05</td> <td>    3.151</td> <td> 0.002</td> <td> 3.29e+05</td> <td> 1.42e+06</td>\n",
       "</tr>\n",
       "<tr>\n",
       "  <th>Sector_Real Estate</th>                               <td> 1.816e+04</td> <td> 2.13e+05</td> <td>    0.085</td> <td> 0.932</td> <td>   -4e+05</td> <td> 4.37e+05</td>\n",
       "</tr>\n",
       "<tr>\n",
       "  <th>Sector_Retail</th>                                    <td>-1.978e+05</td> <td>  2.8e+05</td> <td>   -0.707</td> <td> 0.480</td> <td>-7.48e+05</td> <td> 3.52e+05</td>\n",
       "</tr>\n",
       "<tr>\n",
       "  <th>Sector_Telecommunications</th>                        <td>  2.81e+05</td> <td> 2.38e+05</td> <td>    1.183</td> <td> 0.238</td> <td>-1.86e+05</td> <td> 7.48e+05</td>\n",
       "</tr>\n",
       "<tr>\n",
       "  <th>Revenue_$1 to $2 billion (USD)</th>                   <td>-2.321e+05</td> <td> 2.32e+05</td> <td>   -1.001</td> <td> 0.318</td> <td>-6.88e+05</td> <td> 2.24e+05</td>\n",
       "</tr>\n",
       "<tr>\n",
       "  <th>Revenue_$1 to $5 million (USD)</th>                   <td> 2.816e+05</td> <td> 3.11e+05</td> <td>    0.906</td> <td> 0.366</td> <td> -3.3e+05</td> <td> 8.93e+05</td>\n",
       "</tr>\n",
       "<tr>\n",
       "  <th>Revenue_$10 to $25 million (USD)</th>                 <td>-2.869e+05</td> <td> 2.08e+05</td> <td>   -1.376</td> <td> 0.170</td> <td>-6.97e+05</td> <td> 1.23e+05</td>\n",
       "</tr>\n",
       "<tr>\n",
       "  <th>Revenue_$10+ billion (USD)</th>                       <td> 3.209e+05</td> <td> 1.72e+05</td> <td>    1.868</td> <td> 0.063</td> <td> -1.7e+04</td> <td> 6.59e+05</td>\n",
       "</tr>\n",
       "<tr>\n",
       "  <th>Revenue_$100 to $500 million (USD)</th>               <td>-3.765e+05</td> <td> 2.09e+05</td> <td>   -1.801</td> <td> 0.073</td> <td>-7.88e+05</td> <td> 3.46e+04</td>\n",
       "</tr>\n",
       "<tr>\n",
       "  <th>Revenue_$2 to $5 billion (USD)</th>                   <td>  2.09e+05</td> <td> 1.95e+05</td> <td>    1.073</td> <td> 0.284</td> <td>-1.74e+05</td> <td> 5.92e+05</td>\n",
       "</tr>\n",
       "<tr>\n",
       "  <th>Revenue_$25 to $50 million (USD)</th>                 <td>-1.557e+05</td> <td>  2.1e+05</td> <td>   -0.740</td> <td> 0.460</td> <td>-5.69e+05</td> <td> 2.58e+05</td>\n",
       "</tr>\n",
       "<tr>\n",
       "  <th>Revenue_$5 to $10 billion (USD)</th>                  <td> 5.632e+05</td> <td> 2.29e+05</td> <td>    2.459</td> <td> 0.014</td> <td> 1.13e+05</td> <td> 1.01e+06</td>\n",
       "</tr>\n",
       "<tr>\n",
       "  <th>Revenue_$5 to $10 million (USD)</th>                  <td>-2.229e+05</td> <td> 2.66e+05</td> <td>   -0.839</td> <td> 0.402</td> <td>-7.45e+05</td> <td>    3e+05</td>\n",
       "</tr>\n",
       "<tr>\n",
       "  <th>Revenue_$50 to $100 million (USD)</th>                <td>-2.732e+05</td> <td>  2.8e+05</td> <td>   -0.975</td> <td> 0.330</td> <td>-8.24e+05</td> <td> 2.78e+05</td>\n",
       "</tr>\n",
       "<tr>\n",
       "  <th>Revenue_$500 million to $1 billion (USD)</th>         <td> 2.347e+05</td> <td> 3.05e+05</td> <td>    0.768</td> <td> 0.443</td> <td>-3.66e+05</td> <td> 8.35e+05</td>\n",
       "</tr>\n",
       "<tr>\n",
       "  <th>Revenue_Less than $1 million (USD)</th>               <td> 2.245e+04</td> <td> 1.69e+05</td> <td>    0.133</td> <td> 0.894</td> <td> -3.1e+05</td> <td> 3.55e+05</td>\n",
       "</tr>\n",
       "<tr>\n",
       "  <th>Revenue_Unknown / Non-Applicable</th>                 <td>  5.21e+04</td> <td> 8.75e+04</td> <td>    0.596</td> <td> 0.552</td> <td> -1.2e+05</td> <td> 2.24e+05</td>\n",
       "</tr>\n",
       "<tr>\n",
       "  <th>Revenue_₹1 to ₹5 billion (INR)</th>                   <td>-8.543e+04</td> <td>  2.6e+05</td> <td>   -0.329</td> <td> 0.742</td> <td>-5.96e+05</td> <td> 4.25e+05</td>\n",
       "</tr>\n",
       "<tr>\n",
       "  <th>Revenue_₹10 to ₹50 billion (INR)</th>                 <td>-1.209e+05</td> <td> 3.25e+05</td> <td>   -0.372</td> <td> 0.710</td> <td> -7.6e+05</td> <td> 5.18e+05</td>\n",
       "</tr>\n",
       "<tr>\n",
       "  <th>Revenue_₹10 to ₹50 million (INR)</th>                 <td>-5.188e+05</td> <td> 4.17e+05</td> <td>   -1.245</td> <td> 0.214</td> <td>-1.34e+06</td> <td> 3.01e+05</td>\n",
       "</tr>\n",
       "<tr>\n",
       "  <th>Revenue_₹100 to ₹500 billion (INR)</th>               <td> 5.525e+04</td> <td>  2.9e+05</td> <td>    0.190</td> <td> 0.849</td> <td>-5.15e+05</td> <td> 6.26e+05</td>\n",
       "</tr>\n",
       "<tr>\n",
       "  <th>Revenue_₹100 to ₹500 million (INR)</th>               <td>-3.975e+05</td> <td> 6.04e+05</td> <td>   -0.658</td> <td> 0.511</td> <td>-1.59e+06</td> <td> 7.91e+05</td>\n",
       "</tr>\n",
       "<tr>\n",
       "  <th>Revenue_₹5 to ₹10 billion (INR)</th>                  <td>  8.16e+05</td> <td> 3.65e+05</td> <td>    2.236</td> <td> 0.026</td> <td> 9.81e+04</td> <td> 1.53e+06</td>\n",
       "</tr>\n",
       "<tr>\n",
       "  <th>Revenue_₹50 to ₹100 billion (INR)</th>                <td> 8.644e+04</td> <td> 4.24e+05</td> <td>    0.204</td> <td> 0.839</td> <td>-7.48e+05</td> <td> 9.21e+05</td>\n",
       "</tr>\n",
       "<tr>\n",
       "  <th>Revenue_₹500 million to ₹1 billion (INR)</th>         <td> 3.163e+05</td> <td> 5.95e+05</td> <td>    0.531</td> <td> 0.595</td> <td>-8.54e+05</td> <td> 1.49e+06</td>\n",
       "</tr>\n",
       "<tr>\n",
       "  <th>Revenue_₹500+ billion (INR)</th>                      <td> 2.207e+05</td> <td> 2.14e+05</td> <td>    1.030</td> <td> 0.304</td> <td>-2.01e+05</td> <td> 6.42e+05</td>\n",
       "</tr>\n",
       "<tr>\n",
       "  <th>Size_1 to 50 employees</th>                           <td>-1.691e+05</td> <td> 1.02e+05</td> <td>   -1.651</td> <td> 0.100</td> <td>-3.71e+05</td> <td> 3.24e+04</td>\n",
       "</tr>\n",
       "<tr>\n",
       "  <th>Size_10000+ employees</th>                            <td> -2.14e+05</td> <td> 1.37e+05</td> <td>   -1.565</td> <td> 0.119</td> <td>-4.83e+05</td> <td>  5.5e+04</td>\n",
       "</tr>\n",
       "<tr>\n",
       "  <th>Size_1001 to 5000 employees</th>                      <td> 1.275e+05</td> <td>  1.2e+05</td> <td>    1.064</td> <td> 0.288</td> <td>-1.08e+05</td> <td> 3.63e+05</td>\n",
       "</tr>\n",
       "<tr>\n",
       "  <th>Size_201 to 500 employees</th>                        <td> 2.517e+05</td> <td>  9.8e+04</td> <td>    2.568</td> <td> 0.011</td> <td> 5.89e+04</td> <td> 4.44e+05</td>\n",
       "</tr>\n",
       "<tr>\n",
       "  <th>Size_5001 to 10000 employees</th>                     <td> 1.451e+05</td> <td>  1.5e+05</td> <td>    0.968</td> <td> 0.333</td> <td> -1.5e+05</td> <td>  4.4e+05</td>\n",
       "</tr>\n",
       "<tr>\n",
       "  <th>Size_501 to 1000 employees</th>                       <td> 2.478e+05</td> <td> 1.19e+05</td> <td>    2.084</td> <td> 0.038</td> <td>  1.4e+04</td> <td> 4.82e+05</td>\n",
       "</tr>\n",
       "<tr>\n",
       "  <th>Size_51 to 200 employees</th>                         <td>  -1.2e+05</td> <td> 8.86e+04</td> <td>   -1.354</td> <td> 0.177</td> <td>-2.94e+05</td> <td> 5.43e+04</td>\n",
       "</tr>\n",
       "<tr>\n",
       "  <th>Size_unknown</th>                                     <td> 2.399e+05</td> <td> 1.98e+05</td> <td>    1.214</td> <td> 0.226</td> <td>-1.49e+05</td> <td> 6.29e+05</td>\n",
       "</tr>\n",
       "<tr>\n",
       "  <th>job_simplifier_AIE</th>                               <td>-3.178e+04</td> <td> 2.88e+05</td> <td>   -0.110</td> <td> 0.912</td> <td>-5.99e+05</td> <td> 5.35e+05</td>\n",
       "</tr>\n",
       "<tr>\n",
       "  <th>job_simplifier_BA</th>                                <td>-4.106e+04</td> <td> 1.13e+05</td> <td>   -0.364</td> <td> 0.716</td> <td>-2.63e+05</td> <td> 1.81e+05</td>\n",
       "</tr>\n",
       "<tr>\n",
       "  <th>job_simplifier_BDE</th>                               <td> 2.275e+05</td> <td> 1.23e+05</td> <td>    1.856</td> <td> 0.064</td> <td>-1.36e+04</td> <td> 4.68e+05</td>\n",
       "</tr>\n",
       "<tr>\n",
       "  <th>job_simplifier_DLE</th>                               <td>-2.533e+05</td> <td> 2.64e+05</td> <td>   -0.958</td> <td> 0.339</td> <td>-7.73e+05</td> <td> 2.67e+05</td>\n",
       "</tr>\n",
       "<tr>\n",
       "  <th>job_simplifier_MLE</th>                               <td>-3.577e+04</td> <td> 1.11e+05</td> <td>   -0.321</td> <td> 0.748</td> <td>-2.55e+05</td> <td> 1.83e+05</td>\n",
       "</tr>\n",
       "<tr>\n",
       "  <th>job_simplifier_NLPE</th>                              <td>   1.7e+05</td> <td> 2.45e+05</td> <td>    0.695</td> <td> 0.488</td> <td>-3.11e+05</td> <td> 6.51e+05</td>\n",
       "</tr>\n",
       "<tr>\n",
       "  <th>job_simplifier_data analyst</th>                      <td>-4.157e+04</td> <td> 9.66e+04</td> <td>   -0.431</td> <td> 0.667</td> <td>-2.31e+05</td> <td> 1.48e+05</td>\n",
       "</tr>\n",
       "<tr>\n",
       "  <th>job_simplifier_data engineer</th>                     <td> 1.357e+05</td> <td> 1.15e+05</td> <td>    1.183</td> <td> 0.238</td> <td>-8.99e+04</td> <td> 3.61e+05</td>\n",
       "</tr>\n",
       "<tr>\n",
       "  <th>job_simplifier_data scientist</th>                    <td> 2.178e+05</td> <td> 9.95e+04</td> <td>    2.189</td> <td> 0.029</td> <td> 2.21e+04</td> <td> 4.13e+05</td>\n",
       "</tr>\n",
       "<tr>\n",
       "  <th>job_simplifier_manager</th>                           <td> 1.836e+04</td> <td>    3e+05</td> <td>    0.061</td> <td> 0.951</td> <td>-5.71e+05</td> <td> 6.08e+05</td>\n",
       "</tr>\n",
       "<tr>\n",
       "  <th>job_simplifier_na</th>                                <td> 1.817e+05</td> <td> 9.56e+04</td> <td>    1.901</td> <td> 0.058</td> <td>-6299.707</td> <td>  3.7e+05</td>\n",
       "</tr>\n",
       "<tr>\n",
       "  <th>job_simplifier_software engineer</th>                 <td>-3.885e+04</td> <td> 1.37e+05</td> <td>   -0.284</td> <td> 0.777</td> <td>-3.08e+05</td> <td> 2.31e+05</td>\n",
       "</tr>\n",
       "<tr>\n",
       "  <th>seniority_junior</th>                                 <td>-5.237e+04</td> <td>  2.8e+05</td> <td>   -0.187</td> <td> 0.852</td> <td>-6.04e+05</td> <td> 4.99e+05</td>\n",
       "</tr>\n",
       "<tr>\n",
       "  <th>seniority_na</th>                                     <td> 1.649e+05</td> <td> 1.11e+05</td> <td>    1.483</td> <td> 0.139</td> <td>-5.37e+04</td> <td> 3.83e+05</td>\n",
       "</tr>\n",
       "<tr>\n",
       "  <th>seniority_senior</th>                                 <td> 3.963e+05</td> <td> 1.24e+05</td> <td>    3.187</td> <td> 0.002</td> <td> 1.52e+05</td> <td> 6.41e+05</td>\n",
       "</tr>\n",
       "</table>\n",
       "<table class=\"simpletable\">\n",
       "<tr>\n",
       "  <th>Omnibus:</th>       <td>239.269</td> <th>  Durbin-Watson:     </th> <td>   2.003</td>\n",
       "</tr>\n",
       "<tr>\n",
       "  <th>Prob(Omnibus):</th> <td> 0.000</td>  <th>  Jarque-Bera (JB):  </th> <td>3443.566</td>\n",
       "</tr>\n",
       "<tr>\n",
       "  <th>Skew:</th>          <td> 1.812</td>  <th>  Prob(JB):          </th> <td>    0.00</td>\n",
       "</tr>\n",
       "<tr>\n",
       "  <th>Kurtosis:</th>      <td>15.683</td>  <th>  Cond. No.          </th> <td>9.46e+18</td>\n",
       "</tr>\n",
       "</table><br/><br/>Warnings:<br/>[1] Standard Errors assume that the covariance matrix of the errors is correctly specified.<br/>[2] The smallest eigenvalue is 6.22e-29. This might indicate that there are<br/>strong multicollinearity problems or that the design matrix is singular."
      ],
      "text/plain": [
       "<class 'statsmodels.iolib.summary.Summary'>\n",
       "\"\"\"\n",
       "                            OLS Regression Results                            \n",
       "==============================================================================\n",
       "Dep. Variable:                      y   R-squared:                       0.490\n",
       "Model:                            OLS   Adj. R-squared:                  0.304\n",
       "Method:                 Least Squares   F-statistic:                     2.628\n",
       "Date:                Wed, 09 Sep 2020   Prob (F-statistic):           1.22e-12\n",
       "Time:                        14:20:44   Log-Likelihood:                -6902.9\n",
       "No. Observations:                 475   AIC:                         1.406e+04\n",
       "Df Residuals:                     347   BIC:                         1.459e+04\n",
       "Df Model:                         127                                         \n",
       "Covariance Type:            nonrobust                                         \n",
       "====================================================================================================================\n",
       "                                                       coef    std err          t      P>|t|      [0.025      0.975]\n",
       "--------------------------------------------------------------------------------------------------------------------\n",
       "const                                             5.088e+05   1.22e+05      4.160      0.000    2.68e+05    7.49e+05\n",
       "age                                               2555.9574   1003.342      2.547      0.011     582.561    4529.354\n",
       "python                                           -6.595e+04   8.34e+04     -0.791      0.429    -2.3e+05     9.8e+04\n",
       "sas                                              -2.945e+04   1.26e+05     -0.234      0.815   -2.76e+05    2.18e+05\n",
       "aws                                               1.075e+05   8.29e+04      1.296      0.196   -5.56e+04    2.71e+05\n",
       "spark                                            -1.621e+04   1.03e+05     -0.158      0.875   -2.19e+05    1.86e+05\n",
       "sql                                              -1.587e+05   8.01e+04     -1.982      0.048   -3.16e+05   -1227.361\n",
       "tableau                                           1.153e+05   1.01e+05      1.145      0.253   -8.28e+04    3.13e+05\n",
       "tensorflow                                       -2.589e+04   1.11e+05     -0.233      0.816   -2.45e+05    1.93e+05\n",
       "nltk                                             -1.236e+05   2.03e+05     -0.610      0.542   -5.22e+05    2.75e+05\n",
       "power bi                                          1.745e+05   1.53e+05      1.138      0.256   -1.27e+05    4.76e+05\n",
       "excel                                            -9.269e+04   6.56e+04     -1.414      0.158   -2.22e+05    3.63e+04\n",
       "hadoop                                            6.245e+04   1.04e+05      0.602      0.547   -1.41e+05    2.66e+05\n",
       "azure                                             -1.31e+05   1.13e+05     -1.158      0.248   -3.54e+05    9.15e+04\n",
       "scikit-learn                                      3.498e+05   1.62e+05      2.154      0.032    3.03e+04    6.69e+05\n",
       "r_prog                                            2.607e+04   9.27e+04      0.281      0.779   -1.56e+05    2.08e+05\n",
       "degree_req                                        1.857e+04   1.33e+05      0.139      0.889   -2.43e+05    2.81e+05\n",
       "desc_len                                            45.7675     24.103      1.899      0.058      -1.639      93.174\n",
       "competitor_count                                  1.055e+05   6.47e+04      1.631      0.104   -2.18e+04    2.33e+05\n",
       "Location_Ahmedabad                                1.782e+05   2.89e+05      0.617      0.538    -3.9e+05    7.46e+05\n",
       "Location_Andheri                                 -5.175e+05   8.67e+05     -0.597      0.551   -2.22e+06    1.19e+06\n",
       "Location_Andhra Pradesh                           1.454e+05   6.45e+05      0.225      0.822   -1.12e+06    1.41e+06\n",
       "Location_Bagalur                                  2.446e+05   5.97e+05      0.410      0.682    -9.3e+05    1.42e+06\n",
       "Location_Bengaluru                                2.089e+05   1.03e+05      2.032      0.043    6691.923    4.11e+05\n",
       "Location_Bhubaneswar                             -5.171e+04   6.09e+05     -0.085      0.932   -1.25e+06    1.15e+06\n",
       "Location_Chandigarh                               1.324e+05   3.97e+05      0.334      0.739   -6.48e+05    9.13e+05\n",
       "Location_Chennai                                 -7488.9854   1.37e+05     -0.055      0.956   -2.77e+05    2.62e+05\n",
       "Location_Chhota Udaipur                          -6.144e+05   6.23e+05     -0.986      0.325   -1.84e+06    6.12e+05\n",
       "Location_Coimbatore                               4.119e+05   5.98e+05      0.689      0.491   -7.64e+05    1.59e+06\n",
       "Location_Ernakulam                               -4.967e+05   5.97e+05     -0.832      0.406   -1.67e+06    6.78e+05\n",
       "Location_Gurgaon                                  1.248e+05   1.41e+05      0.884      0.377   -1.53e+05    4.02e+05\n",
       "Location_Hiranandani Gardens                      3.121e+04    7.1e+05      0.044      0.965   -1.36e+06    1.43e+06\n",
       "Location_Hyderabad                                3.227e+05   1.24e+05      2.612      0.009    7.97e+04    5.66e+05\n",
       "Location_India                                    1.367e+05   1.94e+05      0.706      0.481   -2.44e+05    5.18e+05\n",
       "Location_Indore                                   7.986e+04   5.97e+05      0.134      0.894   -1.09e+06    1.25e+06\n",
       "Location_Jaipur                                  -3.824e+05   2.63e+05     -1.451      0.148   -9.01e+05    1.36e+05\n",
       "Location_Kanpur Nagar                               2.4e+05   4.45e+05      0.540      0.590   -6.35e+05    1.12e+06\n",
       "Location_Kharar                                  -1.678e+06   7.68e+05     -2.185      0.030   -3.19e+06   -1.68e+05\n",
       "Location_Kochi                                   -3.497e+04   2.82e+05     -0.124      0.901    -5.9e+05     5.2e+05\n",
       "Location_Kolkata                                  7.174e+04    4.4e+05      0.163      0.871   -7.94e+05    9.38e+05\n",
       "Location_Mumbai                                   6003.7804   1.53e+05      0.039      0.969   -2.94e+05    3.06e+05\n",
       "Location_New Delhi                                1.791e+05    2.5e+05      0.716      0.474   -3.13e+05    6.71e+05\n",
       "Location_Noida                                    1.188e+05   2.03e+05      0.586      0.558    -2.8e+05    5.17e+05\n",
       "Location_Pune                                     3.649e+05    1.4e+05      2.610      0.009    8.99e+04     6.4e+05\n",
       "Location_SAS Nagar                               -2203.3463   4.41e+05     -0.005      0.996    -8.7e+05    8.65e+05\n",
       "Location_Tamil Nadu                                6.96e+05   8.56e+05      0.813      0.417   -9.88e+05    2.38e+06\n",
       "Location_Thiruvananthapuram                       5.566e+05    3.7e+05      1.506      0.133   -1.71e+05    1.28e+06\n",
       "Location_Vadodara                                 4.431e+04   5.82e+05      0.076      0.939    -1.1e+06    1.19e+06\n",
       "Industry_-1                                      -7.032e+04   8.43e+04     -0.834      0.405   -2.36e+05    9.54e+04\n",
       "Industry_Advertising & Marketing                  7.685e+04   3.22e+05      0.238      0.812   -5.57e+05    7.11e+05\n",
       "Industry_Aerospace & Defence                      2.808e+05   3.33e+05      0.844      0.400   -3.74e+05    9.35e+05\n",
       "Industry_Architectural & Engineering Services      6.36e+05   4.06e+05      1.567      0.118   -1.62e+05    1.43e+06\n",
       "Industry_Banks & Building Societies              -1.777e+05   5.74e+05     -0.310      0.757   -1.31e+06    9.51e+05\n",
       "Industry_Banks & Credit Unions                    1.217e+04   2.75e+05      0.044      0.965   -5.29e+05    5.54e+05\n",
       "Industry_Biotech & Pharmaceuticals               -2.905e+05   9.09e+04     -3.195      0.002   -4.69e+05   -1.12e+05\n",
       "Industry_Brokerage Services                      -2.057e+05   5.72e+05     -0.360      0.719   -1.33e+06    9.19e+05\n",
       "Industry_Cable, Internet & Telephone Providers    6.723e+05   4.57e+05      1.470      0.143   -2.27e+05    1.57e+06\n",
       "Industry_Chemical Manufacturing                   2.362e+05   6.26e+05      0.377      0.706   -9.95e+05    1.47e+06\n",
       "Industry_Colleges & Universities                  7.978e+05   3.41e+05      2.340      0.020    1.27e+05    1.47e+06\n",
       "Industry_Computer Hardware & Software            -5.133e+04   7.37e+04     -0.696      0.487   -1.96e+05    9.37e+04\n",
       "Industry_Consulting                                4.02e+04   1.72e+05      0.234      0.815   -2.97e+05    3.78e+05\n",
       "Industry_Consumer Products Manufacturing         -6.557e+05   4.32e+05     -1.518      0.130   -1.51e+06    1.94e+05\n",
       "Industry_Department, Clothing, & Shoe Stores      6622.4930   4.53e+05      0.015      0.988   -8.85e+05    8.98e+05\n",
       "Industry_Electrical & Electronic Manufacturing    1.538e+04    5.3e+05      0.029      0.977   -1.03e+06    1.06e+06\n",
       "Industry_Energy                                  -1.065e+06   4.63e+05     -2.300      0.022   -1.98e+06   -1.54e+05\n",
       "Industry_Enterprise Software & Network Solutions  1.037e+04    9.2e+04      0.113      0.910   -1.71e+05    1.91e+05\n",
       "Industry_Farm Support Services                    8.805e+05   4.93e+05      1.786      0.075    -8.9e+04    1.85e+06\n",
       "Industry_Financial Analytics & Research          -6.372e+05   3.44e+05     -1.853      0.065   -1.31e+06     3.9e+04\n",
       "Industry_Financial Transaction Processing        -6.124e+05   2.96e+05     -2.067      0.039    -1.2e+06   -2.97e+04\n",
       "Industry_Food Production                         -9.422e+05   5.13e+05     -1.837      0.067   -1.95e+06    6.65e+04\n",
       "Industry_General Merchandise & Superstores       -2.044e+05   4.66e+05     -0.438      0.661   -1.12e+06    7.13e+05\n",
       "Industry_Health Care Services & Hospitals        -2.039e+05   1.04e+05     -1.966      0.050   -4.08e+05      57.231\n",
       "Industry_Healthcare Services & Hospitals         -1.065e+05    1.5e+05     -0.713      0.477   -4.01e+05    1.88e+05\n",
       "Industry_IT Services                             -1.792e+05   7.36e+04     -2.437      0.015   -3.24e+05   -3.46e+04\n",
       "Industry_Industrial Manufacturing                -1.334e+05   5.31e+05     -0.251      0.802   -1.18e+06    9.11e+05\n",
       "Industry_Insurance Carriers                      -2.526e+05   1.81e+05     -1.398      0.163   -6.08e+05    1.03e+05\n",
       "Industry_Internet                                 1.787e+05   8.97e+04      1.993      0.047    2320.265    3.55e+05\n",
       "Industry_Investment Banking & Asset Management   -2.559e+05   1.92e+05     -1.334      0.183   -6.33e+05    1.21e+05\n",
       "Industry_K-12 Education                          -5.228e+05   3.27e+05     -1.600      0.110   -1.17e+06     1.2e+05\n",
       "Industry_Lending                                  1.892e+06   5.55e+05      3.406      0.001    7.99e+05    2.98e+06\n",
       "Industry_Music Production & Distribution         -5.109e+04   4.21e+05     -0.121      0.903   -8.78e+05    7.76e+05\n",
       "Industry_Oil & Gas Exploration & Production       1.941e+06   4.64e+05      4.185      0.000    1.03e+06    2.85e+06\n",
       "Industry_Real Estate                              1.816e+04   2.13e+05      0.085      0.932      -4e+05    4.37e+05\n",
       "Industry_Research & Development                  -4.359e+05   3.87e+05     -1.127      0.261    -1.2e+06    3.25e+05\n",
       "Industry_Staffing & Outsourcing                   -4.12e+05   2.25e+05     -1.834      0.068   -8.54e+05    2.98e+04\n",
       "Industry_TV Broadcast & Cable Networks            1.476e+06   5.04e+05      2.930      0.004    4.85e+05    2.47e+06\n",
       "Industry_TV Broadcasting & Cable Networks         1.585e+05   5.03e+05      0.315      0.753    -8.3e+05    1.15e+06\n",
       "Industry_Telecommunications Services             -3.913e+05   2.94e+05     -1.332      0.184   -9.69e+05    1.87e+05\n",
       "Industry_Video Games                             -9.636e+05   3.56e+05     -2.704      0.007   -1.66e+06   -2.63e+05\n",
       "Sector_-1                                        -7.032e+04   8.43e+04     -0.834      0.405   -2.36e+05    9.54e+04\n",
       "Sector_Aerospace & Defence                        2.808e+05   3.33e+05      0.844      0.400   -3.74e+05    9.35e+05\n",
       "Sector_Agriculture & Forestry                    -6.176e+04   2.99e+05     -0.207      0.836    -6.5e+05    5.26e+05\n",
       "Sector_Biotech & Pharmaceuticals                 -2.905e+05   9.09e+04     -3.195      0.002   -4.69e+05   -1.12e+05\n",
       "Sector_Business Services                         -9.483e+04   1.37e+05     -0.690      0.491   -3.65e+05    1.76e+05\n",
       "Sector_Education                                   2.75e+05   2.05e+05      1.341      0.181   -1.28e+05    6.78e+05\n",
       "Sector_Finance                                    1.498e+04    1.6e+05      0.093      0.926      -3e+05     3.3e+05\n",
       "Sector_Health Care                               -2.039e+05   1.04e+05     -1.966      0.050   -4.08e+05      57.231\n",
       "Sector_Healthcare                                -1.065e+05    1.5e+05     -0.713      0.477   -4.01e+05    1.88e+05\n",
       "Sector_Information Technology                    -4.149e+04   7.16e+04     -0.580      0.562   -1.82e+05    9.93e+04\n",
       "Sector_Insurance                                 -2.526e+05   1.81e+05     -1.398      0.163   -6.08e+05    1.03e+05\n",
       "Sector_Manufacturing                             -5.376e+05   2.29e+05     -2.349      0.019   -9.88e+05   -8.74e+04\n",
       "Sector_Media                                      6.198e+05   2.06e+05      3.005      0.003    2.14e+05    1.03e+06\n",
       "Sector_Oil, Gas, Energy & Utilities               8.764e+05   2.78e+05      3.151      0.002    3.29e+05    1.42e+06\n",
       "Sector_Real Estate                                1.816e+04   2.13e+05      0.085      0.932      -4e+05    4.37e+05\n",
       "Sector_Retail                                    -1.978e+05    2.8e+05     -0.707      0.480   -7.48e+05    3.52e+05\n",
       "Sector_Telecommunications                          2.81e+05   2.38e+05      1.183      0.238   -1.86e+05    7.48e+05\n",
       "Revenue_$1 to $2 billion (USD)                   -2.321e+05   2.32e+05     -1.001      0.318   -6.88e+05    2.24e+05\n",
       "Revenue_$1 to $5 million (USD)                    2.816e+05   3.11e+05      0.906      0.366    -3.3e+05    8.93e+05\n",
       "Revenue_$10 to $25 million (USD)                 -2.869e+05   2.08e+05     -1.376      0.170   -6.97e+05    1.23e+05\n",
       "Revenue_$10+ billion (USD)                        3.209e+05   1.72e+05      1.868      0.063    -1.7e+04    6.59e+05\n",
       "Revenue_$100 to $500 million (USD)               -3.765e+05   2.09e+05     -1.801      0.073   -7.88e+05    3.46e+04\n",
       "Revenue_$2 to $5 billion (USD)                     2.09e+05   1.95e+05      1.073      0.284   -1.74e+05    5.92e+05\n",
       "Revenue_$25 to $50 million (USD)                 -1.557e+05    2.1e+05     -0.740      0.460   -5.69e+05    2.58e+05\n",
       "Revenue_$5 to $10 billion (USD)                   5.632e+05   2.29e+05      2.459      0.014    1.13e+05    1.01e+06\n",
       "Revenue_$5 to $10 million (USD)                  -2.229e+05   2.66e+05     -0.839      0.402   -7.45e+05       3e+05\n",
       "Revenue_$50 to $100 million (USD)                -2.732e+05    2.8e+05     -0.975      0.330   -8.24e+05    2.78e+05\n",
       "Revenue_$500 million to $1 billion (USD)          2.347e+05   3.05e+05      0.768      0.443   -3.66e+05    8.35e+05\n",
       "Revenue_Less than $1 million (USD)                2.245e+04   1.69e+05      0.133      0.894    -3.1e+05    3.55e+05\n",
       "Revenue_Unknown / Non-Applicable                   5.21e+04   8.75e+04      0.596      0.552    -1.2e+05    2.24e+05\n",
       "Revenue_₹1 to ₹5 billion (INR)                   -8.543e+04    2.6e+05     -0.329      0.742   -5.96e+05    4.25e+05\n",
       "Revenue_₹10 to ₹50 billion (INR)                 -1.209e+05   3.25e+05     -0.372      0.710    -7.6e+05    5.18e+05\n",
       "Revenue_₹10 to ₹50 million (INR)                 -5.188e+05   4.17e+05     -1.245      0.214   -1.34e+06    3.01e+05\n",
       "Revenue_₹100 to ₹500 billion (INR)                5.525e+04    2.9e+05      0.190      0.849   -5.15e+05    6.26e+05\n",
       "Revenue_₹100 to ₹500 million (INR)               -3.975e+05   6.04e+05     -0.658      0.511   -1.59e+06    7.91e+05\n",
       "Revenue_₹5 to ₹10 billion (INR)                    8.16e+05   3.65e+05      2.236      0.026    9.81e+04    1.53e+06\n",
       "Revenue_₹50 to ₹100 billion (INR)                 8.644e+04   4.24e+05      0.204      0.839   -7.48e+05    9.21e+05\n",
       "Revenue_₹500 million to ₹1 billion (INR)          3.163e+05   5.95e+05      0.531      0.595   -8.54e+05    1.49e+06\n",
       "Revenue_₹500+ billion (INR)                       2.207e+05   2.14e+05      1.030      0.304   -2.01e+05    6.42e+05\n",
       "Size_1 to 50 employees                           -1.691e+05   1.02e+05     -1.651      0.100   -3.71e+05    3.24e+04\n",
       "Size_10000+ employees                             -2.14e+05   1.37e+05     -1.565      0.119   -4.83e+05     5.5e+04\n",
       "Size_1001 to 5000 employees                       1.275e+05    1.2e+05      1.064      0.288   -1.08e+05    3.63e+05\n",
       "Size_201 to 500 employees                         2.517e+05    9.8e+04      2.568      0.011    5.89e+04    4.44e+05\n",
       "Size_5001 to 10000 employees                      1.451e+05    1.5e+05      0.968      0.333    -1.5e+05     4.4e+05\n",
       "Size_501 to 1000 employees                        2.478e+05   1.19e+05      2.084      0.038     1.4e+04    4.82e+05\n",
       "Size_51 to 200 employees                           -1.2e+05   8.86e+04     -1.354      0.177   -2.94e+05    5.43e+04\n",
       "Size_unknown                                      2.399e+05   1.98e+05      1.214      0.226   -1.49e+05    6.29e+05\n",
       "job_simplifier_AIE                               -3.178e+04   2.88e+05     -0.110      0.912   -5.99e+05    5.35e+05\n",
       "job_simplifier_BA                                -4.106e+04   1.13e+05     -0.364      0.716   -2.63e+05    1.81e+05\n",
       "job_simplifier_BDE                                2.275e+05   1.23e+05      1.856      0.064   -1.36e+04    4.68e+05\n",
       "job_simplifier_DLE                               -2.533e+05   2.64e+05     -0.958      0.339   -7.73e+05    2.67e+05\n",
       "job_simplifier_MLE                               -3.577e+04   1.11e+05     -0.321      0.748   -2.55e+05    1.83e+05\n",
       "job_simplifier_NLPE                                 1.7e+05   2.45e+05      0.695      0.488   -3.11e+05    6.51e+05\n",
       "job_simplifier_data analyst                      -4.157e+04   9.66e+04     -0.431      0.667   -2.31e+05    1.48e+05\n",
       "job_simplifier_data engineer                      1.357e+05   1.15e+05      1.183      0.238   -8.99e+04    3.61e+05\n",
       "job_simplifier_data scientist                     2.178e+05   9.95e+04      2.189      0.029    2.21e+04    4.13e+05\n",
       "job_simplifier_manager                            1.836e+04      3e+05      0.061      0.951   -5.71e+05    6.08e+05\n",
       "job_simplifier_na                                 1.817e+05   9.56e+04      1.901      0.058   -6299.707     3.7e+05\n",
       "job_simplifier_software engineer                 -3.885e+04   1.37e+05     -0.284      0.777   -3.08e+05    2.31e+05\n",
       "seniority_junior                                 -5.237e+04    2.8e+05     -0.187      0.852   -6.04e+05    4.99e+05\n",
       "seniority_na                                      1.649e+05   1.11e+05      1.483      0.139   -5.37e+04    3.83e+05\n",
       "seniority_senior                                  3.963e+05   1.24e+05      3.187      0.002    1.52e+05    6.41e+05\n",
       "==============================================================================\n",
       "Omnibus:                      239.269   Durbin-Watson:                   2.003\n",
       "Prob(Omnibus):                  0.000   Jarque-Bera (JB):             3443.566\n",
       "Skew:                           1.812   Prob(JB):                         0.00\n",
       "Kurtosis:                      15.683   Cond. No.                     9.46e+18\n",
       "==============================================================================\n",
       "\n",
       "Warnings:\n",
       "[1] Standard Errors assume that the covariance matrix of the errors is correctly specified.\n",
       "[2] The smallest eigenvalue is 6.22e-29. This might indicate that there are\n",
       "strong multicollinearity problems or that the design matrix is singular.\n",
       "\"\"\""
      ]
     },
     "execution_count": 7,
     "metadata": {},
     "output_type": "execute_result"
    }
   ],
   "source": [
    "# multiple linearregression using statsmodel\n",
    "x_sm = sm.add_constant(X)\n",
    "model = sm.OLS(y, x_sm)\n",
    "model.fit().summary()"
   ]
  },
  {
   "cell_type": "code",
   "execution_count": 8,
   "metadata": {},
   "outputs": [
    {
     "data": {
      "text/plain": [
       "-486754.18713867426"
      ]
     },
     "execution_count": 8,
     "metadata": {},
     "output_type": "execute_result"
    }
   ],
   "source": [
    "# linear regression using sklearn\n",
    "lm = LinearRegression().fit(X_train, y_train)\n",
    "np.mean(cross_val_score(lm,X_train,y_train, scoring = 'neg_mean_absolute_error', cv=3))"
   ]
  },
  {
   "cell_type": "markdown",
   "metadata": {},
   "source": [
    "which means our model is off by 520742"
   ]
  },
  {
   "cell_type": "code",
   "execution_count": 9,
   "metadata": {},
   "outputs": [
    {
     "data": {
      "text/plain": [
       "-482647.98565296247"
      ]
     },
     "execution_count": 9,
     "metadata": {},
     "output_type": "execute_result"
    }
   ],
   "source": [
    "# lasso\n",
    "lm_l = Lasso()\n",
    "np.mean(cross_val_score(lm_l,X_train,y_train, scoring = 'neg_mean_absolute_error', cv=3))"
   ]
  },
  {
   "cell_type": "code",
   "execution_count": 10,
   "metadata": {},
   "outputs": [
    {
     "data": {
      "text/plain": [
       "[<matplotlib.lines.Line2D at 0x16145bf16c8>]"
      ]
     },
     "execution_count": 10,
     "metadata": {},
     "output_type": "execute_result"
    },
    {
     "data": {
      "image/png": "[encoded data removed]",
      "text/plain": [
       "<Figure size 432x288 with 1 Axes>"
      ]
     },
     "metadata": {
      "needs_background": "light"
     },
     "output_type": "display_data"
    }
   ],
   "source": [
    "alpha = []\n",
    "error = []\n",
    "\n",
    "for i in range(1,100):\n",
    "    alpha.append(i/10)\n",
    "    lml = Lasso(alpha=(i/10))\n",
    "    error.append(np.mean(cross_val_score(lml,X_train,y_train, scoring = 'neg_mean_absolute_error', cv= 3)))\n",
    "    \n",
    "plt.plot(alpha,error)"
   ]
  },
  {
   "cell_type": "code",
   "execution_count": 11,
   "metadata": {},
   "outputs": [
    {
     "data": {
      "text/html": [
       "<div>\n",
       "<style scoped>\n",
       "    .dataframe tbody tr th:only-of-type {\n",
       "        vertical-align: middle;\n",
       "    }\n",
       "\n",
       "    .dataframe tbody tr th {\n",
       "        vertical-align: top;\n",
       "    }\n",
       "\n",
       "    .dataframe thead th {\n",
       "        text-align: right;\n",
       "    }\n",
       "</style>\n",
       "<table border=\"1\" class=\"dataframe\">\n",
       "  <thead>\n",
       "    <tr style=\"text-align: right;\">\n",
       "      <th></th>\n",
       "      <th>alpha</th>\n",
       "      <th>error</th>\n",
       "    </tr>\n",
       "  </thead>\n",
       "  <tbody>\n",
       "    <tr>\n",
       "      <th>23</th>\n",
       "      <td>2.4</td>\n",
       "      <td>-482507.584761</td>\n",
       "    </tr>\n",
       "  </tbody>\n",
       "</table>\n",
       "</div>"
      ],
      "text/plain": [
       "    alpha          error\n",
       "23    2.4 -482507.584761"
      ]
     },
     "execution_count": 11,
     "metadata": {},
     "output_type": "execute_result"
    }
   ],
   "source": [
    "err = tuple(zip(alpha,error))\n",
    "df_err = pd.DataFrame(err, columns = ['alpha','error'])\n",
    "df_err[df_err.error == max(df_err.error)]"
   ]
  },
  {
   "cell_type": "code",
   "execution_count": 15,
   "metadata": {},
   "outputs": [
    {
     "data": {
      "text/plain": [
       "Lasso(alpha=2.4, copy_X=True, fit_intercept=True, max_iter=1000,\n",
       "      normalize=False, positive=False, precompute=False, random_state=None,\n",
       "      selection='cyclic', tol=0.0001, warm_start=False)"
      ]
     },
     "execution_count": 15,
     "metadata": {},
     "output_type": "execute_result"
    }
   ],
   "source": [
    "lm_l = Lasso(alpha=2.4)\n",
    "lm_l.fit(X_train,y_train)"
   ]
  },
  {
   "cell_type": "code",
   "execution_count": 16,
   "metadata": {},
   "outputs": [
    {
     "data": {
      "text/plain": [
       "-437419.33384754136"
      ]
     },
     "execution_count": 16,
     "metadata": {},
     "output_type": "execute_result"
    }
   ],
   "source": [
    "# random forest regressor\n",
    "rf = RandomForestRegressor()\n",
    "np.mean(cross_val_score(rf,X_train,y_train,scoring = 'neg_mean_absolute_error', cv= 3))"
   ]
  },
  {
   "cell_type": "code",
   "execution_count": 17,
   "metadata": {},
   "outputs": [
    {
     "data": {
      "text/plain": [
       "GridSearchCV(cv=3, error_score=nan,\n",
       "             estimator=RandomForestRegressor(bootstrap=True, ccp_alpha=0.0,\n",
       "                                             criterion='mse', max_depth=None,\n",
       "                                             max_features='auto',\n",
       "                                             max_leaf_nodes=None,\n",
       "                                             max_samples=None,\n",
       "                                             min_impurity_decrease=0.0,\n",
       "                                             min_impurity_split=None,\n",
       "                                             min_samples_leaf=1,\n",
       "                                             min_samples_split=2,\n",
       "                                             min_weight_fraction_leaf=0.0,\n",
       "                                             n_estimators=100, n_jobs=None,\n",
       "                                             oob_score=False, random_state=None,\n",
       "                                             verbose=0, warm_start=False),\n",
       "             iid='deprecated', n_jobs=None,\n",
       "             param_grid={'criterion': ('mse', 'mae'),\n",
       "                         'max_features': ('auto', 'sqrt', 'log2'),\n",
       "                         'n_estimators': range(10, 300, 10)},\n",
       "             pre_dispatch='2*n_jobs', refit=True, return_train_score=False,\n",
       "             scoring='neg_mean_absolute_error', verbose=0)"
      ]
     },
     "execution_count": 17,
     "metadata": {},
     "output_type": "execute_result"
    }
   ],
   "source": [
    "# tune models with GridsearchCV\n",
    "parameters = {'n_estimators':range(10,300,10), 'criterion':('mse','mae'), 'max_features':('auto','sqrt','log2')}\n",
    "gs = GridSearchCV(rf,parameters,scoring='neg_mean_absolute_error',cv=3)\n",
    "gs.fit(X_train,y_train)"
   ]
  },
  {
   "cell_type": "code",
   "execution_count": 18,
   "metadata": {},
   "outputs": [
    {
     "data": {
      "text/plain": [
       "-420006.6842264509"
      ]
     },
     "execution_count": 18,
     "metadata": {},
     "output_type": "execute_result"
    }
   ],
   "source": [
    "gs.best_score_"
   ]
  },
  {
   "cell_type": "code",
   "execution_count": 19,
   "metadata": {},
   "outputs": [
    {
     "data": {
      "text/plain": [
       "RandomForestRegressor(bootstrap=True, ccp_alpha=0.0, criterion='mae',\n",
       "                      max_depth=None, max_features='sqrt', max_leaf_nodes=None,\n",
       "                      max_samples=None, min_impurity_decrease=0.0,\n",
       "                      min_impurity_split=None, min_samples_leaf=1,\n",
       "                      min_samples_split=2, min_weight_fraction_leaf=0.0,\n",
       "                      n_estimators=80, n_jobs=None, oob_score=False,\n",
       "                      random_state=None, verbose=0, warm_start=False)"
      ]
     },
     "execution_count": 19,
     "metadata": {},
     "output_type": "execute_result"
    }
   ],
   "source": [
    "gs.best_estimator_"
   ]
  },
  {
   "cell_type": "code",
   "execution_count": 20,
   "metadata": {},
   "outputs": [],
   "source": [
    "# test ensembles \n",
    "tpred_lm = lm.predict(X_test)\n",
    "tpred_lml = lm_l.predict(X_test)\n",
    "tpred_rf = gs.best_estimator_.predict(X_test)"
   ]
  },
  {
   "cell_type": "code",
   "execution_count": 21,
   "metadata": {},
   "outputs": [
    {
     "data": {
      "text/plain": [
       "513558.01336088905"
      ]
     },
     "execution_count": 21,
     "metadata": {},
     "output_type": "execute_result"
    }
   ],
   "source": [
    "mean_absolute_error(y_test,tpred_lm)"
   ]
  },
  {
   "cell_type": "code",
   "execution_count": 22,
   "metadata": {},
   "outputs": [
    {
     "data": {
      "text/plain": [
       "511681.8190750229"
      ]
     },
     "execution_count": 22,
     "metadata": {},
     "output_type": "execute_result"
    }
   ],
   "source": [
    "mean_absolute_error(y_test,tpred_lml)"
   ]
  },
  {
   "cell_type": "code",
   "execution_count": 23,
   "metadata": {},
   "outputs": [
    {
     "data": {
      "text/plain": [
       "453561.53388157894"
      ]
     },
     "execution_count": 23,
     "metadata": {},
     "output_type": "execute_result"
    }
   ],
   "source": [
    "mean_absolute_error(y_test,tpred_rf)"
   ]
  },
  {
   "cell_type": "code",
   "execution_count": 24,
   "metadata": {},
   "outputs": [
    {
     "data": {
      "text/plain": [
       "461413.2756308548"
      ]
     },
     "execution_count": 24,
     "metadata": {},
     "output_type": "execute_result"
    }
   ],
   "source": [
    "mean_absolute_error(y_test,(tpred_lm+tpred_rf)/2)"
   ]
  },
  {
   "cell_type": "code",
   "execution_count": 25,
   "metadata": {},
   "outputs": [
    {
     "data": {
      "text/plain": [
       "1056493.6875"
      ]
     },
     "execution_count": 25,
     "metadata": {},
     "output_type": "execute_result"
    }
   ],
   "source": [
    "import pickle\n",
    "pickl = {'model': gs.best_estimator_}\n",
    "pickle.dump( pickl, open( './flaskAPI/models/model_file' + \".p\", \"wb\" ) )\n",
    "\n",
    "file_name = \"./flaskAPI/models/model_file.p\"\n",
    "with open(file_name, 'rb') as pickled:\n",
    "    data = pickle.load(pickled)\n",
    "    model = data['model']\n",
    "\n",
    "model.predict(np.array(list(X_test.iloc[1,:])).reshape(1,-1))[0]\n",
    "\n",
    "# list(X_test.iloc[1,:])"
   ]
  },
  {
   "cell_type": "code",
   "execution_count": null,
   "metadata": {},
   "outputs": [],
   "source": []
  }
 ],
 "metadata": {
  "kernelspec": {
   "display_name": "Python 3",
   "language": "python",
   "name": "python3"
  },
  "language_info": {
   "codemirror_mode": {
    "name": "ipython",
    "version": 3
   },
   "file_extension": ".py",
   "mimetype": "text/x-python",
   "name": "python",
   "nbconvert_exporter": "python",
   "pygments_lexer": "ipython3",
   "version": "3.7.6"
  }
 },
 "nbformat": 4,
 "nbformat_minor": 4
}
