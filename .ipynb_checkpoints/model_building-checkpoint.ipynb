{
 "cells": [
  {
   "cell_type": "markdown",
   "metadata": {},
   "source": [
    "part of project salary estimate for data science roles\n",
    "author: Swarali Desai\n",
    "dated: 05/09/2020"
   ]
  },
  {
   "cell_type": "code",
   "execution_count": 1,
   "metadata": {},
   "outputs": [],
   "source": [
    "import numpy as np\n",
    "import pandas as pd\n",
    "import matplotlib.pyplot as plt\n",
    "from sklearn.model_selection import train_test_split\n",
    "import statsmodels.api as sm\n",
    "from sklearn.linear_model import LinearRegression, Lasso\n",
    "from sklearn.model_selection import cross_val_score\n",
    "from sklearn.ensemble import RandomForestRegressor\n",
    "from sklearn.model_selection import GridSearchCV\n",
    "from sklearn.metrics import mean_absolute_error"
   ]
  },
  {
   "cell_type": "code",
   "execution_count": 2,
   "metadata": {},
   "outputs": [],
   "source": [
    "import warnings\n",
    "warnings.filterwarnings('ignore')\n",
    "warnings.simplefilter('ignore')"
   ]
  },
  {
   "cell_type": "code",
   "execution_count": 3,
   "metadata": {},
   "outputs": [],
   "source": [
    "df = pd.read_csv('csv_files/salary_data_eda.csv')"
   ]
  },
  {
   "cell_type": "code",
   "execution_count": 4,
   "metadata": {},
   "outputs": [],
   "source": [
    "# choose relevant columns\n",
    "df_model = df[['avg_salary', 'Location','Industry','Sector','Revenue', 'Size','age' ,'python', 'sas', 'aws', 'spark',\n",
    "       'sql', 'tableau', 'tensorflow', 'nltk', 'power bi', 'excel', 'hadoop',\n",
    "       'azure', 'scikit-learn', 'r_prog', 'degree_req', 'job_simplifier', 'seniority', 'desc_len', 'competitor_count']]"
   ]
  },
  {
   "cell_type": "code",
   "execution_count": 5,
   "metadata": {},
   "outputs": [
    {
     "name": "stdout",
     "output_type": "stream",
     "text": [
      "158\n"
     ]
    }
   ],
   "source": [
    "# get dummy data for categorical variable\n",
    "df_dummies = pd.get_dummies(df_model)\n",
    "print(len(df_dummies.columns))"
   ]
  },
  {
   "cell_type": "code",
   "execution_count": 6,
   "metadata": {},
   "outputs": [],
   "source": [
    "# train test split\n",
    "X = df_dummies.drop('avg_salary', axis=1)\n",
    "y = df_dummies.avg_salary.values\n",
    "X_train, X_test, y_train, y_test = train_test_split(X, y, test_size=0.2, random_state=42)"
   ]
  },
  {
   "cell_type": "code",
   "execution_count": 7,
   "metadata": {},
   "outputs": [
    {
     "data": {
      "text/html": [
       "<table class=\"simpletable\">\n",
       "<caption>OLS Regression Results</caption>\n",
       "<tr>\n",
       "  <th>Dep. Variable:</th>            <td>y</td>        <th>  R-squared:         </th> <td>   0.507</td> \n",
       "</tr>\n",
       "<tr>\n",
       "  <th>Model:</th>                   <td>OLS</td>       <th>  Adj. R-squared:    </th> <td>   0.313</td> \n",
       "</tr>\n",
       "<tr>\n",
       "  <th>Method:</th>             <td>Least Squares</td>  <th>  F-statistic:       </th> <td>   2.611</td> \n",
       "</tr>\n",
       "<tr>\n",
       "  <th>Date:</th>             <td>Tue, 08 Sep 2020</td> <th>  Prob (F-statistic):</th> <td>1.01e-12</td> \n",
       "</tr>\n",
       "<tr>\n",
       "  <th>Time:</th>                 <td>14:01:20</td>     <th>  Log-Likelihood:    </th> <td> -6894.9</td> \n",
       "</tr>\n",
       "<tr>\n",
       "  <th>No. Observations:</th>      <td>   475</td>      <th>  AIC:               </th> <td>1.406e+04</td>\n",
       "</tr>\n",
       "<tr>\n",
       "  <th>Df Residuals:</th>          <td>   340</td>      <th>  BIC:               </th> <td>1.462e+04</td>\n",
       "</tr>\n",
       "<tr>\n",
       "  <th>Df Model:</th>              <td>   134</td>      <th>                     </th>     <td> </td>    \n",
       "</tr>\n",
       "<tr>\n",
       "  <th>Covariance Type:</th>      <td>nonrobust</td>    <th>                     </th>     <td> </td>    \n",
       "</tr>\n",
       "</table>\n",
       "<table class=\"simpletable\">\n",
       "<tr>\n",
       "                          <td></td>                            <th>coef</th>     <th>std err</th>      <th>t</th>      <th>P>|t|</th>  <th>[0.025</th>    <th>0.975]</th>  \n",
       "</tr>\n",
       "<tr>\n",
       "  <th>const</th>                                            <td> 4.858e+05</td> <td> 1.26e+05</td> <td>    3.856</td> <td> 0.000</td> <td> 2.38e+05</td> <td> 7.34e+05</td>\n",
       "</tr>\n",
       "<tr>\n",
       "  <th>age</th>                                              <td> 2814.3103</td> <td> 1010.323</td> <td>    2.786</td> <td> 0.006</td> <td>  827.039</td> <td> 4801.581</td>\n",
       "</tr>\n",
       "<tr>\n",
       "  <th>python</th>                                           <td>-8.951e+04</td> <td> 8.36e+04</td> <td>   -1.070</td> <td> 0.285</td> <td>-2.54e+05</td> <td>  7.5e+04</td>\n",
       "</tr>\n",
       "<tr>\n",
       "  <th>sas</th>                                              <td> 1275.0466</td> <td> 1.26e+05</td> <td>    0.010</td> <td> 0.992</td> <td>-2.46e+05</td> <td> 2.49e+05</td>\n",
       "</tr>\n",
       "<tr>\n",
       "  <th>aws</th>                                              <td> 1.226e+05</td> <td> 8.28e+04</td> <td>    1.481</td> <td> 0.139</td> <td>-4.02e+04</td> <td> 2.85e+05</td>\n",
       "</tr>\n",
       "<tr>\n",
       "  <th>spark</th>                                            <td>-5394.2043</td> <td> 1.03e+05</td> <td>   -0.053</td> <td> 0.958</td> <td>-2.07e+05</td> <td> 1.97e+05</td>\n",
       "</tr>\n",
       "<tr>\n",
       "  <th>sql</th>                                              <td>-1.581e+05</td> <td>    8e+04</td> <td>   -1.977</td> <td> 0.049</td> <td>-3.15e+05</td> <td> -803.534</td>\n",
       "</tr>\n",
       "<tr>\n",
       "  <th>tableau</th>                                          <td>  1.48e+05</td> <td> 1.02e+05</td> <td>    1.455</td> <td> 0.146</td> <td> -5.2e+04</td> <td> 3.48e+05</td>\n",
       "</tr>\n",
       "<tr>\n",
       "  <th>tensorflow</th>                                       <td> 6717.0741</td> <td> 1.11e+05</td> <td>    0.060</td> <td> 0.952</td> <td>-2.12e+05</td> <td> 2.25e+05</td>\n",
       "</tr>\n",
       "<tr>\n",
       "  <th>nltk</th>                                             <td>-1.069e+05</td> <td> 2.03e+05</td> <td>   -0.525</td> <td> 0.600</td> <td>-5.07e+05</td> <td> 2.93e+05</td>\n",
       "</tr>\n",
       "<tr>\n",
       "  <th>power bi</th>                                         <td>  1.86e+05</td> <td> 1.54e+05</td> <td>    1.211</td> <td> 0.227</td> <td>-1.16e+05</td> <td> 4.88e+05</td>\n",
       "</tr>\n",
       "<tr>\n",
       "  <th>excel</th>                                            <td>-8.182e+04</td> <td> 6.59e+04</td> <td>   -1.242</td> <td> 0.215</td> <td>-2.11e+05</td> <td> 4.77e+04</td>\n",
       "</tr>\n",
       "<tr>\n",
       "  <th>hadoop</th>                                           <td> 5.703e+04</td> <td> 1.03e+05</td> <td>    0.552</td> <td> 0.581</td> <td>-1.46e+05</td> <td>  2.6e+05</td>\n",
       "</tr>\n",
       "<tr>\n",
       "  <th>azure</th>                                            <td> -1.33e+05</td> <td> 1.14e+05</td> <td>   -1.169</td> <td> 0.243</td> <td>-3.57e+05</td> <td> 9.08e+04</td>\n",
       "</tr>\n",
       "<tr>\n",
       "  <th>scikit-learn</th>                                     <td> 2.499e+05</td> <td> 1.67e+05</td> <td>    1.498</td> <td> 0.135</td> <td>-7.83e+04</td> <td> 5.78e+05</td>\n",
       "</tr>\n",
       "<tr>\n",
       "  <th>r_prog</th>                                           <td> 5.467e+04</td> <td> 9.35e+04</td> <td>    0.585</td> <td> 0.559</td> <td>-1.29e+05</td> <td> 2.39e+05</td>\n",
       "</tr>\n",
       "<tr>\n",
       "  <th>degree_req</th>                                       <td> 2.539e+04</td> <td> 1.33e+05</td> <td>    0.191</td> <td> 0.848</td> <td>-2.36e+05</td> <td> 2.87e+05</td>\n",
       "</tr>\n",
       "<tr>\n",
       "  <th>desc_len</th>                                         <td>   40.1406</td> <td>   24.107</td> <td>    1.665</td> <td> 0.097</td> <td>   -7.277</td> <td>   87.559</td>\n",
       "</tr>\n",
       "<tr>\n",
       "  <th>competitor_count</th>                                 <td> 9.069e+04</td> <td> 6.94e+04</td> <td>    1.307</td> <td> 0.192</td> <td>-4.57e+04</td> <td> 2.27e+05</td>\n",
       "</tr>\n",
       "<tr>\n",
       "  <th>Location_Ahmedabad</th>                               <td> 2.541e+05</td> <td> 2.89e+05</td> <td>    0.878</td> <td> 0.381</td> <td>-3.15e+05</td> <td> 8.23e+05</td>\n",
       "</tr>\n",
       "<tr>\n",
       "  <th>Location_Andheri</th>                                 <td>-5.424e+05</td> <td> 8.87e+05</td> <td>   -0.611</td> <td> 0.542</td> <td>-2.29e+06</td> <td>  1.2e+06</td>\n",
       "</tr>\n",
       "<tr>\n",
       "  <th>Location_Andhra Pradesh</th>                          <td>-1.785e+06</td> <td> 9.32e+05</td> <td>   -1.915</td> <td> 0.056</td> <td>-3.62e+06</td> <td> 4.81e+04</td>\n",
       "</tr>\n",
       "<tr>\n",
       "  <th>Location_Bagalur</th>                                 <td> 3.041e+05</td> <td> 5.94e+05</td> <td>    0.512</td> <td> 0.609</td> <td>-8.65e+05</td> <td> 1.47e+06</td>\n",
       "</tr>\n",
       "<tr>\n",
       "  <th>Location_Bengaluru</th>                               <td> 2.656e+05</td> <td> 1.07e+05</td> <td>    2.491</td> <td> 0.013</td> <td> 5.58e+04</td> <td> 4.75e+05</td>\n",
       "</tr>\n",
       "<tr>\n",
       "  <th>Location_Bhubaneswar</th>                             <td> 2.753e+04</td> <td> 6.06e+05</td> <td>    0.045</td> <td> 0.964</td> <td>-1.16e+06</td> <td> 1.22e+06</td>\n",
       "</tr>\n",
       "<tr>\n",
       "  <th>Location_Chandigarh</th>                              <td> 1.777e+05</td> <td> 3.97e+05</td> <td>    0.448</td> <td> 0.655</td> <td>-6.03e+05</td> <td> 9.58e+05</td>\n",
       "</tr>\n",
       "<tr>\n",
       "  <th>Location_Chennai</th>                                 <td> 3.304e+04</td> <td> 1.39e+05</td> <td>    0.237</td> <td> 0.813</td> <td>-2.41e+05</td> <td> 3.07e+05</td>\n",
       "</tr>\n",
       "<tr>\n",
       "  <th>Location_Chhota Udaipur</th>                          <td>-5.373e+05</td> <td> 6.21e+05</td> <td>   -0.865</td> <td> 0.388</td> <td>-1.76e+06</td> <td> 6.84e+05</td>\n",
       "</tr>\n",
       "<tr>\n",
       "  <th>Location_Coimbatore</th>                              <td>  4.49e+05</td> <td> 5.96e+05</td> <td>    0.754</td> <td> 0.452</td> <td>-7.23e+05</td> <td> 1.62e+06</td>\n",
       "</tr>\n",
       "<tr>\n",
       "  <th>Location_Ernakulam</th>                               <td>-4.012e+05</td> <td> 5.96e+05</td> <td>   -0.674</td> <td> 0.501</td> <td>-1.57e+06</td> <td>  7.7e+05</td>\n",
       "</tr>\n",
       "<tr>\n",
       "  <th>Location_Gurgaon</th>                                 <td>  2.21e+05</td> <td> 1.47e+05</td> <td>    1.502</td> <td> 0.134</td> <td>-6.84e+04</td> <td>  5.1e+05</td>\n",
       "</tr>\n",
       "<tr>\n",
       "  <th>Location_Hiranandani Gardens</th>                     <td> 9.612e+04</td> <td> 7.07e+05</td> <td>    0.136</td> <td> 0.892</td> <td>-1.29e+06</td> <td> 1.49e+06</td>\n",
       "</tr>\n",
       "<tr>\n",
       "  <th>Location_Hyderabad</th>                               <td> 3.765e+05</td> <td> 1.26e+05</td> <td>    2.980</td> <td> 0.003</td> <td> 1.28e+05</td> <td> 6.25e+05</td>\n",
       "</tr>\n",
       "<tr>\n",
       "  <th>Location_India</th>                                   <td> 2.074e+05</td> <td> 1.95e+05</td> <td>    1.064</td> <td> 0.288</td> <td>-1.76e+05</td> <td> 5.91e+05</td>\n",
       "</tr>\n",
       "<tr>\n",
       "  <th>Location_Indore</th>                                  <td>  1.52e+05</td> <td> 5.94e+05</td> <td>    0.256</td> <td> 0.798</td> <td>-1.02e+06</td> <td> 1.32e+06</td>\n",
       "</tr>\n",
       "<tr>\n",
       "  <th>Location_Jaipur</th>                                  <td>-2.469e+05</td> <td> 2.67e+05</td> <td>   -0.926</td> <td> 0.355</td> <td>-7.71e+05</td> <td> 2.78e+05</td>\n",
       "</tr>\n",
       "<tr>\n",
       "  <th>Location_Kanpur Nagar</th>                            <td> 3.287e+05</td> <td> 4.45e+05</td> <td>    0.738</td> <td> 0.461</td> <td>-5.47e+05</td> <td>  1.2e+06</td>\n",
       "</tr>\n",
       "<tr>\n",
       "  <th>Location_Kharar</th>                                  <td>-1.665e+06</td> <td> 7.72e+05</td> <td>   -2.157</td> <td> 0.032</td> <td>-3.18e+06</td> <td>-1.47e+05</td>\n",
       "</tr>\n",
       "<tr>\n",
       "  <th>Location_Kochi</th>                                   <td>-6337.9491</td> <td> 2.82e+05</td> <td>   -0.022</td> <td> 0.982</td> <td>-5.61e+05</td> <td> 5.48e+05</td>\n",
       "</tr>\n",
       "<tr>\n",
       "  <th>Location_Kolkata</th>                                 <td> 1.095e+05</td> <td> 4.38e+05</td> <td>    0.250</td> <td> 0.803</td> <td>-7.53e+05</td> <td> 9.72e+05</td>\n",
       "</tr>\n",
       "<tr>\n",
       "  <th>Location_Mumbai</th>                                  <td> 7.752e+04</td> <td> 1.56e+05</td> <td>    0.496</td> <td> 0.620</td> <td> -2.3e+05</td> <td> 3.85e+05</td>\n",
       "</tr>\n",
       "<tr>\n",
       "  <th>Location_New Delhi</th>                               <td> 2.687e+05</td> <td> 2.52e+05</td> <td>    1.068</td> <td> 0.286</td> <td>-2.26e+05</td> <td> 7.64e+05</td>\n",
       "</tr>\n",
       "<tr>\n",
       "  <th>Location_Noida</th>                                   <td> 1.464e+05</td> <td> 2.04e+05</td> <td>    0.717</td> <td> 0.474</td> <td>-2.55e+05</td> <td> 5.48e+05</td>\n",
       "</tr>\n",
       "<tr>\n",
       "  <th>Location_Pune</th>                                    <td> 4.374e+05</td> <td> 1.43e+05</td> <td>    3.055</td> <td> 0.002</td> <td> 1.56e+05</td> <td> 7.19e+05</td>\n",
       "</tr>\n",
       "<tr>\n",
       "  <th>Location_SAS Nagar</th>                               <td> 2.356e+05</td> <td> 4.58e+05</td> <td>    0.514</td> <td> 0.607</td> <td>-6.65e+05</td> <td> 1.14e+06</td>\n",
       "</tr>\n",
       "<tr>\n",
       "  <th>Location_Tamil Nadu</th>                              <td> 8.034e+05</td> <td> 8.52e+05</td> <td>    0.943</td> <td> 0.346</td> <td>-8.73e+05</td> <td> 2.48e+06</td>\n",
       "</tr>\n",
       "<tr>\n",
       "  <th>Location_Thiruvananthapuram</th>                      <td> 6.202e+05</td> <td> 3.68e+05</td> <td>    1.683</td> <td> 0.093</td> <td>-1.04e+05</td> <td> 1.34e+06</td>\n",
       "</tr>\n",
       "<tr>\n",
       "  <th>Location_Vadodara</th>                                <td> 7.868e+04</td> <td>  5.8e+05</td> <td>    0.136</td> <td> 0.892</td> <td>-1.06e+06</td> <td> 1.22e+06</td>\n",
       "</tr>\n",
       "<tr>\n",
       "  <th>Industry_-1</th>                                      <td>-4.675e+04</td> <td> 8.99e+04</td> <td>   -0.520</td> <td> 0.603</td> <td>-2.24e+05</td> <td>  1.3e+05</td>\n",
       "</tr>\n",
       "<tr>\n",
       "  <th>Industry_Advertising & Marketing</th>                 <td> 1.979e+05</td> <td> 3.36e+05</td> <td>    0.589</td> <td> 0.556</td> <td>-4.63e+05</td> <td> 8.59e+05</td>\n",
       "</tr>\n",
       "<tr>\n",
       "  <th>Industry_Aerospace & Defence</th>                     <td> 4.377e+05</td> <td> 3.58e+05</td> <td>    1.221</td> <td> 0.223</td> <td>-2.67e+05</td> <td> 1.14e+06</td>\n",
       "</tr>\n",
       "<tr>\n",
       "  <th>Industry_Architectural & Engineering Services</th>    <td> 6.334e+05</td> <td> 4.04e+05</td> <td>    1.568</td> <td> 0.118</td> <td>-1.61e+05</td> <td> 1.43e+06</td>\n",
       "</tr>\n",
       "<tr>\n",
       "  <th>Industry_Banks & Building Societies</th>              <td>-2.009e+05</td> <td> 5.73e+05</td> <td>   -0.351</td> <td> 0.726</td> <td>-1.33e+06</td> <td> 9.25e+05</td>\n",
       "</tr>\n",
       "<tr>\n",
       "  <th>Industry_Banks & Credit Unions</th>                   <td> 8577.1696</td> <td> 2.74e+05</td> <td>    0.031</td> <td> 0.975</td> <td> -5.3e+05</td> <td> 5.47e+05</td>\n",
       "</tr>\n",
       "<tr>\n",
       "  <th>Industry_Biotech & Pharmaceuticals</th>               <td>-2.478e+05</td> <td> 9.28e+04</td> <td>   -2.669</td> <td> 0.008</td> <td> -4.3e+05</td> <td>-6.52e+04</td>\n",
       "</tr>\n",
       "<tr>\n",
       "  <th>Industry_Brokerage Services</th>                      <td>-2.366e+05</td> <td>  5.7e+05</td> <td>   -0.415</td> <td> 0.678</td> <td>-1.36e+06</td> <td> 8.84e+05</td>\n",
       "</tr>\n",
       "<tr>\n",
       "  <th>Industry_Cable, Internet & Telephone Providers</th>   <td>-5.193e+05</td> <td> 6.53e+05</td> <td>   -0.795</td> <td> 0.427</td> <td> -1.8e+06</td> <td> 7.65e+05</td>\n",
       "</tr>\n",
       "<tr>\n",
       "  <th>Industry_Chemical Manufacturing</th>                  <td> 2.912e+05</td> <td> 6.25e+05</td> <td>    0.466</td> <td> 0.641</td> <td>-9.38e+05</td> <td> 1.52e+06</td>\n",
       "</tr>\n",
       "<tr>\n",
       "  <th>Industry_Colleges & Universities</th>                 <td> 8.884e+05</td> <td> 3.42e+05</td> <td>    2.599</td> <td> 0.010</td> <td> 2.16e+05</td> <td> 1.56e+06</td>\n",
       "</tr>\n",
       "<tr>\n",
       "  <th>Industry_Computer Hardware & Software</th>            <td>-2.863e+04</td> <td> 7.47e+04</td> <td>   -0.383</td> <td> 0.702</td> <td>-1.76e+05</td> <td> 1.18e+05</td>\n",
       "</tr>\n",
       "<tr>\n",
       "  <th>Industry_Consulting</th>                              <td> 6.601e+04</td> <td> 1.73e+05</td> <td>    0.383</td> <td> 0.702</td> <td>-2.73e+05</td> <td> 4.05e+05</td>\n",
       "</tr>\n",
       "<tr>\n",
       "  <th>Industry_Consumer Products Manufacturing</th>         <td>-6.578e+05</td> <td>  4.3e+05</td> <td>   -1.528</td> <td> 0.127</td> <td> -1.5e+06</td> <td> 1.89e+05</td>\n",
       "</tr>\n",
       "<tr>\n",
       "  <th>Industry_Department, Clothing, & Shoe Stores</th>     <td> 2.172e+04</td> <td> 4.53e+05</td> <td>    0.048</td> <td> 0.962</td> <td> -8.7e+05</td> <td> 9.13e+05</td>\n",
       "</tr>\n",
       "<tr>\n",
       "  <th>Industry_Electrical & Electronic Manufacturing</th>   <td> 7.264e+04</td> <td> 5.27e+05</td> <td>    0.138</td> <td> 0.891</td> <td>-9.65e+05</td> <td> 1.11e+06</td>\n",
       "</tr>\n",
       "<tr>\n",
       "  <th>Industry_Energy</th>                                  <td>-1.042e+06</td> <td> 4.62e+05</td> <td>   -2.256</td> <td> 0.025</td> <td>-1.95e+06</td> <td>-1.33e+05</td>\n",
       "</tr>\n",
       "<tr>\n",
       "  <th>Industry_Enterprise Software & Network Solutions</th> <td>-2.987e+04</td> <td> 9.34e+04</td> <td>   -0.320</td> <td> 0.749</td> <td>-2.14e+05</td> <td> 1.54e+05</td>\n",
       "</tr>\n",
       "<tr>\n",
       "  <th>Industry_Farm Support Services</th>                   <td> 8.112e+05</td> <td> 4.95e+05</td> <td>    1.639</td> <td> 0.102</td> <td>-1.62e+05</td> <td> 1.78e+06</td>\n",
       "</tr>\n",
       "<tr>\n",
       "  <th>Industry_Financial Analytics & Research</th>          <td> -5.86e+05</td> <td> 3.44e+05</td> <td>   -1.706</td> <td> 0.089</td> <td>-1.26e+06</td> <td> 8.98e+04</td>\n",
       "</tr>\n",
       "<tr>\n",
       "  <th>Industry_Financial Transaction Processing</th>        <td>-5.579e+05</td> <td> 2.96e+05</td> <td>   -1.887</td> <td> 0.060</td> <td>-1.14e+06</td> <td> 2.35e+04</td>\n",
       "</tr>\n",
       "<tr>\n",
       "  <th>Industry_Food Production</th>                         <td>-9.321e+05</td> <td> 5.12e+05</td> <td>   -1.821</td> <td> 0.070</td> <td>-1.94e+06</td> <td> 7.49e+04</td>\n",
       "</tr>\n",
       "<tr>\n",
       "  <th>Industry_General Merchandise & Superstores</th>       <td>-2.034e+05</td> <td> 4.66e+05</td> <td>   -0.437</td> <td> 0.662</td> <td>-1.12e+06</td> <td> 7.12e+05</td>\n",
       "</tr>\n",
       "<tr>\n",
       "  <th>Industry_Health Care Services & Hospitals</th>        <td>-1.712e+05</td> <td> 1.04e+05</td> <td>   -1.641</td> <td> 0.102</td> <td>-3.76e+05</td> <td>  3.4e+04</td>\n",
       "</tr>\n",
       "<tr>\n",
       "  <th>Industry_Healthcare Services & Hospitals</th>         <td>-7.819e+04</td> <td> 1.51e+05</td> <td>   -0.516</td> <td> 0.606</td> <td>-3.76e+05</td> <td>  2.2e+05</td>\n",
       "</tr>\n",
       "<tr>\n",
       "  <th>Industry_IT Services</th>                             <td>-1.594e+05</td> <td> 7.43e+04</td> <td>   -2.145</td> <td> 0.033</td> <td>-3.06e+05</td> <td>-1.32e+04</td>\n",
       "</tr>\n",
       "<tr>\n",
       "  <th>Industry_Industrial Manufacturing</th>                <td>-2.048e+05</td> <td> 5.29e+05</td> <td>   -0.387</td> <td> 0.699</td> <td>-1.24e+06</td> <td> 8.35e+05</td>\n",
       "</tr>\n",
       "<tr>\n",
       "  <th>Industry_Insurance Carriers</th>                      <td>-2.297e+05</td> <td> 1.81e+05</td> <td>   -1.271</td> <td> 0.205</td> <td>-5.85e+05</td> <td> 1.26e+05</td>\n",
       "</tr>\n",
       "<tr>\n",
       "  <th>Industry_Internet</th>                                <td> 1.985e+05</td> <td> 9.13e+04</td> <td>    2.174</td> <td> 0.030</td> <td> 1.89e+04</td> <td> 3.78e+05</td>\n",
       "</tr>\n",
       "<tr>\n",
       "  <th>Industry_Investment Banking & Asset Management</th>   <td>-2.281e+05</td> <td> 1.91e+05</td> <td>   -1.193</td> <td> 0.234</td> <td>-6.04e+05</td> <td> 1.48e+05</td>\n",
       "</tr>\n",
       "<tr>\n",
       "  <th>Industry_K-12 Education</th>                          <td>-5.588e+05</td> <td> 3.26e+05</td> <td>   -1.712</td> <td> 0.088</td> <td> -1.2e+06</td> <td> 8.32e+04</td>\n",
       "</tr>\n",
       "<tr>\n",
       "  <th>Industry_Lending</th>                                 <td> 1.828e+06</td> <td> 5.53e+05</td> <td>    3.306</td> <td> 0.001</td> <td>  7.4e+05</td> <td> 2.92e+06</td>\n",
       "</tr>\n",
       "<tr>\n",
       "  <th>Industry_Music Production & Distribution</th>         <td>-1.083e+05</td> <td> 4.19e+05</td> <td>   -0.258</td> <td> 0.796</td> <td>-9.33e+05</td> <td> 7.16e+05</td>\n",
       "</tr>\n",
       "<tr>\n",
       "  <th>Industry_Oil & Gas Exploration & Production</th>      <td> 1.962e+06</td> <td> 4.62e+05</td> <td>    4.245</td> <td> 0.000</td> <td> 1.05e+06</td> <td> 2.87e+06</td>\n",
       "</tr>\n",
       "<tr>\n",
       "  <th>Industry_Real Estate</th>                             <td> 2.226e+04</td> <td> 2.21e+05</td> <td>    0.101</td> <td> 0.920</td> <td>-4.13e+05</td> <td> 4.58e+05</td>\n",
       "</tr>\n",
       "<tr>\n",
       "  <th>Industry_Research & Development</th>                  <td> -4.66e+05</td> <td> 3.86e+05</td> <td>   -1.208</td> <td> 0.228</td> <td>-1.22e+06</td> <td> 2.93e+05</td>\n",
       "</tr>\n",
       "<tr>\n",
       "  <th>Industry_Staffing & Outsourcing</th>                  <td>-4.911e+05</td> <td> 2.28e+05</td> <td>   -2.151</td> <td> 0.032</td> <td> -9.4e+05</td> <td> -4.2e+04</td>\n",
       "</tr>\n",
       "<tr>\n",
       "  <th>Industry_TV Broadcast & Cable Networks</th>           <td>  1.44e+06</td> <td> 5.07e+05</td> <td>    2.841</td> <td> 0.005</td> <td> 4.43e+05</td> <td> 2.44e+06</td>\n",
       "</tr>\n",
       "<tr>\n",
       "  <th>Industry_TV Broadcasting & Cable Networks</th>        <td> 2.362e+05</td> <td> 5.15e+05</td> <td>    0.459</td> <td> 0.647</td> <td>-7.77e+05</td> <td> 1.25e+06</td>\n",
       "</tr>\n",
       "<tr>\n",
       "  <th>Industry_Telecommunications Services</th>             <td> 2.495e+05</td> <td>  3.9e+05</td> <td>    0.641</td> <td> 0.522</td> <td>-5.17e+05</td> <td> 1.02e+06</td>\n",
       "</tr>\n",
       "<tr>\n",
       "  <th>Industry_Video Games</th>                             <td>-8.949e+05</td> <td> 3.57e+05</td> <td>   -2.506</td> <td> 0.013</td> <td> -1.6e+06</td> <td>-1.92e+05</td>\n",
       "</tr>\n",
       "<tr>\n",
       "  <th>Sector_-1</th>                                        <td>-4.675e+04</td> <td> 8.99e+04</td> <td>   -0.520</td> <td> 0.603</td> <td>-2.24e+05</td> <td>  1.3e+05</td>\n",
       "</tr>\n",
       "<tr>\n",
       "  <th>Sector_Aerospace & Defence</th>                       <td> 4.377e+05</td> <td> 3.58e+05</td> <td>    1.221</td> <td> 0.223</td> <td>-2.67e+05</td> <td> 1.14e+06</td>\n",
       "</tr>\n",
       "<tr>\n",
       "  <th>Sector_Agriculture & Forestry</th>                    <td>-1.209e+05</td> <td> 2.99e+05</td> <td>   -0.404</td> <td> 0.686</td> <td>-7.09e+05</td> <td> 4.68e+05</td>\n",
       "</tr>\n",
       "<tr>\n",
       "  <th>Sector_Biotech & Pharmaceuticals</th>                 <td>-2.478e+05</td> <td> 9.28e+04</td> <td>   -2.669</td> <td> 0.008</td> <td> -4.3e+05</td> <td>-6.52e+04</td>\n",
       "</tr>\n",
       "<tr>\n",
       "  <th>Sector_Business Services</th>                         <td>-5.974e+04</td> <td> 1.38e+05</td> <td>   -0.431</td> <td> 0.667</td> <td>-3.32e+05</td> <td> 2.13e+05</td>\n",
       "</tr>\n",
       "<tr>\n",
       "  <th>Sector_Education</th>                                 <td> 3.296e+05</td> <td> 2.07e+05</td> <td>    1.590</td> <td> 0.113</td> <td>-7.82e+04</td> <td> 7.37e+05</td>\n",
       "</tr>\n",
       "<tr>\n",
       "  <th>Sector_Finance</th>                                   <td> 2.686e+04</td> <td>  1.6e+05</td> <td>    0.168</td> <td> 0.867</td> <td>-2.88e+05</td> <td> 3.42e+05</td>\n",
       "</tr>\n",
       "<tr>\n",
       "  <th>Sector_Health Care</th>                               <td>-1.712e+05</td> <td> 1.04e+05</td> <td>   -1.641</td> <td> 0.102</td> <td>-3.76e+05</td> <td>  3.4e+04</td>\n",
       "</tr>\n",
       "<tr>\n",
       "  <th>Sector_Healthcare</th>                                <td>-7.819e+04</td> <td> 1.51e+05</td> <td>   -0.516</td> <td> 0.606</td> <td>-3.76e+05</td> <td>  2.2e+05</td>\n",
       "</tr>\n",
       "<tr>\n",
       "  <th>Sector_Information Technology</th>                    <td>-1.942e+04</td> <td>  7.4e+04</td> <td>   -0.263</td> <td> 0.793</td> <td>-1.65e+05</td> <td> 1.26e+05</td>\n",
       "</tr>\n",
       "<tr>\n",
       "  <th>Sector_Insurance</th>                                 <td>-2.297e+05</td> <td> 1.81e+05</td> <td>   -1.271</td> <td> 0.205</td> <td>-5.85e+05</td> <td> 1.26e+05</td>\n",
       "</tr>\n",
       "<tr>\n",
       "  <th>Sector_Manufacturing</th>                             <td>-4.987e+05</td> <td> 2.28e+05</td> <td>   -2.188</td> <td> 0.029</td> <td>-9.47e+05</td> <td>-5.03e+04</td>\n",
       "</tr>\n",
       "<tr>\n",
       "  <th>Sector_Media</th>                                     <td> 6.733e+05</td> <td> 2.09e+05</td> <td>    3.227</td> <td> 0.001</td> <td> 2.63e+05</td> <td> 1.08e+06</td>\n",
       "</tr>\n",
       "<tr>\n",
       "  <th>Sector_Oil, Gas, Energy & Utilities</th>              <td> 9.199e+05</td> <td> 2.79e+05</td> <td>    3.300</td> <td> 0.001</td> <td> 3.72e+05</td> <td> 1.47e+06</td>\n",
       "</tr>\n",
       "<tr>\n",
       "  <th>Sector_Real Estate</th>                               <td> 2.226e+04</td> <td> 2.21e+05</td> <td>    0.101</td> <td> 0.920</td> <td>-4.13e+05</td> <td> 4.58e+05</td>\n",
       "</tr>\n",
       "<tr>\n",
       "  <th>Sector_Retail</th>                                    <td>-1.817e+05</td> <td> 2.79e+05</td> <td>   -0.652</td> <td> 0.515</td> <td> -7.3e+05</td> <td> 3.66e+05</td>\n",
       "</tr>\n",
       "<tr>\n",
       "  <th>Sector_Telecommunications</th>                        <td>-2.698e+05</td> <td> 3.17e+05</td> <td>   -0.851</td> <td> 0.395</td> <td>-8.93e+05</td> <td> 3.54e+05</td>\n",
       "</tr>\n",
       "<tr>\n",
       "  <th>Revenue_$1 to $2 billion (USD)</th>                   <td>-1.988e+05</td> <td> 2.42e+05</td> <td>   -0.821</td> <td> 0.412</td> <td>-6.75e+05</td> <td> 2.78e+05</td>\n",
       "</tr>\n",
       "<tr>\n",
       "  <th>Revenue_$1 to $5 million (USD)</th>                   <td> 2.572e+05</td> <td> 3.14e+05</td> <td>    0.818</td> <td> 0.414</td> <td>-3.61e+05</td> <td> 8.76e+05</td>\n",
       "</tr>\n",
       "<tr>\n",
       "  <th>Revenue_$10 to $25 million (USD)</th>                 <td> -2.83e+05</td> <td> 2.15e+05</td> <td>   -1.317</td> <td> 0.189</td> <td>-7.06e+05</td> <td>  1.4e+05</td>\n",
       "</tr>\n",
       "<tr>\n",
       "  <th>Revenue_$10+ billion (USD)</th>                       <td> 1.931e+05</td> <td>  2.1e+05</td> <td>    0.919</td> <td> 0.359</td> <td> -2.2e+05</td> <td> 6.06e+05</td>\n",
       "</tr>\n",
       "<tr>\n",
       "  <th>Revenue_$100 to $500 million (USD)</th>               <td>-3.275e+05</td> <td> 2.15e+05</td> <td>   -1.525</td> <td> 0.128</td> <td> -7.5e+05</td> <td>  9.5e+04</td>\n",
       "</tr>\n",
       "<tr>\n",
       "  <th>Revenue_$2 to $5 billion (USD)</th>                   <td> 1.875e+05</td> <td> 2.08e+05</td> <td>    0.901</td> <td> 0.368</td> <td>-2.22e+05</td> <td> 5.97e+05</td>\n",
       "</tr>\n",
       "<tr>\n",
       "  <th>Revenue_$25 to $50 million (USD)</th>                 <td>-1.394e+05</td> <td> 2.16e+05</td> <td>   -0.645</td> <td> 0.519</td> <td>-5.64e+05</td> <td> 2.86e+05</td>\n",
       "</tr>\n",
       "<tr>\n",
       "  <th>Revenue_$5 to $10 billion (USD)</th>                  <td> 4.595e+05</td> <td> 2.57e+05</td> <td>    1.785</td> <td> 0.075</td> <td>-4.67e+04</td> <td> 9.66e+05</td>\n",
       "</tr>\n",
       "<tr>\n",
       "  <th>Revenue_$5 to $10 million (USD)</th>                  <td>-1.944e+05</td> <td>  2.7e+05</td> <td>   -0.721</td> <td> 0.471</td> <td>-7.25e+05</td> <td> 3.36e+05</td>\n",
       "</tr>\n",
       "<tr>\n",
       "  <th>Revenue_$50 to $100 million (USD)</th>                <td>-2.889e+05</td> <td> 2.88e+05</td> <td>   -1.004</td> <td> 0.316</td> <td>-8.55e+05</td> <td> 2.77e+05</td>\n",
       "</tr>\n",
       "<tr>\n",
       "  <th>Revenue_$500 million to $1 billion (USD)</th>         <td> 2.857e+05</td> <td> 3.12e+05</td> <td>    0.915</td> <td> 0.361</td> <td>-3.28e+05</td> <td>    9e+05</td>\n",
       "</tr>\n",
       "<tr>\n",
       "  <th>Revenue_Less than $1 million (USD)</th>               <td> 3.033e+04</td> <td>  1.9e+05</td> <td>    0.159</td> <td> 0.874</td> <td>-3.44e+05</td> <td> 4.05e+05</td>\n",
       "</tr>\n",
       "<tr>\n",
       "  <th>Revenue_Unknown / Non-Applicable</th>                 <td> 8.328e+04</td> <td> 9.16e+04</td> <td>    0.909</td> <td> 0.364</td> <td>-9.69e+04</td> <td> 2.63e+05</td>\n",
       "</tr>\n",
       "<tr>\n",
       "  <th>Revenue_₹1 to ₹5 billion (INR)</th>                   <td>-7.955e+04</td> <td> 3.07e+05</td> <td>   -0.259</td> <td> 0.796</td> <td>-6.84e+05</td> <td> 5.25e+05</td>\n",
       "</tr>\n",
       "<tr>\n",
       "  <th>Revenue_₹10 to ₹50 billion (INR)</th>                 <td> -2.01e+05</td> <td> 3.86e+05</td> <td>   -0.521</td> <td> 0.603</td> <td> -9.6e+05</td> <td> 5.58e+05</td>\n",
       "</tr>\n",
       "<tr>\n",
       "  <th>Revenue_₹10 to ₹50 million (INR)</th>                 <td>-4.723e+05</td> <td> 4.36e+05</td> <td>   -1.084</td> <td> 0.279</td> <td>-1.33e+06</td> <td> 3.85e+05</td>\n",
       "</tr>\n",
       "<tr>\n",
       "  <th>Revenue_₹100 to ₹500 billion (INR)</th>               <td>-2.916e+05</td> <td> 3.39e+05</td> <td>   -0.859</td> <td> 0.391</td> <td>-9.59e+05</td> <td> 3.76e+05</td>\n",
       "</tr>\n",
       "<tr>\n",
       "  <th>Revenue_₹100 to ₹500 million (INR)</th>               <td>-4.234e+05</td> <td> 6.53e+05</td> <td>   -0.648</td> <td> 0.517</td> <td>-1.71e+06</td> <td> 8.61e+05</td>\n",
       "</tr>\n",
       "<tr>\n",
       "  <th>Revenue_₹5 to ₹10 billion (INR)</th>                  <td>  9.01e+05</td> <td> 4.07e+05</td> <td>    2.212</td> <td> 0.028</td> <td> 9.96e+04</td> <td>  1.7e+06</td>\n",
       "</tr>\n",
       "<tr>\n",
       "  <th>Revenue_₹50 to ₹100 billion (INR)</th>                <td> 1.717e+05</td> <td>  4.4e+05</td> <td>    0.390</td> <td> 0.697</td> <td>-6.94e+05</td> <td> 1.04e+06</td>\n",
       "</tr>\n",
       "<tr>\n",
       "  <th>Revenue_₹500 million to ₹1 billion (INR)</th>         <td> 4.095e+05</td> <td> 6.09e+05</td> <td>    0.672</td> <td> 0.502</td> <td>-7.88e+05</td> <td> 1.61e+06</td>\n",
       "</tr>\n",
       "<tr>\n",
       "  <th>Revenue_₹500+ billion (INR)</th>                      <td> 4.068e+05</td> <td>  2.5e+05</td> <td>    1.626</td> <td> 0.105</td> <td>-8.53e+04</td> <td> 8.99e+05</td>\n",
       "</tr>\n",
       "<tr>\n",
       "  <th>Size_1 to 50 Employees</th>                           <td>-2.893e+05</td> <td> 1.36e+05</td> <td>   -2.120</td> <td> 0.035</td> <td>-5.58e+05</td> <td>-2.09e+04</td>\n",
       "</tr>\n",
       "<tr>\n",
       "  <th>Size_1 to 50 employees</th>                           <td>-2.291e+05</td> <td> 2.67e+05</td> <td>   -0.859</td> <td> 0.391</td> <td>-7.54e+05</td> <td> 2.95e+05</td>\n",
       "</tr>\n",
       "<tr>\n",
       "  <th>Size_10000+ Employees</th>                            <td>-2.074e+05</td> <td>  1.9e+05</td> <td>   -1.094</td> <td> 0.275</td> <td> -5.8e+05</td> <td> 1.66e+05</td>\n",
       "</tr>\n",
       "<tr>\n",
       "  <th>Size_10000+ employees</th>                            <td>-4.865e+05</td> <td> 2.23e+05</td> <td>   -2.184</td> <td> 0.030</td> <td>-9.25e+05</td> <td>-4.83e+04</td>\n",
       "</tr>\n",
       "<tr>\n",
       "  <th>Size_1001 to 5000 Employees</th>                      <td>-3.559e+04</td> <td> 1.57e+05</td> <td>   -0.227</td> <td> 0.820</td> <td>-3.44e+05</td> <td> 2.73e+05</td>\n",
       "</tr>\n",
       "<tr>\n",
       "  <th>Size_1001 to 5000 employees</th>                      <td> 1.125e+05</td> <td>  2.5e+05</td> <td>    0.451</td> <td> 0.652</td> <td>-3.78e+05</td> <td> 6.03e+05</td>\n",
       "</tr>\n",
       "<tr>\n",
       "  <th>Size_201 to 500 Employees</th>                        <td> 1.728e+05</td> <td> 1.25e+05</td> <td>    1.381</td> <td> 0.168</td> <td>-7.33e+04</td> <td> 4.19e+05</td>\n",
       "</tr>\n",
       "<tr>\n",
       "  <th>Size_201 to 500 employees</th>                        <td>-2.906e+05</td> <td> 3.11e+05</td> <td>   -0.935</td> <td> 0.351</td> <td>-9.02e+05</td> <td> 3.21e+05</td>\n",
       "</tr>\n",
       "<tr>\n",
       "  <th>Size_5001 to 10000 Employees</th>                     <td>-6.329e+04</td> <td>  1.8e+05</td> <td>   -0.351</td> <td> 0.726</td> <td>-4.18e+05</td> <td> 2.92e+05</td>\n",
       "</tr>\n",
       "<tr>\n",
       "  <th>Size_5001 to 10000 employees</th>                     <td> 1.866e+06</td> <td> 6.78e+05</td> <td>    2.751</td> <td> 0.006</td> <td> 5.32e+05</td> <td>  3.2e+06</td>\n",
       "</tr>\n",
       "<tr>\n",
       "  <th>Size_501 to 1000 Employees</th>                       <td>  1.04e+05</td> <td> 1.58e+05</td> <td>    0.659</td> <td> 0.510</td> <td>-2.06e+05</td> <td> 4.14e+05</td>\n",
       "</tr>\n",
       "<tr>\n",
       "  <th>Size_501 to 1000 employees</th>                       <td> 2.395e+05</td> <td> 2.46e+05</td> <td>    0.972</td> <td> 0.332</td> <td>-2.45e+05</td> <td> 7.24e+05</td>\n",
       "</tr>\n",
       "<tr>\n",
       "  <th>Size_51 to 200 Employees</th>                         <td>-2.132e+05</td> <td>  1.2e+05</td> <td>   -1.779</td> <td> 0.076</td> <td>-4.49e+05</td> <td> 2.26e+04</td>\n",
       "</tr>\n",
       "<tr>\n",
       "  <th>Size_51 to 200 employees</th>                         <td>-3.125e+05</td> <td> 1.74e+05</td> <td>   -1.794</td> <td> 0.074</td> <td>-6.55e+05</td> <td> 3.01e+04</td>\n",
       "</tr>\n",
       "<tr>\n",
       "  <th>Size_Unknown</th>                                     <td> 1.186e+05</td> <td> 2.17e+05</td> <td>    0.545</td> <td> 0.586</td> <td>-3.09e+05</td> <td> 5.46e+05</td>\n",
       "</tr>\n",
       "<tr>\n",
       "  <th>job_simplifier_AIE</th>                               <td>-2.075e+04</td> <td> 2.88e+05</td> <td>   -0.072</td> <td> 0.943</td> <td>-5.88e+05</td> <td> 5.46e+05</td>\n",
       "</tr>\n",
       "<tr>\n",
       "  <th>job_simplifier_BA</th>                                <td>-5.592e+04</td> <td> 1.13e+05</td> <td>   -0.493</td> <td> 0.622</td> <td>-2.79e+05</td> <td> 1.67e+05</td>\n",
       "</tr>\n",
       "<tr>\n",
       "  <th>job_simplifier_BDE</th>                               <td> 2.508e+05</td> <td> 1.23e+05</td> <td>    2.036</td> <td> 0.043</td> <td> 8527.566</td> <td> 4.93e+05</td>\n",
       "</tr>\n",
       "<tr>\n",
       "  <th>job_simplifier_DLE</th>                               <td>-2.711e+05</td> <td> 2.64e+05</td> <td>   -1.028</td> <td> 0.305</td> <td> -7.9e+05</td> <td> 2.48e+05</td>\n",
       "</tr>\n",
       "<tr>\n",
       "  <th>job_simplifier_MLE</th>                               <td>-2.706e+04</td> <td> 1.12e+05</td> <td>   -0.241</td> <td> 0.810</td> <td>-2.48e+05</td> <td> 1.94e+05</td>\n",
       "</tr>\n",
       "<tr>\n",
       "  <th>job_simplifier_NLPE</th>                              <td>  2.11e+05</td> <td> 2.44e+05</td> <td>    0.863</td> <td> 0.389</td> <td> -2.7e+05</td> <td> 6.92e+05</td>\n",
       "</tr>\n",
       "<tr>\n",
       "  <th>job_simplifier_data analyst</th>                      <td>-6.106e+04</td> <td> 9.69e+04</td> <td>   -0.630</td> <td> 0.529</td> <td>-2.52e+05</td> <td>  1.3e+05</td>\n",
       "</tr>\n",
       "<tr>\n",
       "  <th>job_simplifier_data engineer</th>                     <td> 1.428e+05</td> <td> 1.15e+05</td> <td>    1.244</td> <td> 0.214</td> <td>-8.29e+04</td> <td> 3.68e+05</td>\n",
       "</tr>\n",
       "<tr>\n",
       "  <th>job_simplifier_data scientist</th>                    <td> 2.188e+05</td> <td> 1.01e+05</td> <td>    2.176</td> <td> 0.030</td> <td>  2.1e+04</td> <td> 4.17e+05</td>\n",
       "</tr>\n",
       "<tr>\n",
       "  <th>job_simplifier_manager</th>                           <td>-4.876e+04</td> <td> 3.04e+05</td> <td>   -0.161</td> <td> 0.873</td> <td>-6.46e+05</td> <td> 5.49e+05</td>\n",
       "</tr>\n",
       "<tr>\n",
       "  <th>job_simplifier_na</th>                                <td>  1.94e+05</td> <td> 9.56e+04</td> <td>    2.029</td> <td> 0.043</td> <td> 5891.408</td> <td> 3.82e+05</td>\n",
       "</tr>\n",
       "<tr>\n",
       "  <th>job_simplifier_software engineer</th>                 <td>-4.685e+04</td> <td> 1.37e+05</td> <td>   -0.342</td> <td> 0.732</td> <td>-3.16e+05</td> <td> 2.22e+05</td>\n",
       "</tr>\n",
       "<tr>\n",
       "  <th>seniority_junior</th>                                 <td>-1.117e+05</td> <td>  2.8e+05</td> <td>   -0.398</td> <td> 0.691</td> <td>-6.63e+05</td> <td>  4.4e+05</td>\n",
       "</tr>\n",
       "<tr>\n",
       "  <th>seniority_na</th>                                     <td> 1.888e+05</td> <td> 1.11e+05</td> <td>    1.706</td> <td> 0.089</td> <td>-2.89e+04</td> <td> 4.07e+05</td>\n",
       "</tr>\n",
       "<tr>\n",
       "  <th>seniority_senior</th>                                 <td> 4.086e+05</td> <td> 1.24e+05</td> <td>    3.296</td> <td> 0.001</td> <td> 1.65e+05</td> <td> 6.52e+05</td>\n",
       "</tr>\n",
       "</table>\n",
       "<table class=\"simpletable\">\n",
       "<tr>\n",
       "  <th>Omnibus:</th>       <td>237.888</td> <th>  Durbin-Watson:     </th> <td>   2.040</td>\n",
       "</tr>\n",
       "<tr>\n",
       "  <th>Prob(Omnibus):</th> <td> 0.000</td>  <th>  Jarque-Bera (JB):  </th> <td>3513.025</td>\n",
       "</tr>\n",
       "<tr>\n",
       "  <th>Skew:</th>          <td> 1.789</td>  <th>  Prob(JB):          </th> <td>    0.00</td>\n",
       "</tr>\n",
       "<tr>\n",
       "  <th>Kurtosis:</th>      <td>15.834</td>  <th>  Cond. No.          </th> <td>9.38e+18</td>\n",
       "</tr>\n",
       "</table><br/><br/>Warnings:<br/>[1] Standard Errors assume that the covariance matrix of the errors is correctly specified.<br/>[2] The smallest eigenvalue is 6.32e-29. This might indicate that there are<br/>strong multicollinearity problems or that the design matrix is singular."
      ],
      "text/plain": [
       "<class 'statsmodels.iolib.summary.Summary'>\n",
       "\"\"\"\n",
       "                            OLS Regression Results                            \n",
       "==============================================================================\n",
       "Dep. Variable:                      y   R-squared:                       0.507\n",
       "Model:                            OLS   Adj. R-squared:                  0.313\n",
       "Method:                 Least Squares   F-statistic:                     2.611\n",
       "Date:                Tue, 08 Sep 2020   Prob (F-statistic):           1.01e-12\n",
       "Time:                        14:01:20   Log-Likelihood:                -6894.9\n",
       "No. Observations:                 475   AIC:                         1.406e+04\n",
       "Df Residuals:                     340   BIC:                         1.462e+04\n",
       "Df Model:                         134                                         \n",
       "Covariance Type:            nonrobust                                         \n",
       "====================================================================================================================\n",
       "                                                       coef    std err          t      P>|t|      [0.025      0.975]\n",
       "--------------------------------------------------------------------------------------------------------------------\n",
       "const                                             4.858e+05   1.26e+05      3.856      0.000    2.38e+05    7.34e+05\n",
       "age                                               2814.3103   1010.323      2.786      0.006     827.039    4801.581\n",
       "python                                           -8.951e+04   8.36e+04     -1.070      0.285   -2.54e+05     7.5e+04\n",
       "sas                                               1275.0466   1.26e+05      0.010      0.992   -2.46e+05    2.49e+05\n",
       "aws                                               1.226e+05   8.28e+04      1.481      0.139   -4.02e+04    2.85e+05\n",
       "spark                                            -5394.2043   1.03e+05     -0.053      0.958   -2.07e+05    1.97e+05\n",
       "sql                                              -1.581e+05      8e+04     -1.977      0.049   -3.15e+05    -803.534\n",
       "tableau                                            1.48e+05   1.02e+05      1.455      0.146    -5.2e+04    3.48e+05\n",
       "tensorflow                                        6717.0741   1.11e+05      0.060      0.952   -2.12e+05    2.25e+05\n",
       "nltk                                             -1.069e+05   2.03e+05     -0.525      0.600   -5.07e+05    2.93e+05\n",
       "power bi                                           1.86e+05   1.54e+05      1.211      0.227   -1.16e+05    4.88e+05\n",
       "excel                                            -8.182e+04   6.59e+04     -1.242      0.215   -2.11e+05    4.77e+04\n",
       "hadoop                                            5.703e+04   1.03e+05      0.552      0.581   -1.46e+05     2.6e+05\n",
       "azure                                             -1.33e+05   1.14e+05     -1.169      0.243   -3.57e+05    9.08e+04\n",
       "scikit-learn                                      2.499e+05   1.67e+05      1.498      0.135   -7.83e+04    5.78e+05\n",
       "r_prog                                            5.467e+04   9.35e+04      0.585      0.559   -1.29e+05    2.39e+05\n",
       "degree_req                                        2.539e+04   1.33e+05      0.191      0.848   -2.36e+05    2.87e+05\n",
       "desc_len                                            40.1406     24.107      1.665      0.097      -7.277      87.559\n",
       "competitor_count                                  9.069e+04   6.94e+04      1.307      0.192   -4.57e+04    2.27e+05\n",
       "Location_Ahmedabad                                2.541e+05   2.89e+05      0.878      0.381   -3.15e+05    8.23e+05\n",
       "Location_Andheri                                 -5.424e+05   8.87e+05     -0.611      0.542   -2.29e+06     1.2e+06\n",
       "Location_Andhra Pradesh                          -1.785e+06   9.32e+05     -1.915      0.056   -3.62e+06    4.81e+04\n",
       "Location_Bagalur                                  3.041e+05   5.94e+05      0.512      0.609   -8.65e+05    1.47e+06\n",
       "Location_Bengaluru                                2.656e+05   1.07e+05      2.491      0.013    5.58e+04    4.75e+05\n",
       "Location_Bhubaneswar                              2.753e+04   6.06e+05      0.045      0.964   -1.16e+06    1.22e+06\n",
       "Location_Chandigarh                               1.777e+05   3.97e+05      0.448      0.655   -6.03e+05    9.58e+05\n",
       "Location_Chennai                                  3.304e+04   1.39e+05      0.237      0.813   -2.41e+05    3.07e+05\n",
       "Location_Chhota Udaipur                          -5.373e+05   6.21e+05     -0.865      0.388   -1.76e+06    6.84e+05\n",
       "Location_Coimbatore                                4.49e+05   5.96e+05      0.754      0.452   -7.23e+05    1.62e+06\n",
       "Location_Ernakulam                               -4.012e+05   5.96e+05     -0.674      0.501   -1.57e+06     7.7e+05\n",
       "Location_Gurgaon                                   2.21e+05   1.47e+05      1.502      0.134   -6.84e+04     5.1e+05\n",
       "Location_Hiranandani Gardens                      9.612e+04   7.07e+05      0.136      0.892   -1.29e+06    1.49e+06\n",
       "Location_Hyderabad                                3.765e+05   1.26e+05      2.980      0.003    1.28e+05    6.25e+05\n",
       "Location_India                                    2.074e+05   1.95e+05      1.064      0.288   -1.76e+05    5.91e+05\n",
       "Location_Indore                                    1.52e+05   5.94e+05      0.256      0.798   -1.02e+06    1.32e+06\n",
       "Location_Jaipur                                  -2.469e+05   2.67e+05     -0.926      0.355   -7.71e+05    2.78e+05\n",
       "Location_Kanpur Nagar                             3.287e+05   4.45e+05      0.738      0.461   -5.47e+05     1.2e+06\n",
       "Location_Kharar                                  -1.665e+06   7.72e+05     -2.157      0.032   -3.18e+06   -1.47e+05\n",
       "Location_Kochi                                   -6337.9491   2.82e+05     -0.022      0.982   -5.61e+05    5.48e+05\n",
       "Location_Kolkata                                  1.095e+05   4.38e+05      0.250      0.803   -7.53e+05    9.72e+05\n",
       "Location_Mumbai                                   7.752e+04   1.56e+05      0.496      0.620    -2.3e+05    3.85e+05\n",
       "Location_New Delhi                                2.687e+05   2.52e+05      1.068      0.286   -2.26e+05    7.64e+05\n",
       "Location_Noida                                    1.464e+05   2.04e+05      0.717      0.474   -2.55e+05    5.48e+05\n",
       "Location_Pune                                     4.374e+05   1.43e+05      3.055      0.002    1.56e+05    7.19e+05\n",
       "Location_SAS Nagar                                2.356e+05   4.58e+05      0.514      0.607   -6.65e+05    1.14e+06\n",
       "Location_Tamil Nadu                               8.034e+05   8.52e+05      0.943      0.346   -8.73e+05    2.48e+06\n",
       "Location_Thiruvananthapuram                       6.202e+05   3.68e+05      1.683      0.093   -1.04e+05    1.34e+06\n",
       "Location_Vadodara                                 7.868e+04    5.8e+05      0.136      0.892   -1.06e+06    1.22e+06\n",
       "Industry_-1                                      -4.675e+04   8.99e+04     -0.520      0.603   -2.24e+05     1.3e+05\n",
       "Industry_Advertising & Marketing                  1.979e+05   3.36e+05      0.589      0.556   -4.63e+05    8.59e+05\n",
       "Industry_Aerospace & Defence                      4.377e+05   3.58e+05      1.221      0.223   -2.67e+05    1.14e+06\n",
       "Industry_Architectural & Engineering Services     6.334e+05   4.04e+05      1.568      0.118   -1.61e+05    1.43e+06\n",
       "Industry_Banks & Building Societies              -2.009e+05   5.73e+05     -0.351      0.726   -1.33e+06    9.25e+05\n",
       "Industry_Banks & Credit Unions                    8577.1696   2.74e+05      0.031      0.975    -5.3e+05    5.47e+05\n",
       "Industry_Biotech & Pharmaceuticals               -2.478e+05   9.28e+04     -2.669      0.008    -4.3e+05   -6.52e+04\n",
       "Industry_Brokerage Services                      -2.366e+05    5.7e+05     -0.415      0.678   -1.36e+06    8.84e+05\n",
       "Industry_Cable, Internet & Telephone Providers   -5.193e+05   6.53e+05     -0.795      0.427    -1.8e+06    7.65e+05\n",
       "Industry_Chemical Manufacturing                   2.912e+05   6.25e+05      0.466      0.641   -9.38e+05    1.52e+06\n",
       "Industry_Colleges & Universities                  8.884e+05   3.42e+05      2.599      0.010    2.16e+05    1.56e+06\n",
       "Industry_Computer Hardware & Software            -2.863e+04   7.47e+04     -0.383      0.702   -1.76e+05    1.18e+05\n",
       "Industry_Consulting                               6.601e+04   1.73e+05      0.383      0.702   -2.73e+05    4.05e+05\n",
       "Industry_Consumer Products Manufacturing         -6.578e+05    4.3e+05     -1.528      0.127    -1.5e+06    1.89e+05\n",
       "Industry_Department, Clothing, & Shoe Stores      2.172e+04   4.53e+05      0.048      0.962    -8.7e+05    9.13e+05\n",
       "Industry_Electrical & Electronic Manufacturing    7.264e+04   5.27e+05      0.138      0.891   -9.65e+05    1.11e+06\n",
       "Industry_Energy                                  -1.042e+06   4.62e+05     -2.256      0.025   -1.95e+06   -1.33e+05\n",
       "Industry_Enterprise Software & Network Solutions -2.987e+04   9.34e+04     -0.320      0.749   -2.14e+05    1.54e+05\n",
       "Industry_Farm Support Services                    8.112e+05   4.95e+05      1.639      0.102   -1.62e+05    1.78e+06\n",
       "Industry_Financial Analytics & Research           -5.86e+05   3.44e+05     -1.706      0.089   -1.26e+06    8.98e+04\n",
       "Industry_Financial Transaction Processing        -5.579e+05   2.96e+05     -1.887      0.060   -1.14e+06    2.35e+04\n",
       "Industry_Food Production                         -9.321e+05   5.12e+05     -1.821      0.070   -1.94e+06    7.49e+04\n",
       "Industry_General Merchandise & Superstores       -2.034e+05   4.66e+05     -0.437      0.662   -1.12e+06    7.12e+05\n",
       "Industry_Health Care Services & Hospitals        -1.712e+05   1.04e+05     -1.641      0.102   -3.76e+05     3.4e+04\n",
       "Industry_Healthcare Services & Hospitals         -7.819e+04   1.51e+05     -0.516      0.606   -3.76e+05     2.2e+05\n",
       "Industry_IT Services                             -1.594e+05   7.43e+04     -2.145      0.033   -3.06e+05   -1.32e+04\n",
       "Industry_Industrial Manufacturing                -2.048e+05   5.29e+05     -0.387      0.699   -1.24e+06    8.35e+05\n",
       "Industry_Insurance Carriers                      -2.297e+05   1.81e+05     -1.271      0.205   -5.85e+05    1.26e+05\n",
       "Industry_Internet                                 1.985e+05   9.13e+04      2.174      0.030    1.89e+04    3.78e+05\n",
       "Industry_Investment Banking & Asset Management   -2.281e+05   1.91e+05     -1.193      0.234   -6.04e+05    1.48e+05\n",
       "Industry_K-12 Education                          -5.588e+05   3.26e+05     -1.712      0.088    -1.2e+06    8.32e+04\n",
       "Industry_Lending                                  1.828e+06   5.53e+05      3.306      0.001     7.4e+05    2.92e+06\n",
       "Industry_Music Production & Distribution         -1.083e+05   4.19e+05     -0.258      0.796   -9.33e+05    7.16e+05\n",
       "Industry_Oil & Gas Exploration & Production       1.962e+06   4.62e+05      4.245      0.000    1.05e+06    2.87e+06\n",
       "Industry_Real Estate                              2.226e+04   2.21e+05      0.101      0.920   -4.13e+05    4.58e+05\n",
       "Industry_Research & Development                   -4.66e+05   3.86e+05     -1.208      0.228   -1.22e+06    2.93e+05\n",
       "Industry_Staffing & Outsourcing                  -4.911e+05   2.28e+05     -2.151      0.032    -9.4e+05    -4.2e+04\n",
       "Industry_TV Broadcast & Cable Networks             1.44e+06   5.07e+05      2.841      0.005    4.43e+05    2.44e+06\n",
       "Industry_TV Broadcasting & Cable Networks         2.362e+05   5.15e+05      0.459      0.647   -7.77e+05    1.25e+06\n",
       "Industry_Telecommunications Services              2.495e+05    3.9e+05      0.641      0.522   -5.17e+05    1.02e+06\n",
       "Industry_Video Games                             -8.949e+05   3.57e+05     -2.506      0.013    -1.6e+06   -1.92e+05\n",
       "Sector_-1                                        -4.675e+04   8.99e+04     -0.520      0.603   -2.24e+05     1.3e+05\n",
       "Sector_Aerospace & Defence                        4.377e+05   3.58e+05      1.221      0.223   -2.67e+05    1.14e+06\n",
       "Sector_Agriculture & Forestry                    -1.209e+05   2.99e+05     -0.404      0.686   -7.09e+05    4.68e+05\n",
       "Sector_Biotech & Pharmaceuticals                 -2.478e+05   9.28e+04     -2.669      0.008    -4.3e+05   -6.52e+04\n",
       "Sector_Business Services                         -5.974e+04   1.38e+05     -0.431      0.667   -3.32e+05    2.13e+05\n",
       "Sector_Education                                  3.296e+05   2.07e+05      1.590      0.113   -7.82e+04    7.37e+05\n",
       "Sector_Finance                                    2.686e+04    1.6e+05      0.168      0.867   -2.88e+05    3.42e+05\n",
       "Sector_Health Care                               -1.712e+05   1.04e+05     -1.641      0.102   -3.76e+05     3.4e+04\n",
       "Sector_Healthcare                                -7.819e+04   1.51e+05     -0.516      0.606   -3.76e+05     2.2e+05\n",
       "Sector_Information Technology                    -1.942e+04    7.4e+04     -0.263      0.793   -1.65e+05    1.26e+05\n",
       "Sector_Insurance                                 -2.297e+05   1.81e+05     -1.271      0.205   -5.85e+05    1.26e+05\n",
       "Sector_Manufacturing                             -4.987e+05   2.28e+05     -2.188      0.029   -9.47e+05   -5.03e+04\n",
       "Sector_Media                                      6.733e+05   2.09e+05      3.227      0.001    2.63e+05    1.08e+06\n",
       "Sector_Oil, Gas, Energy & Utilities               9.199e+05   2.79e+05      3.300      0.001    3.72e+05    1.47e+06\n",
       "Sector_Real Estate                                2.226e+04   2.21e+05      0.101      0.920   -4.13e+05    4.58e+05\n",
       "Sector_Retail                                    -1.817e+05   2.79e+05     -0.652      0.515    -7.3e+05    3.66e+05\n",
       "Sector_Telecommunications                        -2.698e+05   3.17e+05     -0.851      0.395   -8.93e+05    3.54e+05\n",
       "Revenue_$1 to $2 billion (USD)                   -1.988e+05   2.42e+05     -0.821      0.412   -6.75e+05    2.78e+05\n",
       "Revenue_$1 to $5 million (USD)                    2.572e+05   3.14e+05      0.818      0.414   -3.61e+05    8.76e+05\n",
       "Revenue_$10 to $25 million (USD)                  -2.83e+05   2.15e+05     -1.317      0.189   -7.06e+05     1.4e+05\n",
       "Revenue_$10+ billion (USD)                        1.931e+05    2.1e+05      0.919      0.359    -2.2e+05    6.06e+05\n",
       "Revenue_$100 to $500 million (USD)               -3.275e+05   2.15e+05     -1.525      0.128    -7.5e+05     9.5e+04\n",
       "Revenue_$2 to $5 billion (USD)                    1.875e+05   2.08e+05      0.901      0.368   -2.22e+05    5.97e+05\n",
       "Revenue_$25 to $50 million (USD)                 -1.394e+05   2.16e+05     -0.645      0.519   -5.64e+05    2.86e+05\n",
       "Revenue_$5 to $10 billion (USD)                   4.595e+05   2.57e+05      1.785      0.075   -4.67e+04    9.66e+05\n",
       "Revenue_$5 to $10 million (USD)                  -1.944e+05    2.7e+05     -0.721      0.471   -7.25e+05    3.36e+05\n",
       "Revenue_$50 to $100 million (USD)                -2.889e+05   2.88e+05     -1.004      0.316   -8.55e+05    2.77e+05\n",
       "Revenue_$500 million to $1 billion (USD)          2.857e+05   3.12e+05      0.915      0.361   -3.28e+05       9e+05\n",
       "Revenue_Less than $1 million (USD)                3.033e+04    1.9e+05      0.159      0.874   -3.44e+05    4.05e+05\n",
       "Revenue_Unknown / Non-Applicable                  8.328e+04   9.16e+04      0.909      0.364   -9.69e+04    2.63e+05\n",
       "Revenue_₹1 to ₹5 billion (INR)                   -7.955e+04   3.07e+05     -0.259      0.796   -6.84e+05    5.25e+05\n",
       "Revenue_₹10 to ₹50 billion (INR)                  -2.01e+05   3.86e+05     -0.521      0.603    -9.6e+05    5.58e+05\n",
       "Revenue_₹10 to ₹50 million (INR)                 -4.723e+05   4.36e+05     -1.084      0.279   -1.33e+06    3.85e+05\n",
       "Revenue_₹100 to ₹500 billion (INR)               -2.916e+05   3.39e+05     -0.859      0.391   -9.59e+05    3.76e+05\n",
       "Revenue_₹100 to ₹500 million (INR)               -4.234e+05   6.53e+05     -0.648      0.517   -1.71e+06    8.61e+05\n",
       "Revenue_₹5 to ₹10 billion (INR)                    9.01e+05   4.07e+05      2.212      0.028    9.96e+04     1.7e+06\n",
       "Revenue_₹50 to ₹100 billion (INR)                 1.717e+05    4.4e+05      0.390      0.697   -6.94e+05    1.04e+06\n",
       "Revenue_₹500 million to ₹1 billion (INR)          4.095e+05   6.09e+05      0.672      0.502   -7.88e+05    1.61e+06\n",
       "Revenue_₹500+ billion (INR)                       4.068e+05    2.5e+05      1.626      0.105   -8.53e+04    8.99e+05\n",
       "Size_1 to 50 Employees                           -2.893e+05   1.36e+05     -2.120      0.035   -5.58e+05   -2.09e+04\n",
       "Size_1 to 50 employees                           -2.291e+05   2.67e+05     -0.859      0.391   -7.54e+05    2.95e+05\n",
       "Size_10000+ Employees                            -2.074e+05    1.9e+05     -1.094      0.275    -5.8e+05    1.66e+05\n",
       "Size_10000+ employees                            -4.865e+05   2.23e+05     -2.184      0.030   -9.25e+05   -4.83e+04\n",
       "Size_1001 to 5000 Employees                      -3.559e+04   1.57e+05     -0.227      0.820   -3.44e+05    2.73e+05\n",
       "Size_1001 to 5000 employees                       1.125e+05    2.5e+05      0.451      0.652   -3.78e+05    6.03e+05\n",
       "Size_201 to 500 Employees                         1.728e+05   1.25e+05      1.381      0.168   -7.33e+04    4.19e+05\n",
       "Size_201 to 500 employees                        -2.906e+05   3.11e+05     -0.935      0.351   -9.02e+05    3.21e+05\n",
       "Size_5001 to 10000 Employees                     -6.329e+04    1.8e+05     -0.351      0.726   -4.18e+05    2.92e+05\n",
       "Size_5001 to 10000 employees                      1.866e+06   6.78e+05      2.751      0.006    5.32e+05     3.2e+06\n",
       "Size_501 to 1000 Employees                         1.04e+05   1.58e+05      0.659      0.510   -2.06e+05    4.14e+05\n",
       "Size_501 to 1000 employees                        2.395e+05   2.46e+05      0.972      0.332   -2.45e+05    7.24e+05\n",
       "Size_51 to 200 Employees                         -2.132e+05    1.2e+05     -1.779      0.076   -4.49e+05    2.26e+04\n",
       "Size_51 to 200 employees                         -3.125e+05   1.74e+05     -1.794      0.074   -6.55e+05    3.01e+04\n",
       "Size_Unknown                                      1.186e+05   2.17e+05      0.545      0.586   -3.09e+05    5.46e+05\n",
       "job_simplifier_AIE                               -2.075e+04   2.88e+05     -0.072      0.943   -5.88e+05    5.46e+05\n",
       "job_simplifier_BA                                -5.592e+04   1.13e+05     -0.493      0.622   -2.79e+05    1.67e+05\n",
       "job_simplifier_BDE                                2.508e+05   1.23e+05      2.036      0.043    8527.566    4.93e+05\n",
       "job_simplifier_DLE                               -2.711e+05   2.64e+05     -1.028      0.305    -7.9e+05    2.48e+05\n",
       "job_simplifier_MLE                               -2.706e+04   1.12e+05     -0.241      0.810   -2.48e+05    1.94e+05\n",
       "job_simplifier_NLPE                                2.11e+05   2.44e+05      0.863      0.389    -2.7e+05    6.92e+05\n",
       "job_simplifier_data analyst                      -6.106e+04   9.69e+04     -0.630      0.529   -2.52e+05     1.3e+05\n",
       "job_simplifier_data engineer                      1.428e+05   1.15e+05      1.244      0.214   -8.29e+04    3.68e+05\n",
       "job_simplifier_data scientist                     2.188e+05   1.01e+05      2.176      0.030     2.1e+04    4.17e+05\n",
       "job_simplifier_manager                           -4.876e+04   3.04e+05     -0.161      0.873   -6.46e+05    5.49e+05\n",
       "job_simplifier_na                                  1.94e+05   9.56e+04      2.029      0.043    5891.408    3.82e+05\n",
       "job_simplifier_software engineer                 -4.685e+04   1.37e+05     -0.342      0.732   -3.16e+05    2.22e+05\n",
       "seniority_junior                                 -1.117e+05    2.8e+05     -0.398      0.691   -6.63e+05     4.4e+05\n",
       "seniority_na                                      1.888e+05   1.11e+05      1.706      0.089   -2.89e+04    4.07e+05\n",
       "seniority_senior                                  4.086e+05   1.24e+05      3.296      0.001    1.65e+05    6.52e+05\n",
       "==============================================================================\n",
       "Omnibus:                      237.888   Durbin-Watson:                   2.040\n",
       "Prob(Omnibus):                  0.000   Jarque-Bera (JB):             3513.025\n",
       "Skew:                           1.789   Prob(JB):                         0.00\n",
       "Kurtosis:                      15.834   Cond. No.                     9.38e+18\n",
       "==============================================================================\n",
       "\n",
       "Warnings:\n",
       "[1] Standard Errors assume that the covariance matrix of the errors is correctly specified.\n",
       "[2] The smallest eigenvalue is 6.32e-29. This might indicate that there are\n",
       "strong multicollinearity problems or that the design matrix is singular.\n",
       "\"\"\""
      ]
     },
     "execution_count": 7,
     "metadata": {},
     "output_type": "execute_result"
    }
   ],
   "source": [
    "# multiple linearregression using statsmodel\n",
    "x_sm = sm.add_constant(X)\n",
    "model = sm.OLS(y, x_sm)\n",
    "model.fit().summary()"
   ]
  },
  {
   "cell_type": "code",
   "execution_count": 8,
   "metadata": {},
   "outputs": [
    {
     "data": {
      "text/plain": [
       "-520742.1353261308"
      ]
     },
     "execution_count": 8,
     "metadata": {},
     "output_type": "execute_result"
    }
   ],
   "source": [
    "# linear regression using sklearn\n",
    "lm = LinearRegression().fit(X_train, y_train)\n",
    "np.mean(cross_val_score(lm,X_train,y_train, scoring = 'neg_mean_absolute_error', cv=3))"
   ]
  },
  {
   "cell_type": "markdown",
   "metadata": {},
   "source": [
    "which means our model is off by 520742"
   ]
  },
  {
   "cell_type": "code",
   "execution_count": 9,
   "metadata": {},
   "outputs": [
    {
     "data": {
      "text/plain": [
       "-519452.68070041604"
      ]
     },
     "execution_count": 9,
     "metadata": {},
     "output_type": "execute_result"
    }
   ],
   "source": [
    "# lasso\n",
    "lm_l = Lasso()\n",
    "np.mean(cross_val_score(lm_l,X_train,y_train, scoring = 'neg_mean_absolute_error', cv=3))"
   ]
  },
  {
   "cell_type": "code",
   "execution_count": 10,
   "metadata": {},
   "outputs": [
    {
     "data": {
      "text/plain": [
       "[<matplotlib.lines.Line2D at 0x25bb185b408>]"
      ]
     },
     "execution_count": 10,
     "metadata": {},
     "output_type": "execute_result"
    },
    {
     "data": {
      "image/png": "[encoded data removed]",
      "text/plain": [
       "<Figure size 432x288 with 1 Axes>"
      ]
     },
     "metadata": {
      "needs_background": "light"
     },
     "output_type": "display_data"
    }
   ],
   "source": [
    "alpha = []\n",
    "error = []\n",
    "\n",
    "for i in range(1,100):\n",
    "    alpha.append(i/10)\n",
    "    lml = Lasso(alpha=(i/10))\n",
    "    error.append(np.mean(cross_val_score(lml,X_train,y_train, scoring = 'neg_mean_absolute_error', cv= 3)))\n",
    "    \n",
    "plt.plot(alpha,error)"
   ]
  },
  {
   "cell_type": "code",
   "execution_count": 11,
   "metadata": {},
   "outputs": [
    {
     "data": {
      "text/html": [
       "<div>\n",
       "<style scoped>\n",
       "    .dataframe tbody tr th:only-of-type {\n",
       "        vertical-align: middle;\n",
       "    }\n",
       "\n",
       "    .dataframe tbody tr th {\n",
       "        vertical-align: top;\n",
       "    }\n",
       "\n",
       "    .dataframe thead th {\n",
       "        text-align: right;\n",
       "    }\n",
       "</style>\n",
       "<table border=\"1\" class=\"dataframe\">\n",
       "  <thead>\n",
       "    <tr style=\"text-align: right;\">\n",
       "      <th></th>\n",
       "      <th>alpha</th>\n",
       "      <th>error</th>\n",
       "    </tr>\n",
       "  </thead>\n",
       "  <tbody>\n",
       "    <tr>\n",
       "      <th>33</th>\n",
       "      <td>3.4</td>\n",
       "      <td>-518667.020804</td>\n",
       "    </tr>\n",
       "  </tbody>\n",
       "</table>\n",
       "</div>"
      ],
      "text/plain": [
       "    alpha          error\n",
       "33    3.4 -518667.020804"
      ]
     },
     "execution_count": 11,
     "metadata": {},
     "output_type": "execute_result"
    }
   ],
   "source": [
    "err = tuple(zip(alpha,error))\n",
    "df_err = pd.DataFrame(err, columns = ['alpha','error'])\n",
    "df_err[df_err.error == max(df_err.error)]"
   ]
  },
  {
   "cell_type": "code",
   "execution_count": 12,
   "metadata": {},
   "outputs": [
    {
     "data": {
      "text/plain": [
       "Lasso(alpha=3.4, copy_X=True, fit_intercept=True, max_iter=1000,\n",
       "      normalize=False, positive=False, precompute=False, random_state=None,\n",
       "      selection='cyclic', tol=0.0001, warm_start=False)"
      ]
     },
     "execution_count": 12,
     "metadata": {},
     "output_type": "execute_result"
    }
   ],
   "source": [
    "lm_l = Lasso(alpha=3.4)\n",
    "lm_l.fit(X_train,y_train)"
   ]
  },
  {
   "cell_type": "code",
   "execution_count": 13,
   "metadata": {},
   "outputs": [
    {
     "data": {
      "text/plain": [
       "-439409.0679267175"
      ]
     },
     "execution_count": 13,
     "metadata": {},
     "output_type": "execute_result"
    }
   ],
   "source": [
    "# random forest regressor\n",
    "rf = RandomForestRegressor()\n",
    "np.mean(cross_val_score(rf,X_train,y_train,scoring = 'neg_mean_absolute_error', cv= 3))"
   ]
  },
  {
   "cell_type": "code",
   "execution_count": 14,
   "metadata": {},
   "outputs": [
    {
     "data": {
      "text/plain": [
       "GridSearchCV(cv=3, error_score=nan,\n",
       "             estimator=RandomForestRegressor(bootstrap=True, ccp_alpha=0.0,\n",
       "                                             criterion='mse', max_depth=None,\n",
       "                                             max_features='auto',\n",
       "                                             max_leaf_nodes=None,\n",
       "                                             max_samples=None,\n",
       "                                             min_impurity_decrease=0.0,\n",
       "                                             min_impurity_split=None,\n",
       "                                             min_samples_leaf=1,\n",
       "                                             min_samples_split=2,\n",
       "                                             min_weight_fraction_leaf=0.0,\n",
       "                                             n_estimators=100, n_jobs=None,\n",
       "                                             oob_score=False, random_state=None,\n",
       "                                             verbose=0, warm_start=False),\n",
       "             iid='deprecated', n_jobs=None,\n",
       "             param_grid={'criterion': ('mse', 'mae'),\n",
       "                         'max_features': ('auto', 'sqrt', 'log2'),\n",
       "                         'n_estimators': range(10, 300, 10)},\n",
       "             pre_dispatch='2*n_jobs', refit=True, return_train_score=False,\n",
       "             scoring='neg_mean_absolute_error', verbose=0)"
      ]
     },
     "execution_count": 14,
     "metadata": {},
     "output_type": "execute_result"
    }
   ],
   "source": [
    "# tune models GridsearchCV\n",
    "parameters = {'n_estimators':range(10,300,10), 'criterion':('mse','mae'), 'max_features':('auto','sqrt','log2')}\n",
    "gs = GridSearchCV(rf,parameters,scoring='neg_mean_absolute_error',cv=3)\n",
    "gs.fit(X_train,y_train)"
   ]
  },
  {
   "cell_type": "code",
   "execution_count": 15,
   "metadata": {},
   "outputs": [
    {
     "data": {
      "text/plain": [
       "-424628.448596368"
      ]
     },
     "execution_count": 15,
     "metadata": {},
     "output_type": "execute_result"
    }
   ],
   "source": [
    "gs.best_score_"
   ]
  },
  {
   "cell_type": "code",
   "execution_count": 16,
   "metadata": {},
   "outputs": [
    {
     "data": {
      "text/plain": [
       "RandomForestRegressor(bootstrap=True, ccp_alpha=0.0, criterion='mae',\n",
       "                      max_depth=None, max_features='sqrt', max_leaf_nodes=None,\n",
       "                      max_samples=None, min_impurity_decrease=0.0,\n",
       "                      min_impurity_split=None, min_samples_leaf=1,\n",
       "                      min_samples_split=2, min_weight_fraction_leaf=0.0,\n",
       "                      n_estimators=290, n_jobs=None, oob_score=False,\n",
       "                      random_state=None, verbose=0, warm_start=False)"
      ]
     },
     "execution_count": 16,
     "metadata": {},
     "output_type": "execute_result"
    }
   ],
   "source": [
    "gs.best_estimator_"
   ]
  },
  {
   "cell_type": "code",
   "execution_count": 17,
   "metadata": {},
   "outputs": [],
   "source": [
    "# test ensembles \n",
    "tpred_lm = lm.predict(X_test)\n",
    "tpred_lml = lm_l.predict(X_test)\n",
    "tpred_rf = gs.best_estimator_.predict(X_test)"
   ]
  },
  {
   "cell_type": "code",
   "execution_count": 18,
   "metadata": {},
   "outputs": [
    {
     "data": {
      "text/plain": [
       "518665.89682147815"
      ]
     },
     "execution_count": 18,
     "metadata": {},
     "output_type": "execute_result"
    }
   ],
   "source": [
    "mean_absolute_error(y_test,tpred_lm)"
   ]
  },
  {
   "cell_type": "code",
   "execution_count": 19,
   "metadata": {},
   "outputs": [
    {
     "data": {
      "text/plain": [
       "517629.8075847258"
      ]
     },
     "execution_count": 19,
     "metadata": {},
     "output_type": "execute_result"
    }
   ],
   "source": [
    "mean_absolute_error(y_test,tpred_lml)"
   ]
  },
  {
   "cell_type": "code",
   "execution_count": 20,
   "metadata": {},
   "outputs": [
    {
     "data": {
      "text/plain": [
       "438896.3906352087"
      ]
     },
     "execution_count": 20,
     "metadata": {},
     "output_type": "execute_result"
    }
   ],
   "source": [
    "mean_absolute_error(y_test,tpred_rf)"
   ]
  },
  {
   "cell_type": "code",
   "execution_count": 21,
   "metadata": {},
   "outputs": [
    {
     "data": {
      "text/plain": [
       "462302.2911714954"
      ]
     },
     "execution_count": 21,
     "metadata": {},
     "output_type": "execute_result"
    }
   ],
   "source": [
    "mean_absolute_error(y_test,(tpred_lm+tpred_rf)/2)"
   ]
  },
  {
   "cell_type": "code",
   "execution_count": 23,
   "metadata": {},
   "outputs": [
    {
     "data": {
      "text/plain": [
       "974136.3172413793"
      ]
     },
     "execution_count": 23,
     "metadata": {},
     "output_type": "execute_result"
    }
   ],
   "source": [
    "import pickle\n",
    "pickl = {'model': gs.best_estimator_}\n",
    "pickle.dump( pickl, open( 'model_file' + \".p\", \"wb\" ) )\n",
    "\n",
    "file_name = \"model_file.p\"\n",
    "with open(file_name, 'rb') as pickled:\n",
    "    data = pickle.load(pickled)\n",
    "    model = data['model']\n",
    "\n",
    "model.predict(np.array(list(X_test.iloc[1,:])).reshape(1,-1))[0]\n",
    "\n",
    "# list(X_test.iloc[1,:])"
   ]
  },
  {
   "cell_type": "code",
   "execution_count": 25,
   "metadata": {},
   "outputs": [],
   "source": [
    "# list(X_test.iloc[1,:])"
   ]
  },
  {
   "cell_type": "code",
   "execution_count": null,
   "metadata": {},
   "outputs": [],
   "source": []
  }
 ],
 "metadata": {
  "kernelspec": {
   "display_name": "Python 3",
   "language": "python",
   "name": "python3"
  },
  "language_info": {
   "codemirror_mode": {
    "name": "ipython",
    "version": 3
   },
   "file_extension": ".py",
   "mimetype": "text/x-python",
   "name": "python",
   "nbconvert_exporter": "python",
   "pygments_lexer": "ipython3",
   "version": "3.7.6"
  }
 },
 "nbformat": 4,
 "nbformat_minor": 4
}
