{
 "cells": [
  {
   "cell_type": "code",
   "execution_count": 1,
   "metadata": {},
   "outputs": [],
   "source": [
    "import pandas as pd"
   ]
  },
  {
   "cell_type": "code",
   "execution_count": 2,
   "metadata": {},
   "outputs": [],
   "source": [
    "# read all the csv files\n",
    "df_ds = pd.read_csv('glassdoor_jobs_ds.csv')  # data scientist\n",
    "df_analyst = pd.read_csv('glassdoor_jobs_analyst.csv') # data analyst\n",
    "df_dl = pd.read_csv('glassdoor_jobs_DL.csv') # deep learning engineer\n",
    "df_ml = pd.read_csv('glassdoor_jobs_ML.csv') # machine learning engineer\n",
    "df_ba = pd.read_csv('glassdoor_jobs_BA.csv') # business analyst\n",
    "df_bde = pd.read_csv('glassdoor_jobs_BDE.csv') # big data engineer\n",
    "df_nlp = pd.read_csv('glassdoor_jobs_NLP.csv') # NLP engineer"
   ]
  },
  {
   "cell_type": "code",
   "execution_count": null,
   "metadata": {},
   "outputs": [],
   "source": [
    "# join all the dataframes\n",
    "frames = [df_analyst, df_dl, df_ds, df_ml, df_bde, df_ba, df_nlp]\n",
    "df = pd.concat(frames)"
   ]
  },
  {
   "cell_type": "code",
   "execution_count": 82,
   "metadata": {},
   "outputs": [],
   "source": [
    "# df.to_csv('glassdoor_jobs_final.csv', index = False)\n",
    "df = pd.read_csv('glassdoor_jobs_final_1.csv')"
   ]
  },
  {
   "cell_type": "markdown",
   "metadata": {},
   "source": [
    "# salary parsing\n",
    "\n",
    "The salary estimate column has the following different values:\n",
    "1. per month salary\n",
    "2. range of salary\n",
    "3. single valued salary\n",
    "4. data type is not int, so we will convert it\n",
    "5. some salary range are month wise\n"
   ]
  },
  {
   "cell_type": "code",
   "execution_count": 83,
   "metadata": {},
   "outputs": [],
   "source": [
    "def salary_parsing(salary):\n",
    "    salary = salary.replace('INR ', '').replace(',','')\n",
    "    if '/mo' in salary:\n",
    "        salary = int(salary.split('/')[0]) * 12\n",
    "        min_salary = 0\n",
    "        max_salary = 0\n",
    "    elif '-' in salary:\n",
    "        min_salary = int(salary.split('-')[0].replace('K','')) * 1000\n",
    "        max_salary = int(salary.split('-')[1].replace('K','')) * 1000\n",
    "        salary = (min_salary + max_salary)/2\n",
    "    else:\n",
    "        salary = int(salary.replace(' ',''))\n",
    "        min_salary = 0\n",
    "        max_salary = 0\n",
    "    if min_salary/10000 < 10:\n",
    "        min_salary = min_salary *12\n",
    "    if max_salary/10000 < 10:\n",
    "        max_salary = max_salary *12\n",
    "    if salary/10000 < 10:\n",
    "        salary = salary *12\n",
    "    return salary, min_salary, max_salary"
   ]
  },
  {
   "cell_type": "code",
   "execution_count": 84,
   "metadata": {},
   "outputs": [],
   "source": [
    "df['avg_salary'], df['min_salary'], df['max_salary'] = zip(*df['Salary Estimate'].apply(salary_parsing))"
   ]
  },
  {
   "cell_type": "code",
   "execution_count": 85,
   "metadata": {},
   "outputs": [
    {
     "data": {
      "text/html": [
       "<div>\n",
       "<style scoped>\n",
       "    .dataframe tbody tr th:only-of-type {\n",
       "        vertical-align: middle;\n",
       "    }\n",
       "\n",
       "    .dataframe tbody tr th {\n",
       "        vertical-align: top;\n",
       "    }\n",
       "\n",
       "    .dataframe thead th {\n",
       "        text-align: right;\n",
       "    }\n",
       "</style>\n",
       "<table border=\"1\" class=\"dataframe\">\n",
       "  <thead>\n",
       "    <tr style=\"text-align: right;\">\n",
       "      <th></th>\n",
       "      <th>Company Name</th>\n",
       "      <th>Competitors</th>\n",
       "      <th>Founded</th>\n",
       "      <th>Headquarters</th>\n",
       "      <th>Industry</th>\n",
       "      <th>Job Description</th>\n",
       "      <th>Job Title</th>\n",
       "      <th>Location</th>\n",
       "      <th>Rating</th>\n",
       "      <th>Revenue</th>\n",
       "      <th>Salary Estimate</th>\n",
       "      <th>Sector</th>\n",
       "      <th>Size</th>\n",
       "      <th>Type of ownership</th>\n",
       "      <th>avg_salary</th>\n",
       "      <th>min_salary</th>\n",
       "      <th>max_salary</th>\n",
       "    </tr>\n",
       "  </thead>\n",
       "  <tbody>\n",
       "    <tr>\n",
       "      <th>0</th>\n",
       "      <td>Punchh\\n4.2</td>\n",
       "      <td>-1</td>\n",
       "      <td>2010</td>\n",
       "      <td>-1</td>\n",
       "      <td>Enterprise Software &amp; Network Solutions</td>\n",
       "      <td>Punchh creates the consistent, modern experien...</td>\n",
       "      <td>Data Analyst</td>\n",
       "      <td>Jaipur</td>\n",
       "      <td>4.2</td>\n",
       "      <td>$50 to $100 million (USD)</td>\n",
       "      <td>INR  6,18,615</td>\n",
       "      <td>Information Technology</td>\n",
       "      <td>201 to 500 Employees</td>\n",
       "      <td>Company - Private</td>\n",
       "      <td>618615.0</td>\n",
       "      <td>0</td>\n",
       "      <td>0</td>\n",
       "    </tr>\n",
       "    <tr>\n",
       "      <th>1</th>\n",
       "      <td>Gensuite, LLC\\n3.4</td>\n",
       "      <td>-1</td>\n",
       "      <td>2008</td>\n",
       "      <td>-1</td>\n",
       "      <td>Computer Hardware &amp; Software</td>\n",
       "      <td>Associate Data Analyst\\n\\nFull Time\\nBangalore...</td>\n",
       "      <td>Associate Data Analyst</td>\n",
       "      <td>Bengaluru</td>\n",
       "      <td>3.4</td>\n",
       "      <td>$10 to $25 million (USD)</td>\n",
       "      <td>INR  3,18,709</td>\n",
       "      <td>Information Technology</td>\n",
       "      <td>201 to 500 Employees</td>\n",
       "      <td>Company - Private</td>\n",
       "      <td>318709.0</td>\n",
       "      <td>0</td>\n",
       "      <td>0</td>\n",
       "    </tr>\n",
       "    <tr>\n",
       "      <th>2</th>\n",
       "      <td>GroundTruth\\n3.4</td>\n",
       "      <td>-1</td>\n",
       "      <td>2009</td>\n",
       "      <td>-1</td>\n",
       "      <td>-1</td>\n",
       "      <td>Role: Junior Data Analyst\\n\\nLocation: Gurgaon...</td>\n",
       "      <td>Junior Data Analyst</td>\n",
       "      <td>Gurgaon</td>\n",
       "      <td>3.4</td>\n",
       "      <td>Less than $1 million (USD)</td>\n",
       "      <td>INR 783K - INR 849K</td>\n",
       "      <td>-1</td>\n",
       "      <td>201 to 500 Employees</td>\n",
       "      <td>Company - Private</td>\n",
       "      <td>816000.0</td>\n",
       "      <td>783000</td>\n",
       "      <td>849000</td>\n",
       "    </tr>\n",
       "    <tr>\n",
       "      <th>3</th>\n",
       "      <td>Amazon.com, Inc.\\n4.3</td>\n",
       "      <td>-1</td>\n",
       "      <td>1994</td>\n",
       "      <td>-1</td>\n",
       "      <td>Internet</td>\n",
       "      <td>Amazon Indias Supply Chain &amp; Analytics team is...</td>\n",
       "      <td>Data Analyst Support</td>\n",
       "      <td>Bengaluru</td>\n",
       "      <td>4.3</td>\n",
       "      <td>$10+ billion (USD)</td>\n",
       "      <td>INR  14,39,361</td>\n",
       "      <td>Information Technology</td>\n",
       "      <td>10000+ Employees</td>\n",
       "      <td>Company - Public</td>\n",
       "      <td>1439361.0</td>\n",
       "      <td>0</td>\n",
       "      <td>0</td>\n",
       "    </tr>\n",
       "    <tr>\n",
       "      <th>4</th>\n",
       "      <td>Amazon.com, Inc.\\n4.3</td>\n",
       "      <td>-1</td>\n",
       "      <td>1994</td>\n",
       "      <td>-1</td>\n",
       "      <td>Internet</td>\n",
       "      <td>Amazon's Marketplace Trust team works to ensur...</td>\n",
       "      <td>Data Analyst</td>\n",
       "      <td>Bengaluru</td>\n",
       "      <td>4.3</td>\n",
       "      <td>$10+ billion (USD)</td>\n",
       "      <td>INR  14,39,361</td>\n",
       "      <td>Information Technology</td>\n",
       "      <td>10000+ Employees</td>\n",
       "      <td>Company - Public</td>\n",
       "      <td>1439361.0</td>\n",
       "      <td>0</td>\n",
       "      <td>0</td>\n",
       "    </tr>\n",
       "  </tbody>\n",
       "</table>\n",
       "</div>"
      ],
      "text/plain": [
       "            Company Name Competitors  Founded Headquarters  \\\n",
       "0            Punchh\\n4.2          -1     2010           -1   \n",
       "1     Gensuite, LLC\\n3.4          -1     2008           -1   \n",
       "2       GroundTruth\\n3.4          -1     2009           -1   \n",
       "3  Amazon.com, Inc.\\n4.3          -1     1994           -1   \n",
       "4  Amazon.com, Inc.\\n4.3          -1     1994           -1   \n",
       "\n",
       "                                  Industry  \\\n",
       "0  Enterprise Software & Network Solutions   \n",
       "1             Computer Hardware & Software   \n",
       "2                                       -1   \n",
       "3                                 Internet   \n",
       "4                                 Internet   \n",
       "\n",
       "                                     Job Description               Job Title  \\\n",
       "0  Punchh creates the consistent, modern experien...            Data Analyst   \n",
       "1  Associate Data Analyst\\n\\nFull Time\\nBangalore...  Associate Data Analyst   \n",
       "2  Role: Junior Data Analyst\\n\\nLocation: Gurgaon...     Junior Data Analyst   \n",
       "3  Amazon Indias Supply Chain & Analytics team is...    Data Analyst Support   \n",
       "4  Amazon's Marketplace Trust team works to ensur...            Data Analyst   \n",
       "\n",
       "    Location  Rating                     Revenue      Salary Estimate  \\\n",
       "0     Jaipur     4.2   $50 to $100 million (USD)        INR  6,18,615   \n",
       "1  Bengaluru     3.4    $10 to $25 million (USD)        INR  3,18,709   \n",
       "2    Gurgaon     3.4  Less than $1 million (USD)  INR 783K - INR 849K   \n",
       "3  Bengaluru     4.3          $10+ billion (USD)       INR  14,39,361   \n",
       "4  Bengaluru     4.3          $10+ billion (USD)       INR  14,39,361   \n",
       "\n",
       "                   Sector                  Size  Type of ownership  \\\n",
       "0  Information Technology  201 to 500 Employees  Company - Private   \n",
       "1  Information Technology  201 to 500 Employees  Company - Private   \n",
       "2                      -1  201 to 500 Employees  Company - Private   \n",
       "3  Information Technology      10000+ Employees   Company - Public   \n",
       "4  Information Technology      10000+ Employees   Company - Public   \n",
       "\n",
       "   avg_salary  min_salary  max_salary  \n",
       "0    618615.0           0           0  \n",
       "1    318709.0           0           0  \n",
       "2    816000.0      783000      849000  \n",
       "3   1439361.0           0           0  \n",
       "4   1439361.0           0           0  "
      ]
     },
     "execution_count": 85,
     "metadata": {},
     "output_type": "execute_result"
    }
   ],
   "source": [
    "df.head()"
   ]
  },
  {
   "cell_type": "code",
   "execution_count": 89,
   "metadata": {},
   "outputs": [
    {
     "name": "stdout",
     "output_type": "stream",
     "text": [
      "                                Company Name  avg_salary\n",
      "89   MongoDB, Inc. formerly 10gen, Inc.\\n4.4    105000.0\n",
      "118  MongoDB, Inc. formerly 10gen, Inc.\\n4.4    105000.0\n",
      "147  MongoDB, Inc. formerly 10gen, Inc.\\n4.4    105000.0\n",
      "535                        Aurigin Inc.\\n4.9    105000.0\n",
      "\n",
      "\n",
      "           Company Name  avg_salary\n",
      "397  Conviva, Inc.\\n4.1   6278000.0\n"
     ]
    }
   ],
   "source": [
    "print(df[['Company Name', 'avg_salary']][df['avg_salary'] == min(df['avg_salary'])])\n",
    "print('\\n')\n",
    "print(df[['Company Name', 'avg_salary']][df['avg_salary'] == max(df['avg_salary'])])"
   ]
  },
  {
   "cell_type": "markdown",
   "metadata": {},
   "source": [
    "# Company Name\n",
    "1. remove the duplicate rows from the data set\n",
    "2. company name has rating appended, we will split it "
   ]
  },
  {
   "cell_type": "code",
   "execution_count": 91,
   "metadata": {},
   "outputs": [
    {
     "data": {
      "text/plain": [
       "HP Inc.\\n4.1                       29\n",
       "Netomi\\n4.8                        27\n",
       "Amazon.com, Inc.\\n4.3              18\n",
       "JPMorgan Chase & Co.\\n3.9          11\n",
       "Amazon\\n4.3                         9\n",
       "                                   ..\n",
       "Bharat Light & Power\\n2.5           1\n",
       "UST Global\\n4.2                     1\n",
       "Finaxar Pte. Ltd.\\n3.1              1\n",
       "Integrity One Technologies\\n3.5     1\n",
       "ITC Infotech India Ltd.\\n3.8        1\n",
       "Name: Company Name, Length: 320, dtype: int64"
      ]
     },
     "execution_count": 91,
     "metadata": {},
     "output_type": "execute_result"
    }
   ],
   "source": [
    "df['Company Name'].value_counts()"
   ]
  },
  {
   "cell_type": "code",
   "execution_count": 96,
   "metadata": {},
   "outputs": [],
   "source": [
    "#drop duplicate rows from the data\n",
    "df = df.drop_duplicates()"
   ]
  },
  {
   "cell_type": "code",
   "execution_count": 107,
   "metadata": {},
   "outputs": [],
   "source": [
    "df['Company Name'] = df['Company Name'].astype(str)"
   ]
  },
  {
   "cell_type": "code",
   "execution_count": 108,
   "metadata": {},
   "outputs": [],
   "source": [
    "df['Company Name'] = df['Company Name'].apply(lambda x: x.split('\\n')[0])"
   ]
  },
  {
   "cell_type": "markdown",
   "metadata": {},
   "source": [
    "# Location column\n",
    "Location India is vague but no other substitute"
   ]
  },
  {
   "cell_type": "code",
   "execution_count": 110,
   "metadata": {},
   "outputs": [
    {
     "data": {
      "text/plain": [
       "Bengaluru              188\n",
       "Hyderabad               57\n",
       "Chennai                 43\n",
       "Pune                    42\n",
       "Gurgaon                 34\n",
       "Mumbai                  33\n",
       "India                   15\n",
       "Noida                   13\n",
       "Jaipur                   7\n",
       "Kochi                    7\n",
       "New Delhi                7\n",
       "Ahmedabad                5\n",
       "Chandigarh               3\n",
       "Thiruvananthapuram       3\n",
       "Kolkata                  2\n",
       "Kanpur Nagar             2\n",
       "SAS Nagar                2\n",
       "Andheri                  1\n",
       "Hiranandani Gardens      1\n",
       "Vadodara                 1\n",
       "Ernakulam                1\n",
       "Chhota Udaipur           1\n",
       "Coimbatore               1\n",
       "Indore                   1\n",
       "Bhubaneswar              1\n",
       "Kharar                   1\n",
       "Tamil Nadu               1\n",
       "Bagalur                  1\n",
       "Andhra Pradesh           1\n",
       "Name: Location, dtype: int64"
      ]
     },
     "execution_count": 110,
     "metadata": {},
     "output_type": "execute_result"
    }
   ],
   "source": [
    "df['Location'].value_counts()"
   ]
  },
  {
   "cell_type": "markdown",
   "metadata": {},
   "source": [
    "# Company Age"
   ]
  },
  {
   "cell_type": "code",
   "execution_count": 111,
   "metadata": {},
   "outputs": [],
   "source": [
    "df['Age'] = df.Founded.apply(lambda x: x if x<1 else 2020-x)"
   ]
  },
  {
   "cell_type": "markdown",
   "metadata": {},
   "source": [
    "# Job description parsing"
   ]
  },
  {
   "cell_type": "code",
   "execution_count": null,
   "metadata": {},
   "outputs": [],
   "source": []
  }
 ],
 "metadata": {
  "kernelspec": {
   "display_name": "Python 3",
   "language": "python",
   "name": "python3"
  },
  "language_info": {
   "codemirror_mode": {
    "name": "ipython",
    "version": 3
   },
   "file_extension": ".py",
   "mimetype": "text/x-python",
   "name": "python",
   "nbconvert_exporter": "python",
   "pygments_lexer": "ipython3",
   "version": "3.7.6"
  }
 },
 "nbformat": 4,
 "nbformat_minor": 4
}
