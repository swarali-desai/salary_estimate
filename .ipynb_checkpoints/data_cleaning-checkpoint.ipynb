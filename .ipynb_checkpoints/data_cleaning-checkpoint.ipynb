{
 "cells": [
  {
   "cell_type": "code",
   "execution_count": 1,
   "metadata": {},
   "outputs": [],
   "source": [
    "import pandas as pd\n",
    "import os"
   ]
  },
  {
   "cell_type": "code",
   "execution_count": 2,
   "metadata": {},
   "outputs": [],
   "source": [
    "# read all the csv files\n",
    "if os.path.exists('csv_files/glassdoor_jobs_final_1.csv'):\n",
    "    # run this command directly once the final csv is created\n",
    "    df = pd.read_csv('csv_files/glassdoor_jobs_final_1.csv')\n",
    "else:\n",
    "    df_ds = pd.read_csv('csv_files/glassdoor_jobs_ds.csv')  # data scientist\n",
    "    df_analyst = pd.read_csv('csv_files/glassdoor_jobs_analyst.csv') # data analyst\n",
    "    df_dl = pd.read_csv('csv_files/glassdoor_jobs_DL.csv') # deep learning engineer\n",
    "    df_ml = pd.read_csv('csv_files/glassdoor_jobs_ML.csv') # machine learning engineer\n",
    "    df_ba = pd.read_csv('csv_files/glassdoor_jobs_BA.csv') # business analyst\n",
    "    df_bde = pd.read_csv('csv_files/glassdoor_jobs_BDE.csv') # big data engineer\n",
    "    df_nlp = pd.read_csv('csv_files/glassdoor_jobs_NLP.csv') # NLP engineer\n",
    "    \n",
    "    # join all the dataframes\n",
    "    frames = [df_analyst, df_dl, df_ds, df_ml, df_bde, df_ba, df_nlp]\n",
    "    df = pd.concat(frames)\n",
    "    df.to_csv('csv_files/glassdoor_jobs_final.csv', index = False)"
   ]
  },
  {
   "cell_type": "markdown",
   "metadata": {},
   "source": [
    "# salary parsing\n",
    "\n",
    "The salary estimate column has the following different values:\n",
    "1. per month salary\n",
    "2. range of salary\n",
    "3. single valued salary\n",
    "4. data type is not int, so we will convert it\n",
    "5. some salary range are month wise\n"
   ]
  },
  {
   "cell_type": "code",
   "execution_count": 3,
   "metadata": {},
   "outputs": [],
   "source": [
    "def salary_parsing(salary):\n",
    "    salary = salary.replace('INR ', '').replace(',','')\n",
    "    if '/mo' in salary:\n",
    "        salary = int(salary.split('/')[0]) * 12\n",
    "        min_salary = 0\n",
    "        max_salary = 0\n",
    "    elif '-' in salary:\n",
    "        min_salary = int(salary.split('-')[0].replace('K','')) * 1000\n",
    "        max_salary = int(salary.split('-')[1].replace('K','')) * 1000\n",
    "        salary = (min_salary + max_salary)/2\n",
    "    else:\n",
    "        salary = int(salary.replace(' ',''))\n",
    "        min_salary = 0\n",
    "        max_salary = 0\n",
    "    if min_salary/10000 < 10:\n",
    "        min_salary = min_salary *12\n",
    "    if max_salary/10000 < 10:\n",
    "        max_salary = max_salary *12\n",
    "    if salary/10000 < 10:\n",
    "        salary = salary *12\n",
    "    return salary, min_salary, max_salary"
   ]
  },
  {
   "cell_type": "code",
   "execution_count": 4,
   "metadata": {},
   "outputs": [],
   "source": [
    "df['avg_salary'], df['min_salary'], df['max_salary'] = zip(*df['Salary Estimate'].apply(salary_parsing))"
   ]
  },
  {
   "cell_type": "code",
   "execution_count": 5,
   "metadata": {},
   "outputs": [
    {
     "data": {
      "text/html": [
       "<div>\n",
       "<style scoped>\n",
       "    .dataframe tbody tr th:only-of-type {\n",
       "        vertical-align: middle;\n",
       "    }\n",
       "\n",
       "    .dataframe tbody tr th {\n",
       "        vertical-align: top;\n",
       "    }\n",
       "\n",
       "    .dataframe thead th {\n",
       "        text-align: right;\n",
       "    }\n",
       "</style>\n",
       "<table border=\"1\" class=\"dataframe\">\n",
       "  <thead>\n",
       "    <tr style=\"text-align: right;\">\n",
       "      <th></th>\n",
       "      <th>Company Name</th>\n",
       "      <th>Competitors</th>\n",
       "      <th>Founded</th>\n",
       "      <th>Headquarters</th>\n",
       "      <th>Industry</th>\n",
       "      <th>Job Description</th>\n",
       "      <th>Job Title</th>\n",
       "      <th>Location</th>\n",
       "      <th>Rating</th>\n",
       "      <th>Revenue</th>\n",
       "      <th>Salary Estimate</th>\n",
       "      <th>Sector</th>\n",
       "      <th>Size</th>\n",
       "      <th>Type of ownership</th>\n",
       "      <th>avg_salary</th>\n",
       "      <th>min_salary</th>\n",
       "      <th>max_salary</th>\n",
       "    </tr>\n",
       "  </thead>\n",
       "  <tbody>\n",
       "    <tr>\n",
       "      <th>0</th>\n",
       "      <td>Punchh\\n4.2</td>\n",
       "      <td>-1</td>\n",
       "      <td>2010</td>\n",
       "      <td>-1</td>\n",
       "      <td>Enterprise Software &amp; Network Solutions</td>\n",
       "      <td>Punchh creates the consistent, modern experien...</td>\n",
       "      <td>Data Analyst</td>\n",
       "      <td>Jaipur</td>\n",
       "      <td>4.2</td>\n",
       "      <td>$50 to $100 million (USD)</td>\n",
       "      <td>INR  6,18,615</td>\n",
       "      <td>Information Technology</td>\n",
       "      <td>201 to 500 Employees</td>\n",
       "      <td>Company - Private</td>\n",
       "      <td>618615.0</td>\n",
       "      <td>0</td>\n",
       "      <td>0</td>\n",
       "    </tr>\n",
       "    <tr>\n",
       "      <th>1</th>\n",
       "      <td>Gensuite, LLC\\n3.4</td>\n",
       "      <td>-1</td>\n",
       "      <td>2008</td>\n",
       "      <td>-1</td>\n",
       "      <td>Computer Hardware &amp; Software</td>\n",
       "      <td>Associate Data Analyst\\n\\nFull Time\\nBangalore...</td>\n",
       "      <td>Associate Data Analyst</td>\n",
       "      <td>Bengaluru</td>\n",
       "      <td>3.4</td>\n",
       "      <td>$10 to $25 million (USD)</td>\n",
       "      <td>INR  3,18,709</td>\n",
       "      <td>Information Technology</td>\n",
       "      <td>201 to 500 Employees</td>\n",
       "      <td>Company - Private</td>\n",
       "      <td>318709.0</td>\n",
       "      <td>0</td>\n",
       "      <td>0</td>\n",
       "    </tr>\n",
       "    <tr>\n",
       "      <th>2</th>\n",
       "      <td>GroundTruth\\n3.4</td>\n",
       "      <td>-1</td>\n",
       "      <td>2009</td>\n",
       "      <td>-1</td>\n",
       "      <td>-1</td>\n",
       "      <td>Role: Junior Data Analyst\\n\\nLocation: Gurgaon...</td>\n",
       "      <td>Junior Data Analyst</td>\n",
       "      <td>Gurgaon</td>\n",
       "      <td>3.4</td>\n",
       "      <td>Less than $1 million (USD)</td>\n",
       "      <td>INR 783K - INR 849K</td>\n",
       "      <td>-1</td>\n",
       "      <td>201 to 500 Employees</td>\n",
       "      <td>Company - Private</td>\n",
       "      <td>816000.0</td>\n",
       "      <td>783000</td>\n",
       "      <td>849000</td>\n",
       "    </tr>\n",
       "    <tr>\n",
       "      <th>3</th>\n",
       "      <td>Amazon.com, Inc.\\n4.3</td>\n",
       "      <td>-1</td>\n",
       "      <td>1994</td>\n",
       "      <td>-1</td>\n",
       "      <td>Internet</td>\n",
       "      <td>Amazon Indias Supply Chain &amp; Analytics team is...</td>\n",
       "      <td>Data Analyst Support</td>\n",
       "      <td>Bengaluru</td>\n",
       "      <td>4.3</td>\n",
       "      <td>$10+ billion (USD)</td>\n",
       "      <td>INR  14,39,361</td>\n",
       "      <td>Information Technology</td>\n",
       "      <td>10000+ Employees</td>\n",
       "      <td>Company - Public</td>\n",
       "      <td>1439361.0</td>\n",
       "      <td>0</td>\n",
       "      <td>0</td>\n",
       "    </tr>\n",
       "    <tr>\n",
       "      <th>4</th>\n",
       "      <td>Amazon.com, Inc.\\n4.3</td>\n",
       "      <td>-1</td>\n",
       "      <td>1994</td>\n",
       "      <td>-1</td>\n",
       "      <td>Internet</td>\n",
       "      <td>Amazon's Marketplace Trust team works to ensur...</td>\n",
       "      <td>Data Analyst</td>\n",
       "      <td>Bengaluru</td>\n",
       "      <td>4.3</td>\n",
       "      <td>$10+ billion (USD)</td>\n",
       "      <td>INR  14,39,361</td>\n",
       "      <td>Information Technology</td>\n",
       "      <td>10000+ Employees</td>\n",
       "      <td>Company - Public</td>\n",
       "      <td>1439361.0</td>\n",
       "      <td>0</td>\n",
       "      <td>0</td>\n",
       "    </tr>\n",
       "  </tbody>\n",
       "</table>\n",
       "</div>"
      ],
      "text/plain": [
       "            Company Name Competitors  Founded Headquarters  \\\n",
       "0            Punchh\\n4.2          -1     2010           -1   \n",
       "1     Gensuite, LLC\\n3.4          -1     2008           -1   \n",
       "2       GroundTruth\\n3.4          -1     2009           -1   \n",
       "3  Amazon.com, Inc.\\n4.3          -1     1994           -1   \n",
       "4  Amazon.com, Inc.\\n4.3          -1     1994           -1   \n",
       "\n",
       "                                  Industry  \\\n",
       "0  Enterprise Software & Network Solutions   \n",
       "1             Computer Hardware & Software   \n",
       "2                                       -1   \n",
       "3                                 Internet   \n",
       "4                                 Internet   \n",
       "\n",
       "                                     Job Description               Job Title  \\\n",
       "0  Punchh creates the consistent, modern experien...            Data Analyst   \n",
       "1  Associate Data Analyst\\n\\nFull Time\\nBangalore...  Associate Data Analyst   \n",
       "2  Role: Junior Data Analyst\\n\\nLocation: Gurgaon...     Junior Data Analyst   \n",
       "3  Amazon Indias Supply Chain & Analytics team is...    Data Analyst Support   \n",
       "4  Amazon's Marketplace Trust team works to ensur...            Data Analyst   \n",
       "\n",
       "    Location  Rating                     Revenue      Salary Estimate  \\\n",
       "0     Jaipur     4.2   $50 to $100 million (USD)        INR  6,18,615   \n",
       "1  Bengaluru     3.4    $10 to $25 million (USD)        INR  3,18,709   \n",
       "2    Gurgaon     3.4  Less than $1 million (USD)  INR 783K - INR 849K   \n",
       "3  Bengaluru     4.3          $10+ billion (USD)       INR  14,39,361   \n",
       "4  Bengaluru     4.3          $10+ billion (USD)       INR  14,39,361   \n",
       "\n",
       "                   Sector                  Size  Type of ownership  \\\n",
       "0  Information Technology  201 to 500 Employees  Company - Private   \n",
       "1  Information Technology  201 to 500 Employees  Company - Private   \n",
       "2                      -1  201 to 500 Employees  Company - Private   \n",
       "3  Information Technology      10000+ Employees   Company - Public   \n",
       "4  Information Technology      10000+ Employees   Company - Public   \n",
       "\n",
       "   avg_salary  min_salary  max_salary  \n",
       "0    618615.0           0           0  \n",
       "1    318709.0           0           0  \n",
       "2    816000.0      783000      849000  \n",
       "3   1439361.0           0           0  \n",
       "4   1439361.0           0           0  "
      ]
     },
     "execution_count": 5,
     "metadata": {},
     "output_type": "execute_result"
    }
   ],
   "source": [
    "df.head()"
   ]
  },
  {
   "cell_type": "code",
   "execution_count": 6,
   "metadata": {},
   "outputs": [
    {
     "name": "stdout",
     "output_type": "stream",
     "text": [
      "                                Company Name  avg_salary\n",
      "89   MongoDB, Inc. formerly 10gen, Inc.\\n4.4    105000.0\n",
      "118  MongoDB, Inc. formerly 10gen, Inc.\\n4.4    105000.0\n",
      "147  MongoDB, Inc. formerly 10gen, Inc.\\n4.4    105000.0\n",
      "535                        Aurigin Inc.\\n4.9    105000.0\n",
      "\n",
      "\n",
      "           Company Name  avg_salary\n",
      "397  Conviva, Inc.\\n4.1   6278000.0\n"
     ]
    }
   ],
   "source": [
    "print(df[['Company Name', 'avg_salary']][df['avg_salary'] == min(df['avg_salary'])])\n",
    "print('\\n')\n",
    "print(df[['Company Name', 'avg_salary']][df['avg_salary'] == max(df['avg_salary'])])"
   ]
  },
  {
   "cell_type": "markdown",
   "metadata": {},
   "source": [
    "# Company Name\n",
    "1. remove the duplicate rows from the data set\n",
    "2. company name has rating appended, we will split it "
   ]
  },
  {
   "cell_type": "code",
   "execution_count": 7,
   "metadata": {},
   "outputs": [
    {
     "data": {
      "text/plain": [
       "HP Inc.\\n4.1                                 29\n",
       "Netomi\\n4.8                                  27\n",
       "Amazon.com, Inc.\\n4.3                        18\n",
       "JPMorgan Chase & Co.\\n3.9                    11\n",
       "Amazon\\n4.3                                   9\n",
       "                                             ..\n",
       "Scienaptic Systems\\n3.7                       1\n",
       "Accenture\\n4.0                                1\n",
       "The Straits Network Pte Ltd\\n2.3              1\n",
       "Fidelity Management and Research LLC\\n4.0     1\n",
       "Chandigarh University\\n4.6                    1\n",
       "Name: Company Name, Length: 320, dtype: int64"
      ]
     },
     "execution_count": 7,
     "metadata": {},
     "output_type": "execute_result"
    }
   ],
   "source": [
    "df['Company Name'].value_counts()"
   ]
  },
  {
   "cell_type": "code",
   "execution_count": 8,
   "metadata": {},
   "outputs": [],
   "source": [
    "#drop duplicate rows from the data\n",
    "df = df.drop_duplicates()"
   ]
  },
  {
   "cell_type": "code",
   "execution_count": 9,
   "metadata": {},
   "outputs": [],
   "source": [
    "df['Company Name'] = df['Company Name'].astype(str)"
   ]
  },
  {
   "cell_type": "code",
   "execution_count": 10,
   "metadata": {},
   "outputs": [],
   "source": [
    "# remove rating from company name\n",
    "df['Company Name'] = df['Company Name'].apply(lambda x: x.split('\\n')[0])"
   ]
  },
  {
   "cell_type": "markdown",
   "metadata": {},
   "source": [
    "# Location column\n",
    "Location India is vague but no other substitute"
   ]
  },
  {
   "cell_type": "code",
   "execution_count": 11,
   "metadata": {},
   "outputs": [
    {
     "data": {
      "text/plain": [
       "Bengaluru              188\n",
       "Hyderabad               57\n",
       "Chennai                 43\n",
       "Pune                    42\n",
       "Gurgaon                 34\n",
       "Mumbai                  33\n",
       "India                   15\n",
       "Noida                   13\n",
       "Kochi                    7\n",
       "Jaipur                   7\n",
       "New Delhi                7\n",
       "Ahmedabad                5\n",
       "Thiruvananthapuram       3\n",
       "Chandigarh               3\n",
       "SAS Nagar                2\n",
       "Kolkata                  2\n",
       "Kanpur Nagar             2\n",
       "Indore                   1\n",
       "Hiranandani Gardens      1\n",
       "Ernakulam                1\n",
       "Andheri                  1\n",
       "Chhota Udaipur           1\n",
       "Andhra Pradesh           1\n",
       "Tamil Nadu               1\n",
       "Vadodara                 1\n",
       "Kharar                   1\n",
       "Bagalur                  1\n",
       "Coimbatore               1\n",
       "Bhubaneswar              1\n",
       "Name: Location, dtype: int64"
      ]
     },
     "execution_count": 11,
     "metadata": {},
     "output_type": "execute_result"
    }
   ],
   "source": [
    "df['Location'].value_counts()"
   ]
  },
  {
   "cell_type": "markdown",
   "metadata": {},
   "source": [
    "# Company Age"
   ]
  },
  {
   "cell_type": "code",
   "execution_count": 12,
   "metadata": {},
   "outputs": [],
   "source": [
    "df['age'] = df.Founded.apply(lambda x: x if x<1 else 2020-x)"
   ]
  },
  {
   "cell_type": "markdown",
   "metadata": {},
   "source": [
    "# Job description parsing\n",
    "\n",
    "The job description in the data is huge hence we will parse out only the important part\n",
    "\n",
    "1.The most common tools required in data science field have the following keywords:\n",
    "    Python, R, AWS, Spark, database, R studio, Tableau, Tensorflow, NLTK, Power BI, Excel, Hadoop, Azure, scikit-learn\n",
    "\n",
    "2.It can be helpful to analyze if a bachelors degree is required"
   ]
  },
  {
   "cell_type": "code",
   "execution_count": 13,
   "metadata": {},
   "outputs": [
    {
     "name": "stdout",
     "output_type": "stream",
     "text": [
      "python\n",
      "1    279\n",
      "0    197\n",
      "Name: python, dtype: int64\n",
      "sas\n",
      "0    437\n",
      "1     39\n",
      "Name: sas, dtype: int64\n",
      "aws\n",
      "0    351\n",
      "1    125\n",
      "Name: aws, dtype: int64\n",
      "spark\n",
      "0    346\n",
      "1    130\n",
      "Name: spark, dtype: int64\n",
      "sql\n",
      "1    247\n",
      "0    229\n",
      "Name: sql, dtype: int64\n",
      "tableau\n",
      "0    407\n",
      "1     69\n",
      "Name: tableau, dtype: int64\n",
      "tensorflow\n",
      "0    410\n",
      "1     66\n",
      "Name: tensorflow, dtype: int64\n",
      "nltk\n",
      "0    460\n",
      "1     16\n",
      "Name: nltk, dtype: int64\n",
      "power bi\n",
      "0    452\n",
      "1     24\n",
      "Name: power bi, dtype: int64\n",
      "excel\n",
      "0    253\n",
      "1    223\n",
      "Name: excel, dtype: int64\n",
      "hadoop\n",
      "0    353\n",
      "1    123\n",
      "Name: hadoop, dtype: int64\n",
      "azure\n",
      "0    428\n",
      "1     48\n",
      "Name: azure, dtype: int64\n",
      "scikit-learn\n",
      "0    454\n",
      "1     22\n",
      "Name: scikit-learn, dtype: int64\n",
      "NLP\n",
      "0    476\n",
      "Name: NLP, dtype: int64\n"
     ]
    }
   ],
   "source": [
    "tools = ['python', 'sas', 'aws', 'spark', 'sql', 'tableau', 'tensorflow', 'nltk', 'power bi', 'excel', 'hadoop', 'azure', 'scikit-learn', 'NLP']\n",
    "for tool in tools:\n",
    "    df[tool] = df['Job Description'].apply(lambda x: 1 if tool in x.lower() else 0)\n",
    "    print(tool)\n",
    "    print(df[tool].value_counts())"
   ]
  },
  {
   "cell_type": "code",
   "execution_count": 14,
   "metadata": {},
   "outputs": [
    {
     "data": {
      "text/html": [
       "<div>\n",
       "<style scoped>\n",
       "    .dataframe tbody tr th:only-of-type {\n",
       "        vertical-align: middle;\n",
       "    }\n",
       "\n",
       "    .dataframe tbody tr th {\n",
       "        vertical-align: top;\n",
       "    }\n",
       "\n",
       "    .dataframe thead th {\n",
       "        text-align: right;\n",
       "    }\n",
       "</style>\n",
       "<table border=\"1\" class=\"dataframe\">\n",
       "  <thead>\n",
       "    <tr style=\"text-align: right;\">\n",
       "      <th></th>\n",
       "      <th>Company Name</th>\n",
       "      <th>Competitors</th>\n",
       "      <th>Founded</th>\n",
       "      <th>Headquarters</th>\n",
       "      <th>Industry</th>\n",
       "      <th>Job Description</th>\n",
       "      <th>Job Title</th>\n",
       "      <th>Location</th>\n",
       "      <th>Rating</th>\n",
       "      <th>Revenue</th>\n",
       "      <th>...</th>\n",
       "      <th>sql</th>\n",
       "      <th>tableau</th>\n",
       "      <th>tensorflow</th>\n",
       "      <th>nltk</th>\n",
       "      <th>power bi</th>\n",
       "      <th>excel</th>\n",
       "      <th>hadoop</th>\n",
       "      <th>azure</th>\n",
       "      <th>scikit-learn</th>\n",
       "      <th>NLP</th>\n",
       "    </tr>\n",
       "  </thead>\n",
       "  <tbody>\n",
       "    <tr>\n",
       "      <th>0</th>\n",
       "      <td>Punchh</td>\n",
       "      <td>-1</td>\n",
       "      <td>2010</td>\n",
       "      <td>-1</td>\n",
       "      <td>Enterprise Software &amp; Network Solutions</td>\n",
       "      <td>Punchh creates the consistent, modern experien...</td>\n",
       "      <td>Data Analyst</td>\n",
       "      <td>Jaipur</td>\n",
       "      <td>4.2</td>\n",
       "      <td>$50 to $100 million (USD)</td>\n",
       "      <td>...</td>\n",
       "      <td>1</td>\n",
       "      <td>1</td>\n",
       "      <td>0</td>\n",
       "      <td>0</td>\n",
       "      <td>1</td>\n",
       "      <td>0</td>\n",
       "      <td>0</td>\n",
       "      <td>0</td>\n",
       "      <td>0</td>\n",
       "      <td>0</td>\n",
       "    </tr>\n",
       "    <tr>\n",
       "      <th>1</th>\n",
       "      <td>Gensuite, LLC</td>\n",
       "      <td>-1</td>\n",
       "      <td>2008</td>\n",
       "      <td>-1</td>\n",
       "      <td>Computer Hardware &amp; Software</td>\n",
       "      <td>Associate Data Analyst\\n\\nFull Time\\nBangalore...</td>\n",
       "      <td>Associate Data Analyst</td>\n",
       "      <td>Bengaluru</td>\n",
       "      <td>3.4</td>\n",
       "      <td>$10 to $25 million (USD)</td>\n",
       "      <td>...</td>\n",
       "      <td>1</td>\n",
       "      <td>1</td>\n",
       "      <td>0</td>\n",
       "      <td>0</td>\n",
       "      <td>0</td>\n",
       "      <td>1</td>\n",
       "      <td>0</td>\n",
       "      <td>0</td>\n",
       "      <td>0</td>\n",
       "      <td>0</td>\n",
       "    </tr>\n",
       "    <tr>\n",
       "      <th>2</th>\n",
       "      <td>GroundTruth</td>\n",
       "      <td>-1</td>\n",
       "      <td>2009</td>\n",
       "      <td>-1</td>\n",
       "      <td>-1</td>\n",
       "      <td>Role: Junior Data Analyst\\n\\nLocation: Gurgaon...</td>\n",
       "      <td>Junior Data Analyst</td>\n",
       "      <td>Gurgaon</td>\n",
       "      <td>3.4</td>\n",
       "      <td>Less than $1 million (USD)</td>\n",
       "      <td>...</td>\n",
       "      <td>1</td>\n",
       "      <td>1</td>\n",
       "      <td>0</td>\n",
       "      <td>0</td>\n",
       "      <td>0</td>\n",
       "      <td>1</td>\n",
       "      <td>0</td>\n",
       "      <td>0</td>\n",
       "      <td>0</td>\n",
       "      <td>0</td>\n",
       "    </tr>\n",
       "    <tr>\n",
       "      <th>3</th>\n",
       "      <td>Amazon.com, Inc.</td>\n",
       "      <td>-1</td>\n",
       "      <td>1994</td>\n",
       "      <td>-1</td>\n",
       "      <td>Internet</td>\n",
       "      <td>Amazon Indias Supply Chain &amp; Analytics team is...</td>\n",
       "      <td>Data Analyst Support</td>\n",
       "      <td>Bengaluru</td>\n",
       "      <td>4.3</td>\n",
       "      <td>$10+ billion (USD)</td>\n",
       "      <td>...</td>\n",
       "      <td>1</td>\n",
       "      <td>1</td>\n",
       "      <td>0</td>\n",
       "      <td>0</td>\n",
       "      <td>0</td>\n",
       "      <td>1</td>\n",
       "      <td>0</td>\n",
       "      <td>0</td>\n",
       "      <td>0</td>\n",
       "      <td>0</td>\n",
       "    </tr>\n",
       "    <tr>\n",
       "      <th>4</th>\n",
       "      <td>Amazon.com, Inc.</td>\n",
       "      <td>-1</td>\n",
       "      <td>1994</td>\n",
       "      <td>-1</td>\n",
       "      <td>Internet</td>\n",
       "      <td>Amazon's Marketplace Trust team works to ensur...</td>\n",
       "      <td>Data Analyst</td>\n",
       "      <td>Bengaluru</td>\n",
       "      <td>4.3</td>\n",
       "      <td>$10+ billion (USD)</td>\n",
       "      <td>...</td>\n",
       "      <td>1</td>\n",
       "      <td>1</td>\n",
       "      <td>0</td>\n",
       "      <td>0</td>\n",
       "      <td>0</td>\n",
       "      <td>1</td>\n",
       "      <td>0</td>\n",
       "      <td>0</td>\n",
       "      <td>0</td>\n",
       "      <td>0</td>\n",
       "    </tr>\n",
       "  </tbody>\n",
       "</table>\n",
       "<p>5 rows × 32 columns</p>\n",
       "</div>"
      ],
      "text/plain": [
       "       Company Name Competitors  Founded Headquarters  \\\n",
       "0            Punchh          -1     2010           -1   \n",
       "1     Gensuite, LLC          -1     2008           -1   \n",
       "2       GroundTruth          -1     2009           -1   \n",
       "3  Amazon.com, Inc.          -1     1994           -1   \n",
       "4  Amazon.com, Inc.          -1     1994           -1   \n",
       "\n",
       "                                  Industry  \\\n",
       "0  Enterprise Software & Network Solutions   \n",
       "1             Computer Hardware & Software   \n",
       "2                                       -1   \n",
       "3                                 Internet   \n",
       "4                                 Internet   \n",
       "\n",
       "                                     Job Description               Job Title  \\\n",
       "0  Punchh creates the consistent, modern experien...            Data Analyst   \n",
       "1  Associate Data Analyst\\n\\nFull Time\\nBangalore...  Associate Data Analyst   \n",
       "2  Role: Junior Data Analyst\\n\\nLocation: Gurgaon...     Junior Data Analyst   \n",
       "3  Amazon Indias Supply Chain & Analytics team is...    Data Analyst Support   \n",
       "4  Amazon's Marketplace Trust team works to ensur...            Data Analyst   \n",
       "\n",
       "    Location  Rating                     Revenue  ... sql tableau tensorflow  \\\n",
       "0     Jaipur     4.2   $50 to $100 million (USD)  ...   1       1          0   \n",
       "1  Bengaluru     3.4    $10 to $25 million (USD)  ...   1       1          0   \n",
       "2    Gurgaon     3.4  Less than $1 million (USD)  ...   1       1          0   \n",
       "3  Bengaluru     4.3          $10+ billion (USD)  ...   1       1          0   \n",
       "4  Bengaluru     4.3          $10+ billion (USD)  ...   1       1          0   \n",
       "\n",
       "  nltk  power bi  excel  hadoop  azure  scikit-learn  NLP  \n",
       "0    0         1      0       0      0             0    0  \n",
       "1    0         0      1       0      0             0    0  \n",
       "2    0         0      1       0      0             0    0  \n",
       "3    0         0      1       0      0             0    0  \n",
       "4    0         0      1       0      0             0    0  \n",
       "\n",
       "[5 rows x 32 columns]"
      ]
     },
     "execution_count": 14,
     "metadata": {},
     "output_type": "execute_result"
    }
   ],
   "source": [
    "df.head()"
   ]
  },
  {
   "cell_type": "code",
   "execution_count": 15,
   "metadata": {},
   "outputs": [
    {
     "data": {
      "text/plain": [
       "0    372\n",
       "1    104\n",
       "Name: r_prog, dtype: int64"
      ]
     },
     "execution_count": 15,
     "metadata": {},
     "output_type": "execute_result"
    }
   ],
   "source": [
    "# for R programming \n",
    "def r_programming(jd):\n",
    "    if 'R programming' in jd or 'R language' in jd or 'R,' in jd or 'R/' in jd:\n",
    "        return 1\n",
    "    else:\n",
    "        return 0\n",
    "    \n",
    "df['r_prog'] = df['Job Description'].apply(r_programming)\n",
    "df['r_prog'].value_counts()\n",
    "        "
   ]
  },
  {
   "cell_type": "code",
   "execution_count": 16,
   "metadata": {},
   "outputs": [
    {
     "data": {
      "text/plain": [
       "Index(['Company Name', 'Competitors', 'Founded', 'Headquarters', 'Industry',\n",
       "       'Job Description', 'Job Title', 'Location', 'Rating', 'Revenue',\n",
       "       'Salary Estimate', 'Sector', 'Size', 'Type of ownership', 'avg_salary',\n",
       "       'min_salary', 'max_salary', 'age', 'python', 'sas', 'aws', 'spark',\n",
       "       'sql', 'tableau', 'tensorflow', 'nltk', 'power bi', 'excel', 'hadoop',\n",
       "       'azure', 'scikit-learn', 'NLP', 'r_prog'],\n",
       "      dtype='object')"
      ]
     },
     "execution_count": 16,
     "metadata": {},
     "output_type": "execute_result"
    }
   ],
   "source": [
    "df.columns"
   ]
  },
  {
   "cell_type": "code",
   "execution_count": 17,
   "metadata": {},
   "outputs": [
    {
     "data": {
      "text/plain": [
       "0    447\n",
       "1     29\n",
       "Name: degree_req, dtype: int64"
      ]
     },
     "execution_count": 17,
     "metadata": {},
     "output_type": "execute_result"
    }
   ],
   "source": [
    "df['degree_req'] = df['Job Description'].apply(lambda x: 1 if \"bachelor's degree\" in x.lower() else 0)\n",
    "df['degree_req'].value_counts()"
   ]
  },
  {
   "cell_type": "markdown",
   "metadata": {},
   "source": [
    "# Job title simplification\n",
    "we basically split the job titles into different broad categories\n",
    "1. Data scientist\n",
    "2. Data analyst\n",
    "3. Machine learning Engineer\n",
    "4. Big data engineer\n",
    "5. Data engineer\n",
    "6. NLP engineer\n",
    "7. AI engineer\n",
    "8. manager\n",
    "9. director\n",
    "10. business analyst"
   ]
  },
  {
   "cell_type": "code",
   "execution_count": 18,
   "metadata": {},
   "outputs": [
    {
     "data": {
      "text/plain": [
       "Data Analyst                                                77\n",
       "Data Scientist                                              48\n",
       "Data Engineer                                               39\n",
       "Machine Learning Engineer                                   37\n",
       "Business Analyst                                            36\n",
       "                                                            ..\n",
       "Applied Scientist II                                         1\n",
       "Technical & Business Operations Analyst                      1\n",
       "EOPS Data Analyst                                            1\n",
       "Associate - Business Analyst - Data Lifecycle Management     1\n",
       "Machine Learning Engineer - Bangalore/Mumbai/                1\n",
       "Name: Job Title, Length: 203, dtype: int64"
      ]
     },
     "execution_count": 18,
     "metadata": {},
     "output_type": "execute_result"
    }
   ],
   "source": [
    "df['Job Title'].value_counts()"
   ]
  },
  {
   "cell_type": "code",
   "execution_count": 19,
   "metadata": {},
   "outputs": [],
   "source": [
    "def job_simplifier(job_title):\n",
    "    if 'data scientist' in job_title.lower():\n",
    "        return 'data scientist'\n",
    "    elif 'data analyst' in job_title.lower():\n",
    "        return 'data analyst'\n",
    "    elif 'machine learning engineer' or 'ml engineer' or 'machine learning' in job_title.lower():\n",
    "        return 'MLE'\n",
    "    elif 'big data engineer' or 'big data' in job_title.lower():\n",
    "        return 'BDE'\n",
    "    elif 'data engineer' in job_title.lower():\n",
    "        return 'data engineer'\n",
    "    elif 'nlp engineer' in job_title.lower():\n",
    "        return 'NLPE'\n",
    "    elif 'ai engineer' in job_title.lower():\n",
    "        return 'AIE'\n",
    "    elif 'manager' in job_title.lower():\n",
    "        return 'manager'\n",
    "    elif 'director' in job_title.lower():\n",
    "        return 'director'\n",
    "    elif 'business analyst' in job_title.lower():\n",
    "        return 'BA'\n",
    "    elif 'software engineer' in job_title.lower():\n",
    "        return 'software engineer'\n",
    "    elif 'deep learning engineer' in job_title.lower():\n",
    "        return 'DLE'\n",
    "    else:\n",
    "        return 'na'"
   ]
  },
  {
   "cell_type": "code",
   "execution_count": 20,
   "metadata": {},
   "outputs": [],
   "source": [
    "# remove rows with blank job title\n",
    "df.drop(df.index[100], inplace=True)"
   ]
  },
  {
   "cell_type": "code",
   "execution_count": 21,
   "metadata": {},
   "outputs": [
    {
     "data": {
      "text/plain": [
       "na                129\n",
       "data analyst       97\n",
       "data scientist     67\n",
       "data engineer      51\n",
       "BA                 49\n",
       "MLE                45\n",
       "BDE                26\n",
       "AIE                 6\n",
       "manager             5\n",
       "Name: job_simplifier, dtype: int64"
      ]
     },
     "execution_count": 21,
     "metadata": {},
     "output_type": "execute_result"
    }
   ],
   "source": [
    "df['job_simplifier'] = df['Job Title'].apply(job_simplifier)\n",
    "df['job_simplifier'].value_counts()"
   ]
  },
  {
   "cell_type": "markdown",
   "metadata": {},
   "source": [
    "# Convert dataframe to csv"
   ]
  },
  {
   "cell_type": "code",
   "execution_count": 22,
   "metadata": {},
   "outputs": [],
   "source": [
    "df.to_csv('csv_files/salary_data_cleaned.csv')"
   ]
  }
 ],
 "metadata": {
  "kernelspec": {
   "display_name": "Python 3",
   "language": "python",
   "name": "python3"
  },
  "language_info": {
   "codemirror_mode": {
    "name": "ipython",
    "version": 3
   },
   "file_extension": ".py",
   "mimetype": "text/x-python",
   "name": "python",
   "nbconvert_exporter": "python",
   "pygments_lexer": "ipython3",
   "version": "3.7.6"
  }
 },
 "nbformat": 4,
 "nbformat_minor": 4
}
